{
 "cells": [
  {
   "cell_type": "markdown",
   "metadata": {},
   "source": [
    "# Asset Management & Sustainable Finance\n",
    "- Sarahnour Ghaith\n",
    "- Thomas Roiseux"
   ]
  },
  {
   "cell_type": "code",
   "execution_count": 1,
   "metadata": {},
   "outputs": [],
   "source": [
    "import cvxpy as cp\n",
    "import numpy as np\n",
    "\n",
    "import matplotlib.pyplot as plt\n",
    "from scipy.stats import norm\n",
    "\n",
    "from typing import Dict, Callable\n",
    "\n",
    "import warnings\n",
    "\n",
    "warnings.filterwarnings(\"ignore\")"
   ]
  },
  {
   "cell_type": "markdown",
   "metadata": {},
   "source": [
    "## Exercise 1 - Portfolio optimization and risk budgeting"
   ]
  },
  {
   "cell_type": "code",
   "execution_count": 2,
   "metadata": {},
   "outputs": [],
   "source": [
    "corr_mat = np.array(\n",
    "    [\n",
    "        [1, 0.5, 0.3, 0.6, 0.4],\n",
    "        [0.5, 1, 0.3, 0.6, 0.3],\n",
    "        [0.3, 0.3, 1, 0.6, 0.7],\n",
    "        [0.6, 0.6, 0.6, 1, 0.3],\n",
    "        [0.4, 0.3, 0.7, 0.3, 1],\n",
    "    ],\n",
    "    dtype=np.float64,\n",
    ")\n",
    "\n",
    "r = 0.02  # risk free rate\n",
    "\n",
    "mu = np.array([0.05, 0.05, 0.06, 0.04, 0.07], dtype=np.float64).T\n",
    "sigma = np.array([0.2, 0.22, 0.25, 0.18, 0.45], dtype=np.float64).T"
   ]
  },
  {
   "cell_type": "markdown",
   "metadata": {},
   "source": [
    "### Question 1.a"
   ]
  },
  {
   "cell_type": "code",
   "execution_count": 3,
   "metadata": {},
   "outputs": [
    {
     "name": "stdout",
     "output_type": "stream",
     "text": [
      "[[0.04    0.022   0.015   0.0216  0.036  ]\n",
      " [0.022   0.0484  0.0165  0.02376 0.0297 ]\n",
      " [0.015   0.0165  0.0625  0.027   0.07875]\n",
      " [0.0216  0.02376 0.027   0.0324  0.0243 ]\n",
      " [0.036   0.0297  0.07875 0.0243  0.2025 ]]\n"
     ]
    }
   ],
   "source": [
    "cov_mat = np.zeros_like(corr_mat)  # Covariance matrix\n",
    "\n",
    "for i in range(len(cov_mat)):\n",
    "    for j in range(i, len(cov_mat)):\n",
    "        cov_mat[i, j] = corr_mat[i, j] * sigma[i] * sigma[j]\n",
    "        cov_mat[j, i] = cov_mat[i, j]\n",
    "\n",
    "\n",
    "print(cov_mat)"
   ]
  },
  {
   "cell_type": "markdown",
   "metadata": {},
   "source": [
    "### Question 1.b"
   ]
  },
  {
   "cell_type": "code",
   "execution_count": 4,
   "metadata": {},
   "outputs": [
    {
     "name": "stdout",
     "output_type": "stream",
     "text": [
      "Sharpe ratio for asset 1 : 0.15\n",
      "Sharpe ratio for asset 2 : 0.13636363636363638\n",
      "Sharpe ratio for asset 3 : 0.15999999999999998\n",
      "Sharpe ratio for asset 4 : 0.11111111111111112\n",
      "Sharpe ratio for asset 5 : 0.11111111111111112\n"
     ]
    }
   ],
   "source": [
    "sr = (mu - r) / sigma  # Sharpe ratio\n",
    "\n",
    "for k in range(len(mu)):\n",
    "    print(\"Sharpe ratio for asset\", k + 1, \":\", sr[k])"
   ]
  },
  {
   "cell_type": "markdown",
   "metadata": {},
   "source": [
    "### Question 2.b"
   ]
  },
  {
   "cell_type": "code",
   "execution_count": 5,
   "metadata": {},
   "outputs": [],
   "source": [
    "def solve_qp_problem(gamma: float) -> np.ndarray:\n",
    "    \"\"\"Solver for the quadratic programming problem\n",
    "\n",
    "    Args:\n",
    "        gamma (float): gamma parameter\n",
    "\n",
    "    Returns:\n",
    "        np.ndarray: optimal portfolio weights\n",
    "    \"\"\"\n",
    "    x = cp.Variable(len(mu), \"x\")  # Portfolio weights\n",
    "\n",
    "    objective = cp.Minimize(\n",
    "        0.5 * cp.quad_form(x, cov_mat) - gamma * cp.matmul(mu - r, x)\n",
    "    )\n",
    "    constraints = [cp.sum(x) == 1, -10 <= x, x <= 10]\n",
    "    problem = cp.Problem(objective, constraints)\n",
    "\n",
    "    problem.solve()\n",
    "\n",
    "    return x.value"
   ]
  },
  {
   "cell_type": "code",
   "execution_count": 6,
   "metadata": {},
   "outputs": [
    {
     "name": "stdout",
     "output_type": "stream",
     "text": [
      "Optimal portfolio for gamma = 0 : [ 0.4232086   0.22380017  0.35945672  0.13351214 -0.13997763]\n",
      "Optimal portfolio for gamma = 0.1 : [ 0.4619031   0.25313103  0.43093838  0.00774967 -0.15372218]\n",
      "Optimal portfolio for gamma = 0.2 : [ 0.50059759  0.28246189  0.50242003 -0.1180128  -0.16746672]\n",
      "Optimal portfolio for gamma = 0.5 : [ 0.61668108  0.37045447  0.716865   -0.49530021 -0.20870035]\n",
      "Optimal portfolio for gamma = 1 : [ 0.81015355  0.51710878  1.07427329 -1.12411255 -0.27742307]\n"
     ]
    }
   ],
   "source": [
    "optimal_x: Dict[float, np.ndarray] = {}\n",
    "gammas = [0, 0.1, 0.2, 0.5, 1]\n",
    "\n",
    "for gamma in gammas:\n",
    "    sol = solve_qp_problem(gamma)\n",
    "    print(\"Optimal portfolio for gamma =\", gamma, \":\", sol)\n",
    "    optimal_x[gamma] = sol"
   ]
  },
  {
   "cell_type": "code",
   "execution_count": 7,
   "metadata": {},
   "outputs": [
    {
     "name": "stdout",
     "output_type": "stream",
     "text": [
      "Gamma: 0\n",
      "  Expected return: 0.049459893213341655\n",
      "  Volatility: 0.025088466131177472\n",
      "  Sharpe ratio: 1.1742405079412888\n",
      "Gamma: 0.1\n",
      "  Expected return: 0.05115744358160653\n",
      "  Volatility: 0.025258221168003973\n",
      "  Sharpe ratio: 1.2335565269764697\n",
      "Gamma: 0.2\n",
      "  Expected return: 0.05285499394987142\n",
      "  Volatility: 0.025767486278483423\n",
      "  Sharpe ratio: 1.2750562315155383\n",
      "Gamma: 0.5\n",
      "  Expected return: 0.05794764505466612\n",
      "  Volatility: 0.029332342051839707\n",
      "  Sharpe ratio: 1.293713437120036\n",
      "Gamma: 1\n",
      "  Expected return: 0.0664353968959906\n",
      "  Volatility: 0.042063969813826395\n",
      "  Sharpe ratio: 1.1039233125525711\n"
     ]
    }
   ],
   "source": [
    "for gamma, sol in optimal_x.items():\n",
    "    print(\"Gamma:\", gamma)\n",
    "    expected_return = np.dot(sol.T, mu)\n",
    "    volatility = sol.T.dot(cov_mat).dot(sol)\n",
    "    sharpe_ratio = (expected_return - r) / volatility\n",
    "    print(\"  Expected return:\", expected_return)\n",
    "    print(\"  Volatility:\", volatility)\n",
    "    print(\"  Sharpe ratio:\", sharpe_ratio)"
   ]
  },
  {
   "cell_type": "markdown",
   "metadata": {},
   "source": [
    "### Question 2.c"
   ]
  },
  {
   "cell_type": "code",
   "execution_count": 8,
   "metadata": {},
   "outputs": [],
   "source": [
    "precise_gammas = np.linspace(-10, 10, 500)\n",
    "\n",
    "solutions = [solve_qp_problem(gamma) for gamma in precise_gammas]\n",
    "returns = np.array([np.dot(sol.T, mu) * 100 for sol in solutions])\n",
    "volatilities = np.array([sol.T.dot(cov_mat).dot(sol) * 100 for sol in solutions])"
   ]
  },
  {
   "cell_type": "code",
   "execution_count": 9,
   "metadata": {},
   "outputs": [
    {
     "data": {
      "image/png": "[encoded data removed]",
      "text/plain": [
       "<Figure size 1000x600 with 1 Axes>"
      ]
     },
     "metadata": {},
     "output_type": "display_data"
    }
   ],
   "source": [
    "plt.figure(figsize=(10, 6))\n",
    "plt.plot(\n",
    "    volatilities,\n",
    "    returns,\n",
    "    label=\"Efficient frontier\",\n",
    ")\n",
    "plt.legend()\n",
    "plt.grid(visible=True)\n",
    "plt.xlabel(\"Volatility (in %)\")\n",
    "plt.ylabel(\"Expected return (in %)\")\n",
    "plt.title(\"Efficient frontier\")\n",
    "plt.show()"
   ]
  },
  {
   "cell_type": "markdown",
   "metadata": {},
   "source": [
    "### Question 2.d"
   ]
  },
  {
   "cell_type": "code",
   "execution_count": 10,
   "metadata": {},
   "outputs": [],
   "source": [
    "def bisection_algorithm(\n",
    "    f: Callable[[float], float],\n",
    "    a: float,\n",
    "    b: float,\n",
    "    target: float,\n",
    "    /,\n",
    "    tol: float = 10**-5,\n",
    "    *,\n",
    "    max_iter: int = 100,\n",
    ") -> float:\n",
    "    \"\"\"Bisection algorithm\n",
    "\n",
    "    Args:\n",
    "        f (function): function to find the root of\n",
    "        a (float): left bound\n",
    "        b (float): right bound\n",
    "        target (float): target value\n",
    "        tol (float, optional): tolerance. Defaults to 10**-5.\n",
    "        max_iter (int, optional): maximum number of iterations. Defaults to 100.\n",
    "\n",
    "    Returns:\n",
    "        float: root of the function\n",
    "    \"\"\"\n",
    "    if b - a < 0:\n",
    "        a, b = b, a\n",
    "\n",
    "    gamma_bar = (a + b) / 2\n",
    "\n",
    "    if b - a < tol or max_iter == 0:\n",
    "        return gamma_bar\n",
    "\n",
    "    f_bar = f(gamma_bar)\n",
    "\n",
    "    if f_bar < target:\n",
    "        a = gamma_bar\n",
    "    else:\n",
    "        b = gamma_bar\n",
    "\n",
    "    return bisection_algorithm(f, a, b, target, tol=tol, max_iter=max_iter - 1)"
   ]
  },
  {
   "cell_type": "code",
   "execution_count": 11,
   "metadata": {},
   "outputs": [
    {
     "name": "stdout",
     "output_type": "stream",
     "text": [
      "Gamma for target volatility of 16 : 2.8191179037094116\n",
      "  Expected return: 9.731583956958229\n",
      "  Volatility: 16.000002130301258\n",
      "  Sharpe ratio: 0.004832239329716047\n",
      "Gamma for target volatility of 20 : 3.209945559501648\n",
      "  Expected return: 10.39503358797646\n",
      "  Volatility: 19.99998206035408\n",
      "  Sharpe ratio: 0.004197520559089858\n"
     ]
    }
   ],
   "source": [
    "targets = (16, 20)\n",
    "\n",
    "\n",
    "def volatilities_function(gamma: float) -> float:\n",
    "    sol = solve_qp_problem(gamma)\n",
    "    return sol.T.dot(cov_mat).dot(sol) * 100\n",
    "\n",
    "\n",
    "for target in targets:\n",
    "    gamma = bisection_algorithm(\n",
    "        volatilities_function,\n",
    "        0,\n",
    "        100,\n",
    "        target,\n",
    "    )\n",
    "    print(\"Gamma for target volatility of\", target, \":\", gamma)\n",
    "    print(\"  Expected return:\", np.dot(solve_qp_problem(gamma).T, mu) * 100)\n",
    "    print(\"  Volatility:\", volatilities_function(gamma))\n",
    "    print(\n",
    "        \"  Sharpe ratio:\",\n",
    "        (np.dot(solve_qp_problem(gamma).T, mu) - r) / volatilities_function(gamma),\n",
    "    )"
   ]
  },
  {
   "cell_type": "markdown",
   "metadata": {},
   "source": [
    "### Question 2.e"
   ]
  },
  {
   "cell_type": "code",
   "execution_count": 12,
   "metadata": {},
   "outputs": [
    {
     "name": "stdout",
     "output_type": "stream",
     "text": [
      "Optimal portfolio for maximum Sharpe ratio: [ 0.57054235  0.3354808   0.63163137 -0.34534295 -0.19231157]\n",
      "Maximum Sharpe ratio: 1.3039593883372305\n",
      "Expected return (in %): 5.59235118500216\n",
      "Volatility (in %): 2.7549563407668836\n"
     ]
    }
   ],
   "source": [
    "sharpe_ratios = (returns - r * 100) / volatilities  # Converting r into %\n",
    "\n",
    "i = np.argmax(sharpe_ratios)\n",
    "tp = solve_qp_problem(precise_gammas[i])\n",
    "print(\"Optimal portfolio for maximum Sharpe ratio:\", tp)\n",
    "print(\"Maximum Sharpe ratio:\", sharpe_ratios[i])\n",
    "print(\"Expected return (in %):\", returns[i])\n",
    "print(\"Volatility (in %):\", volatilities[i])"
   ]
  },
  {
   "cell_type": "markdown",
   "metadata": {},
   "source": [
    "### Question 2.f\n",
    "The analytical solutoin can be found by maximizing the Sharpe Ratio. This is exactly what we did in the previous question so we will have the same answer.\n",
    "\n",
    "### Question 3.a"
   ]
  },
  {
   "cell_type": "code",
   "execution_count": 13,
   "metadata": {},
   "outputs": [],
   "source": [
    "def solve_long_only_qp_problem(gamma: float) -> np.ndarray:\n",
    "    \"\"\"Solver for the quadratic programming problem\n",
    "\n",
    "    Args:\n",
    "        gamma (float): gamma parameter\n",
    "\n",
    "    Returns:\n",
    "        np.ndarray: optimal portfolio weights\n",
    "    \"\"\"\n",
    "    x = cp.Variable(len(mu), \"x\")  # Portfolio weights\n",
    "\n",
    "    objective = cp.Minimize(\n",
    "        0.5 * cp.quad_form(x, cov_mat) - gamma * cp.matmul(mu - r, x)\n",
    "    )\n",
    "    constraints = [cp.sum(x) == 1, 0 <= x, x <= 1]\n",
    "    problem = cp.Problem(objective, constraints)\n",
    "\n",
    "    problem.solve()\n",
    "\n",
    "    return x.value"
   ]
  },
  {
   "cell_type": "code",
   "execution_count": 14,
   "metadata": {},
   "outputs": [
    {
     "name": "stdout",
     "output_type": "stream",
     "text": [
      "Optimal portfolio for gamma = 0 : [3.19956370e-01 1.81068078e-01 1.49651205e-01 3.49324346e-01\n",
      " 2.50192363e-21]\n",
      "Gamma: 0\n",
      "  Expected return (in %): 4.800326858216735\n",
      "  Volatility (in %): 2.6571926496245895\n",
      "  Sharpe ratio: 1.0538667034971543\n",
      "Optimal portfolio for gamma = 0.1 : [ 3.48512425e-01  2.06203032e-01  2.00531847e-01  2.44752696e-01\n",
      " -2.91198534e-24]\n",
      "Gamma: 0.1\n",
      "  Expected return (in %): 4.955779151497759\n",
      "  Volatility (in %): 2.672737878952692\n",
      "  Sharpe ratio: 1.1058993756080475\n",
      "Optimal portfolio for gamma = 0.2 : [3.77068479e-01 2.31337986e-01 2.51412490e-01 1.40181045e-01\n",
      " 7.33424721e-24]\n",
      "Gamma: 0.2\n",
      "  Expected return (in %): 5.111231444778782\n",
      "  Volatility (in %): 2.719373566936999\n",
      "  Sharpe ratio: 1.1440985830729968\n",
      "Optimal portfolio for gamma = 0.5 : [ 4.00792602e-01  2.53632761e-01  3.45574637e-01 -3.19780001e-23\n",
      " -1.00028265e-24]\n",
      "Gamma: 0.5\n",
      "  Expected return (in %): 5.345574636723911\n",
      "  Volatility (in %): 2.8523117569352707\n",
      "  Sharpe ratio: 1.1729344201556133\n",
      "Optimal portfolio for gamma = 1 : [ 3.56935271e-01  2.19286658e-01  4.23778071e-01 -4.87671390e-23\n",
      " -4.67380445e-23]\n",
      "Gamma: 1\n",
      "  Expected return (in %): 5.4237780713342145\n",
      "  Volatility (in %): 2.969616908850727\n",
      "  Sharpe ratio: 1.1529359430604982\n"
     ]
    }
   ],
   "source": [
    "for gamma in gammas:\n",
    "    sol = solve_long_only_qp_problem(gamma)\n",
    "    print(\"Optimal portfolio for gamma =\", gamma, \":\", sol)\n",
    "    print(\"Gamma:\", gamma)\n",
    "    expected_return = np.dot(sol.T, mu)\n",
    "    volatility = sol.T.dot(cov_mat).dot(sol)\n",
    "    sharpe_ratio = (expected_return - r) / volatility\n",
    "    print(\"  Expected return (in %):\", expected_return * 100)\n",
    "    print(\"  Volatility (in %):\", volatility * 100)\n",
    "    print(\"  Sharpe ratio:\", sharpe_ratio)"
   ]
  },
  {
   "cell_type": "markdown",
   "metadata": {},
   "source": [
    "### Question 3.b"
   ]
  },
  {
   "cell_type": "code",
   "execution_count": 15,
   "metadata": {},
   "outputs": [],
   "source": [
    "long_solutions = [solve_long_only_qp_problem(gamma) for gamma in precise_gammas]\n",
    "long_returns = np.array([np.dot(sol.T, mu) * 100 for sol in long_solutions])\n",
    "long_volatilities = np.array(\n",
    "    [sol.T.dot(cov_mat).dot(sol) * 100 for sol in long_solutions]\n",
    ")"
   ]
  },
  {
   "cell_type": "code",
   "execution_count": 16,
   "metadata": {},
   "outputs": [
    {
     "data": {
      "image/png": "[encoded data removed]",
      "text/plain": [
       "<Figure size 1000x600 with 1 Axes>"
      ]
     },
     "metadata": {},
     "output_type": "display_data"
    }
   ],
   "source": [
    "plt.figure(figsize=(10, 6))\n",
    "plt.plot(\n",
    "    volatilities,\n",
    "    returns,\n",
    "    label=\"Efficient frontier long long/short\",\n",
    ")\n",
    "plt.plot(\n",
    "    long_volatilities,\n",
    "    long_returns,\n",
    "    label=\"Efficient frontier long only\",\n",
    ")\n",
    "plt.legend()\n",
    "plt.grid(visible=True)\n",
    "plt.xlabel(\"Volatility (in %)\")\n",
    "plt.ylabel(\"Expected return (in %)\")\n",
    "plt.title(\"Efficient frontier\")\n",
    "plt.show()"
   ]
  },
  {
   "cell_type": "markdown",
   "metadata": {},
   "source": [
    "### Question 3.c"
   ]
  },
  {
   "cell_type": "code",
   "execution_count": 17,
   "metadata": {},
   "outputs": [
    {
     "name": "stdout",
     "output_type": "stream",
     "text": [
      "Gamma for target volatility of 16 : 2.8191179037094116\n",
      "  Expected return: 5.816924481736914\n",
      "  Volatility: 16.000002130301258\n",
      "  Sharpe ratio: 0.004832239329716047\n",
      "Gamma for target volatility of 20 : 3.209945559501648\n",
      "  Expected return: 5.916429351681867\n",
      "  Volatility: 19.99998206035408\n",
      "  Sharpe ratio: 0.004197520559089858\n"
     ]
    }
   ],
   "source": [
    "for target in targets:\n",
    "    gamma = bisection_algorithm(\n",
    "        volatilities_function,\n",
    "        0,\n",
    "        100,\n",
    "        target,\n",
    "    )\n",
    "    print(\"Gamma for target volatility of\", target, \":\", gamma)\n",
    "    print(\"  Expected return:\", np.dot(solve_long_only_qp_problem(gamma).T, mu) * 100)\n",
    "    print(\"  Volatility:\", volatilities_function(gamma))\n",
    "    print(\n",
    "        \"  Sharpe ratio:\",\n",
    "        (np.dot(solve_qp_problem(gamma).T, mu) - r) / volatilities_function(gamma),\n",
    "    )"
   ]
  },
  {
   "cell_type": "markdown",
   "metadata": {},
   "source": [
    "### Question 3.d"
   ]
  },
  {
   "cell_type": "code",
   "execution_count": 18,
   "metadata": {},
   "outputs": [
    {
     "name": "stdout",
     "output_type": "stream",
     "text": [
      "Optimal portfolio for maximum Sharpe ratio: [ 4.07735947e-01  2.59070320e-01  3.33193732e-01 -3.54752250e-23\n",
      " -1.12433360e-23]\n",
      "Maximum Sharpe ratio: 1.1732834449458196\n",
      "Expected return (in %): 5.660389275914579\n",
      "Volatility (in %): 2.809495892600486\n"
     ]
    }
   ],
   "source": [
    "sharpe_ratios = (long_returns - r * 100) / long_volatilities  # Converting r into %\n",
    "\n",
    "i = np.argmax(sharpe_ratios)\n",
    "tp = solve_long_only_qp_problem(precise_gammas[i])\n",
    "print(\"Optimal portfolio for maximum Sharpe ratio:\", tp)\n",
    "print(\"Maximum Sharpe ratio:\", sharpe_ratios[i])\n",
    "print(\"Expected return (in %):\", returns[i])\n",
    "print(\"Volatility (in %):\", volatilities[i])"
   ]
  },
  {
   "cell_type": "markdown",
   "metadata": {},
   "source": [
    "### Question 3.e"
   ]
  },
  {
   "cell_type": "code",
   "execution_count": 19,
   "metadata": {},
   "outputs": [
    {
     "name": "stdout",
     "output_type": "stream",
     "text": [
      "Beta for asset 1 : 0.9506419539705683\n",
      "Beta for asset 2 : 0.9506419539705684\n",
      "Beta for asset 3 : 1.098778131973197\n",
      "Beta for asset 4 : 0.8433505609808085\n",
      "Beta for asset 5 : 1.71113740198504\n"
     ]
    }
   ],
   "source": [
    "beta = cov_mat.dot(tp) / tp.T.dot(cov_mat).dot(tp)\n",
    "\n",
    "for i, value in enumerate(beta):\n",
    "    print(\"Beta for asset\", i + 1, \":\", value)"
   ]
  },
  {
   "cell_type": "markdown",
   "metadata": {},
   "source": [
    "### Question 4.a-d\n",
    "Theoretical questions, no code needed.\n",
    "### Question 4.e"
   ]
  },
  {
   "cell_type": "code",
   "execution_count": null,
   "metadata": {},
   "outputs": [],
   "source": []
  },
  {
   "cell_type": "markdown",
   "metadata": {},
   "source": [
    "## Equity portfolio optimization with net zero objectives\n",
    "### Question 1.a"
   ]
  },
  {
   "cell_type": "code",
   "execution_count": 20,
   "metadata": {},
   "outputs": [
    {
     "data": {
      "text/plain": [
       "array([[0.104744, 0.0399  , 0.0171  , 0.0532  , 0.0437  , 0.0285  ,\n",
       "        0.038   , 0.0456  , 0.0418  , 0.0304  , 0.0266  ],\n",
       "       [0.0399  , 0.152341, 0.0189  , 0.0588  , 0.0483  , 0.0315  ,\n",
       "        0.042   , 0.0504  , 0.0462  , 0.0336  , 0.0294  ],\n",
       "       [0.0171  , 0.0189  , 0.052621, 0.0252  , 0.0207  , 0.0135  ,\n",
       "        0.018   , 0.0216  , 0.0198  , 0.0144  , 0.0126  ],\n",
       "       [0.0532  , 0.0588  , 0.0252  , 0.192644, 0.0644  , 0.042   ,\n",
       "        0.056   , 0.0672  , 0.0616  , 0.0448  , 0.0392  ],\n",
       "       [0.0437  , 0.0483  , 0.0207  , 0.0644  , 0.106261, 0.0345  ,\n",
       "        0.046   , 0.0552  , 0.0506  , 0.0368  , 0.0322  ],\n",
       "       [0.0285  , 0.0315  , 0.0135  , 0.042   , 0.0345  , 0.089581,\n",
       "        0.03    , 0.036   , 0.033   , 0.024   , 0.021   ],\n",
       "       [0.038   , 0.042   , 0.018   , 0.056   , 0.046   , 0.03    ,\n",
       "        0.110225, 0.048   , 0.044   , 0.032   , 0.028   ],\n",
       "       [0.0456  , 0.0504  , 0.0216  , 0.0672  , 0.0552  , 0.036   ,\n",
       "        0.048   , 0.131041, 0.0528  , 0.0384  , 0.0336  ],\n",
       "       [0.0418  , 0.0462  , 0.0198  , 0.0616  , 0.0506  , 0.033   ,\n",
       "        0.044   , 0.0528  , 0.139001, 0.0352  , 0.0308  ],\n",
       "       [0.0304  , 0.0336  , 0.0144  , 0.0448  , 0.0368  , 0.024   ,\n",
       "        0.032   , 0.0384  , 0.0352  , 0.100676, 0.0224  ],\n",
       "       [0.0266  , 0.0294  , 0.0126  , 0.0392  , 0.0322  , 0.021   ,\n",
       "        0.028   , 0.0336  , 0.0308  , 0.0224  , 0.071584]])"
      ]
     },
     "execution_count": 20,
     "metadata": {},
     "output_type": "execute_result"
    }
   ],
   "source": [
    "beta = np.array(\n",
    "    [0.95, 1.05, 0.45, 1.40, 1.15, 0.75, 1.00, 1.20, 1.10, 0.8, 0.7]\n",
    ").reshape(-1, 1)\n",
    "sigma_mat = (\n",
    "    np.diag(\n",
    "        [0.262, 0.329, 0.211, 0.338, 0.231, 0.259, 0.265, 0.271, 0.301, 0.274, 0.228]\n",
    "    )\n",
    "    ** 2\n",
    ")\n",
    "\n",
    "weights = np.array(\n",
    "    [0.82, 0.123, 0.069, 0.031, 0.132, 0.126, 0.102, 0.23, 0.045, 0.028, 0.032]\n",
    ")\n",
    "\n",
    "# Computing covariance matrix\n",
    "sigma_m = 0.2**2\n",
    "\n",
    "cov_mat: np.ndarray = sigma_m * (beta.dot(beta.T)) + sigma_mat\n",
    "cov_mat"
   ]
  },
  {
   "cell_type": "code",
   "execution_count": 21,
   "metadata": {},
   "outputs": [
    {
     "data": {
      "text/plain": [
       "array([[1.52590175, 0.46288777, 0.30932311, 0.60074981, 0.72205149,\n",
       "        0.41999469, 0.54731384, 0.64223543, 0.53003982, 0.4234691 ,\n",
       "        0.44529262],\n",
       "       [0.46288777, 1.40742417, 0.27225976, 0.52876747, 0.63553468,\n",
       "        0.36967058, 0.48173424, 0.56528225, 0.46653001, 0.37272868,\n",
       "        0.39193729],\n",
       "       [0.30932311, 0.27225976, 1.18193661, 0.35334698, 0.42469379,\n",
       "        0.24703105, 0.3219172 , 0.37774785, 0.31175702, 0.24907462,\n",
       "        0.2619107 ],\n",
       "       [0.60074981, 0.52876747, 0.35334698, 1.68625048, 0.82481621,\n",
       "        0.47976971, 0.62520933, 0.73364047, 0.60547681, 0.48373861,\n",
       "        0.50866812],\n",
       "       [0.72205149, 0.63553468, 0.42469379, 0.82481621, 1.99136073,\n",
       "        0.57664343, 0.75144981, 0.88177505, 0.72773295, 0.58141372,\n",
       "        0.61137693],\n",
       "       [0.41999469, 0.36967058, 0.24703105, 0.47976971, 0.57664343,\n",
       "        1.33541539, 0.43709478, 0.51290088, 0.42329943, 0.33819012,\n",
       "        0.35561878],\n",
       "       [0.54731384, 0.48173424, 0.3219172 , 0.62520933, 0.75144981,\n",
       "        0.43709478, 1.56959772, 0.66838404, 0.55162038, 0.44071065,\n",
       "        0.46342271],\n",
       "       [0.64223543, 0.56528225, 0.37774785, 0.73364047, 0.88177505,\n",
       "        0.51290088, 0.66838404, 1.78430305, 0.64728886, 0.51714386,\n",
       "        0.54379491],\n",
       "       [0.53003982, 0.46653001, 0.31175702, 0.60547681, 0.72773295,\n",
       "        0.42329943, 0.55162038, 0.64728886, 1.53421044, 0.42680117,\n",
       "        0.44879641],\n",
       "       [0.4234691 , 0.37272868, 0.24907462, 0.48373861, 0.58141372,\n",
       "        0.33819012, 0.44071065, 0.51714386, 0.42680117, 1.3409878 ,\n",
       "        0.35856064],\n",
       "       [0.44529262, 0.39193729, 0.2619107 , 0.50866812, 0.61137693,\n",
       "        0.35561878, 0.46342271, 0.54379491, 0.44879641, 0.35856064,\n",
       "        1.37703909]])"
      ]
     },
     "execution_count": 21,
     "metadata": {},
     "output_type": "execute_result"
    }
   ],
   "source": [
    "# Computing correlation matrix\n",
    "corr_mat = np.zeros_like(cov_mat)\n",
    "\n",
    "for i in range(len(corr_mat)):\n",
    "    for j in range(i, len(corr_mat)):\n",
    "        corr_mat[i, j] = cov_mat[i, j] / (np.sqrt(sigma_mat[i, i] * sigma_mat[j, j]))\n",
    "        corr_mat[j, i] = corr_mat[i, j]\n",
    "\n",
    "corr_mat"
   ]
  },
  {
   "cell_type": "code",
   "execution_count": 22,
   "metadata": {},
   "outputs": [
    {
     "data": {
      "text/plain": [
       "array([0.32364178, 0.39030885, 0.22939268, 0.43891229, 0.32597699,\n",
       "       0.29930085, 0.33200151, 0.36199586, 0.37282838, 0.31729482,\n",
       "       0.26755186])"
      ]
     },
     "execution_count": 22,
     "metadata": {},
     "output_type": "execute_result"
    }
   ],
   "source": [
    "sector_volatility = np.sqrt(np.diag(cov_mat))\n",
    "sector_volatility"
   ]
  },
  {
   "cell_type": "markdown",
   "metadata": {},
   "source": [
    "### Question 1.b"
   ]
  },
  {
   "cell_type": "markdown",
   "metadata": {},
   "source": [
    "The volatility of the benchmark can be computed as follows:\n",
    "$$ \\sigma_{\\text{benchmark}} = \\sqrt{b^{\\mathsf T} \\Sigma b}$$\n",
    "where $b$ is the vector of the benchmark weights."
   ]
  },
  {
   "cell_type": "code",
   "execution_count": 23,
   "metadata": {},
   "outputs": [
    {
     "name": "stdout",
     "output_type": "stream",
     "text": [
      "The volatility of the benchmark portfolio is:  0.22211447894047792\n"
     ]
    }
   ],
   "source": [
    "b = np.array(\n",
    "    [8.20, 12.30, 6.90, 3.10, 13.20, 12.60, 10.20, 23.00, 4.50, 2.80, 3.20]\n",
    ")  # vector of weights of the benchmark\n",
    "b = b / 100  # convert from percentage to decimal\n",
    "sigma_benchmark = np.sqrt((b.T).dot(cov_mat).dot(b))\n",
    "print(\"The volatility of the benchmark portfolio is: \", sigma_benchmark)"
   ]
  },
  {
   "cell_type": "markdown",
   "metadata": {},
   "source": [
    "### Question 1.c"
   ]
  },
  {
   "cell_type": "code",
   "execution_count": 24,
   "metadata": {},
   "outputs": [
    {
     "data": {
      "text/plain": [
       "18.3359"
      ]
     },
     "execution_count": 24,
     "metadata": {},
     "output_type": "execute_result"
    }
   ],
   "source": [
    "weighted_average = np.sum(weights * beta)\n",
    "weighted_average"
   ]
  },
  {
   "cell_type": "markdown",
   "metadata": {},
   "source": [
    "Some assets have a huge ponderation where others have a smaller one.\n",
    "\n",
    "### Question 1.d"
   ]
  },
  {
   "cell_type": "code",
   "execution_count": 25,
   "metadata": {},
   "outputs": [
    {
     "data": {
      "text/plain": [
       "array([0.07315815, 0.05127753, 0.02038272, 0.05977381, 0.05160106,\n",
       "       0.03598706, 0.04549844, 0.05961668, 0.04774817, 0.03420387,\n",
       "       0.029822  ])"
      ]
     },
     "execution_count": 25,
     "metadata": {},
     "output_type": "execute_result"
    }
   ],
   "source": [
    "implied_risk_premia: np.ndarray = (\n",
    "    0.25 * cov_mat.dot(weights) / np.sqrt(weights.T.dot(cov_mat).dot(weights))\n",
    ")\n",
    "implied_risk_premia"
   ]
  },
  {
   "cell_type": "code",
   "execution_count": 26,
   "metadata": {},
   "outputs": [
    {
     "data": {
      "text/plain": [
       "array([[0.0775, 0.0825, 0.0525, 0.1   , 0.0875, 0.0675, 0.08  , 0.09  ,\n",
       "        0.085 , 0.07  , 0.065 ]])"
      ]
     },
     "execution_count": 26,
     "metadata": {},
     "output_type": "execute_result"
    }
   ],
   "source": [
    "r_m = 0.25 * 0.2 + 0.03\n",
    "\n",
    "expected_returns = 0.03 + beta.T * (r_m - 0.03)\n",
    "expected_returns"
   ]
  },
  {
   "cell_type": "markdown",
   "metadata": {},
   "source": [
    "### Question 1.e"
   ]
  },
  {
   "cell_type": "code",
   "execution_count": 27,
   "metadata": {},
   "outputs": [
    {
     "data": {
      "text/plain": [
       "144.78"
      ]
     },
     "execution_count": 27,
     "metadata": {},
     "output_type": "execute_result"
    }
   ],
   "source": [
    "sci12 = np.array([24, 54, 47, 434, 19, 21, 105, 23, 559, 89, 1655])\n",
    "\n",
    "ci = np.sum(weights * sci12)\n",
    "ci"
   ]
  },
  {
   "cell_type": "code",
   "execution_count": 28,
   "metadata": {},
   "outputs": [
    {
     "data": {
      "text/plain": [
       "-7.998599999999999"
      ]
     },
     "execution_count": 28,
     "metadata": {},
     "output_type": "execute_result"
    }
   ],
   "source": [
    "cm12 = np.array([-2.8, -7.2, -1.8, -1.5, -8.3, -7.8, -8.5, -4.3, -7.1, -2.7, -9.9])\n",
    "\n",
    "cm = np.sum(weights * cm12)\n",
    "cm"
   ]
  },
  {
   "cell_type": "code",
   "execution_count": 29,
   "metadata": {},
   "outputs": [
    {
     "data": {
      "text/plain": [
       "0.841"
      ]
     },
     "execution_count": 29,
     "metadata": {},
     "output_type": "execute_result"
    }
   ],
   "source": [
    "gii = np.array([0, 1.5, 0, 0.7, 0, 0, 2.4, 0.2, 0.8, 1.4, 8.4])\n",
    "\n",
    "gi = np.sum(weights * gii)\n",
    "gi"
   ]
  },
  {
   "cell_type": "markdown",
   "metadata": {},
   "source": [
    "### Question 2.b"
   ]
  },
  {
   "cell_type": "code",
   "execution_count": 39,
   "metadata": {},
   "outputs": [],
   "source": [
    "def solve_esg_qp_problem(t: float) -> np.ndarray:\n",
    "    \"\"\"Solver for the quadratic programming problem\n",
    "\n",
    "    Args:\n",
    "        t (float): t parameter\n",
    "\n",
    "    Returns:\n",
    "        np.ndarray: optimal portfolio weights\n",
    "    \"\"\"\n",
    "    w = cp.Variable(11, \"w\")  # Portfolio weights\n",
    "\n",
    "    objective = cp.Minimize(0.5 * cp.quad_form(w, cov_mat))\n",
    "    constraints = [\n",
    "        cp.sum(w) == 1,\n",
    "        0 <= w,\n",
    "        w <= 1,\n",
    "        cp.sum(sci12 * w) <= 0.7 * (0.93**t) * ci,\n",
    "    ]\n",
    "    problem = cp.Problem(objective, constraints)\n",
    "\n",
    "    problem.solve()\n",
    "\n",
    "    return w.value"
   ]
  },
  {
   "cell_type": "code",
   "execution_count": 40,
   "metadata": {},
   "outputs": [
    {
     "name": "stdout",
     "output_type": "stream",
     "text": [
      "Optimal portfolio for t = 0 : [ 9.41107406e-02  3.27897458e-02  4.44566541e-01 -1.11049960e-21\n",
      "  2.05674465e-02  1.77088872e-01  6.46258951e-02  5.01546664e-21\n",
      " -9.81930926e-22  1.33855878e-01  3.23948813e-02]\n",
      "Tracking error volatility: 0.3023735941373776\n",
      "Carbon intensity: 101.34599999999999\n",
      "Carbon momentum: -4.08325932636356\n",
      "Green intensity: 0.6638019992606862\n",
      "Reduction rate: 0.30000000000000004\n",
      "Optimal portfolio for t = 1 : [ 9.47385283e-02  3.31210897e-02  4.45685252e-01 -8.99600982e-22\n",
      "  2.13113307e-02  1.77802253e-01  6.50281881e-02  4.19223643e-21\n",
      " -8.01213843e-22  1.34325045e-01  2.79883132e-02]\n",
      "Tracking error volatility: 0.3022531345536538\n",
      "Carbon intensity: 94.25178\n",
      "Carbon momentum: -4.062216317398387\n",
      "Green intensity: 0.6289061791417362\n",
      "Reduction rate: 0.349\n",
      "Optimal portfolio for t = 2 : [ 9.53223708e-02  3.34292395e-02  4.46725654e-01 -7.04297226e-22\n",
      "  2.20031430e-02  1.78465698e-01  6.54023207e-02  3.42947110e-21\n",
      " -6.33861046e-22  1.34761370e-01  2.38902048e-02]\n",
      "Tracking error volatility: 0.30214464893492793\n",
      "Carbon intensity: 87.65415539999998\n",
      "Carbon momentum: -4.042646319060775\n",
      "Green intensity: 0.5964530664311127\n",
      "Reduction rate: 0.3945700000000002\n",
      "Optimal portfolio for t = 5 : [ 9.68399276e-02  3.42302001e-02  4.49429925e-01 -1.95283793e-22\n",
      "  2.38013410e-02  1.80190160e-01  6.63747873e-02  1.44068103e-21\n",
      " -1.97519477e-22  1.35895490e-01  1.32381678e-02]\n",
      "Tracking error volatility: 0.3018786599794848\n",
      "Carbon intensity: 70.50523347507782\n",
      "Carbon momentum: -3.9917788638917475\n",
      "Green intensity: 0.5120990860462358\n",
      "Reduction rate: 0.5130181414899999\n",
      "Optimal portfolio for t = 10 : [9.91355072e-02 3.51226078e-02 4.52821872e-01 4.90654765e-22\n",
      " 2.66618914e-02 1.82827529e-01 6.64923605e-02 3.63403675e-04\n",
      " 3.76560968e-22 1.36574829e-01 1.34618956e-22]\n",
      "Tracking error volatility: 0.3014615516051116\n",
      "Carbon intensity: 49.04967090339265\n",
      "Carbon momentum: -3.928389727517808\n",
      "Green intensity: 0.4035430178181211\n",
      "Reduction rate: 0.6612123849744947\n"
     ]
    }
   ],
   "source": [
    "optimal_pfs12 = {}\n",
    "\n",
    "for t in (0, 1, 2, 5, 10):\n",
    "\n",
    "    sol = solve_esg_qp_problem(t)\n",
    "\n",
    "    print(\"Optimal portfolio for t =\", t, \":\", sol)\n",
    "\n",
    "    tracking_eror_volatility = np.sqrt(\n",
    "        (sol - weights).T.dot(cov_mat).dot(sol - weights)\n",
    "    )\n",
    "\n",
    "    print(\"Tracking error volatility:\", tracking_eror_volatility)\n",
    "\n",
    "    carbon_intensity = sci12.dot(sol)\n",
    "\n",
    "    print(\"Carbon intensity:\", carbon_intensity)\n",
    "\n",
    "    carbon_momentum = cm12.dot(sol)\n",
    "\n",
    "    print(\"Carbon momentum:\", carbon_momentum)\n",
    "    green_intensity = gii.dot(sol)\n",
    "\n",
    "    print(\"Green intensity:\", green_intensity)\n",
    "\n",
    "    reduction_rate = 1 - (sci12.dot(sol)) / (ci)\n",
    "\n",
    "    print(\"Reduction rate:\", reduction_rate)\n",
    "    optimal_pfs12[t] = sol"
   ]
  },
  {
   "cell_type": "markdown",
   "metadata": {},
   "source": [
    "### Question 2.c"
   ]
  },
  {
   "cell_type": "code",
   "execution_count": 34,
   "metadata": {},
   "outputs": [
    {
     "data": {
      "text/plain": [
       "324.57399999999996"
      ]
     },
     "execution_count": 34,
     "metadata": {},
     "output_type": "execute_result"
    }
   ],
   "source": [
    "scii13 = np.array([78, 203, 392, 803, 55, 124, 283, 123, 892, 135, 1867])\n",
    "\n",
    "ci13 = np.sum(weights * scii13)\n",
    "ci13"
   ]
  },
  {
   "cell_type": "code",
   "execution_count": 35,
   "metadata": {},
   "outputs": [],
   "source": [
    "cmi13 = np.array([-0.8, -1.6, -0.1, -0.2, -1.9, -2.0, -2.5, 2.1, -3.6, -0.8, -6.8])"
   ]
  },
  {
   "cell_type": "code",
   "execution_count": 36,
   "metadata": {},
   "outputs": [],
   "source": [
    "def solve_esg_qp_problem13(t: float) -> np.ndarray:\n",
    "    \"\"\"Solver for the quadratic programming problem\n",
    "\n",
    "    Args:\n",
    "        t (float): t parameter\n",
    "\n",
    "    Returns:\n",
    "        np.ndarray: optimal portfolio weights\n",
    "    \"\"\"\n",
    "    w = cp.Variable(11, \"w\")  # Portfolio weights\n",
    "\n",
    "    objective = cp.Minimize(0.5 * cp.quad_form(w, cov_mat))\n",
    "    constraints = [\n",
    "        cp.sum(w) == 1,\n",
    "        0 <= w,\n",
    "        w <= 1,\n",
    "        cp.sum(scii13 * w) <= 0.7 * (0.93**t) * ci13,\n",
    "    ]\n",
    "    problem = cp.Problem(objective, constraints)\n",
    "\n",
    "    problem.solve()\n",
    "\n",
    "    return w.value"
   ]
  },
  {
   "cell_type": "code",
   "execution_count": 37,
   "metadata": {},
   "outputs": [
    {
     "name": "stdout",
     "output_type": "stream",
     "text": [
      "Optimal portfolio for t = 0 : [ 1.23623971e-01  3.01952930e-02  3.79437317e-01 -4.30095573e-20\n",
      "  5.98062009e-02  1.98978490e-01  4.54811384e-02  6.52109039e-03\n",
      " -4.19747889e-20  1.55956499e-01 -2.31736933e-20]\n",
      "Tracking error volatility: 0.2888612008026496\n",
      "Carbon intensity: 227.20179999999993\n",
      "Carbon momentum: -0.921517894492611\n",
      "Green intensity: 0.37409098849180167\n",
      "Reduction rate: -0.5692899571764052\n",
      "Optimal portfolio for t = 1 : [ 1.39024571e-01  2.70023951e-02  3.38498510e-01 -3.94890733e-20\n",
      "  8.09461876e-02  2.10068537e-01  2.91671904e-02  1.15417256e-02\n",
      " -3.85547186e-20  1.63750883e-01 -2.12913585e-20]\n",
      "Tracking error volatility: 0.2818502825205457\n",
      "Carbon intensity: 211.29767400000003\n",
      "Carbon momentum: -0.9418892293714531\n",
      "Green intensity: 0.3420644308807161\n",
      "Reduction rate: -0.45943966017405735\n",
      "Optimal portfolio for t = 2 : [ 1.53347129e-01  2.40330002e-02  3.00425420e-01 -3.62075595e-20\n",
      "  1.00606375e-01  2.20382281e-01  1.39952188e-02  1.62109163e-02\n",
      " -3.53668759e-20  1.70999660e-01 -1.95368335e-20]\n",
      "Tracking error volatility: 0.27571584652439507\n",
      "Carbon intensity: 196.50683682\n",
      "Carbon momentum: -0.960834570808777\n",
      "Green intensity: 0.3122797323024069\n",
      "Reduction rate: -0.357278883961873\n",
      "Optimal portfolio for t = 5 : [ 1.89975410e-01  1.28855689e-02  1.87108707e-01 -5.51017511e-21\n",
      "  1.50815776e-01  2.45852051e-01 -8.68297982e-21  2.52727998e-02\n",
      " -5.14347874e-21  1.88089687e-01 -2.72254897e-21]\n",
      "Tracking error volatility: 0.25985871864970755\n",
      "Carbon intensity: 158.06164974402478\n",
      "Carbon momentum: -1.066961055423475\n",
      "Green intensity: 0.28770847558610896\n",
      "Reduction rate: -0.09173677126692059\n",
      "Optimal portfolio for t = 10 : [2.35017064e-01 1.37026454e-21 3.42560151e-02 1.09354448e-21\n",
      " 2.12477676e-01 2.76417882e-01 1.60630610e-21 3.39467560e-02\n",
      " 9.68943478e-22 2.07884606e-01 4.95678713e-22]\n",
      "Tracking error volatility: 0.24334920610112554\n",
      "Carbon intensity: 109.96165135928838\n",
      "Carbon momentum: -1.243002099222465\n",
      "Green intensity: 0.2978278002804578\n",
      "Reduction rate: 0.24049142589246875\n"
     ]
    }
   ],
   "source": [
    "optimal_pfs13 = {}\n",
    "\n",
    "for t in (0, 1, 2, 5, 10):\n",
    "\n",
    "    sol = solve_esg_qp_problem13(t)\n",
    "\n",
    "    print(\"Optimal portfolio for t =\", t, \":\", sol)\n",
    "\n",
    "    tracking_eror_volatility = np.sqrt(\n",
    "        (sol - weights).T.dot(cov_mat).dot(sol - weights)\n",
    "    )\n",
    "\n",
    "    print(\"Tracking error volatility:\", tracking_eror_volatility)\n",
    "\n",
    "    carbon_intensity = scii13.dot(sol)\n",
    "\n",
    "    print(\"Carbon intensity:\", carbon_intensity)\n",
    "\n",
    "    carbon_momentum = cmi13.dot(sol)\n",
    "\n",
    "    print(\"Carbon momentum:\", carbon_momentum)\n",
    "    green_intensity = gii.dot(sol)\n",
    "\n",
    "    print(\"Green intensity:\", green_intensity)\n",
    "\n",
    "    reduction_rate = 1 - (scii13.dot(sol)) / (ci)\n",
    "\n",
    "    print(\"Reduction rate:\", reduction_rate)\n",
    "    optimal_pfs13[t] = sol"
   ]
  },
  {
   "cell_type": "markdown",
   "metadata": {},
   "source": [
    "### Question 2.d"
   ]
  },
  {
   "cell_type": "code",
   "execution_count": 38,
   "metadata": {},
   "outputs": [
    {
     "name": "stdout",
     "output_type": "stream",
     "text": [
      "Implied expected return for t = 0 : -0.15638991353869164\n",
      "Implied expected return for t = 0 : -0.13371250284171082\n",
      "Implied expected return for t = 1 : -0.15609771999969324\n",
      "Implied expected return for t = 1 : -0.12192577985613413\n",
      "Implied expected return for t = 2 : -0.15582598000842507\n",
      "Implied expected return for t = 2 : -0.11096412747954802\n",
      "Implied expected return for t = 5 : -0.15511965793394084\n",
      "Implied expected return for t = 5 : -0.07824256757497794\n",
      "Implied expected return for t = 10 : -0.1541614068849408\n",
      "Implied expected return for t = 10 : -0.03393662790006559\n"
     ]
    }
   ],
   "source": [
    "for key12, key13 in zip(optimal_pfs12, optimal_pfs13):\n",
    "    implied_expected_return = expected_returns.dot(optimal_pfs12[key12])\n",
    "    print(\n",
    "        \"Implied expected return for t =\",\n",
    "        key12,\n",
    "        \":\",\n",
    "        np.sum(implied_expected_return - expected_returns),\n",
    "    )\n",
    "    implied_expected_return = expected_returns.dot(optimal_pfs13[key13])\n",
    "    print(\n",
    "        \"Implied expected return for t =\",\n",
    "        key13,\n",
    "        \":\",\n",
    "        np.sum(implied_expected_return - expected_returns),\n",
    "    )"
   ]
  },
  {
   "cell_type": "markdown",
   "metadata": {},
   "source": [
    "### Question 2.e\n",
    "We expect the carbon intensity to be the same as at $t=0$ before the rebalancing, as the weights of the assets are the same when no rebalancing occurs."
   ]
  },
  {
   "cell_type": "markdown",
   "metadata": {},
   "source": [
    "### Question 3.a"
   ]
  },
  {
   "cell_type": "markdown",
   "metadata": {},
   "source": [
    "In this question we have a constraint on weights where : \n",
    "$$ w_i \\geq \\frac{b_i}{2}$$\n",
    "\n",
    "So in this case the QP program corresponds to: \n",
    "\n",
    "$$ w^* = \\argmin \\frac{1}{2} w^\\mathsf{T} Qw - w^\\mathsf{T}R$$\n",
    "\n",
    "$$\\text{s.t.} \\left \\{ \\begin{array}{ccc} A x & = & B \\\\ C x & \\leq & D \\\\ x^- & \\leq & x & \\leq &  x^+ \\end{array} \\right.$$\n",
    "\n",
    "\n",
    "**where in our case** : \n",
    "- the equality constraint is the budget constraint $ \\left( \\sum_{i=1}^n w_i = 1  \\right) $ : $ A = 1_n^\\mathsf{T} $ and $ B = 1 $\n",
    "- the bounds correspond to the no short-selling restriction (long-only constraint) $ \\left( 0 \\leq w_i \\leq 1 \\right) $ : $ w^- = \\frac{1}{2}b_n $ and $ w^+ = 1_n $ (with $b_n$ the vector of weights of the benchmark).\n",
    "- minimmization of the tracking error volatility : $ Q = \\Sigma $ and $ R = 0_n $\n",
    "- the decarbonization constraint : $ C = \\mathcal{CI}^\\mathsf{T} $ and $ D = \\mathcal{CI}^⋆ $"
   ]
  },
  {
   "cell_type": "code",
   "execution_count": null,
   "metadata": {},
   "outputs": [],
   "source": [
    "def solve_esg_qp_3_problem(t: float) -> np.ndarray:\n",
    "    \"\"\"Solver for the quadratic programming problem\n",
    "\n",
    "    Args:\n",
    "        t (float): t parameter\n",
    "\n",
    "    Returns:\n",
    "        np.ndarray: optimal portfolio weights\n",
    "    \"\"\"\n",
    "    w = cp.Variable(11, \"w\")  # Portfolio weights\n",
    "\n",
    "    objective = cp.Minimize(0.5 * cp.quad_form(w, cov_mat))\n",
    "    constraints = [cp.sum(w) == 1, b <= w, w <= 1, ci * w <= 0.7 * (0.93**t) * ci]\n",
    "    problem = cp.Problem(objective, constraints)\n",
    "\n",
    "    problem.solve()\n",
    "\n",
    "    return w.value"
   ]
  },
  {
   "cell_type": "markdown",
   "metadata": {},
   "source": [
    "Here we just considere the time $t=0$:"
   ]
  },
  {
   "cell_type": "code",
   "execution_count": null,
   "metadata": {},
   "outputs": [],
   "source": [
    "t = 0\n",
    "sol = solve_esg_qp_3_problem(t)\n",
    "print(\"Optimal portfolio for t =\", t, \":\", sol)\n",
    "tracking_eror_volatility = np.sqrt((sol - weights).T.dot(cov_mat).dot(sol - weights))\n",
    "print(\"Tracking error volatility:\", tracking_eror_volatility)\n",
    "carbon_momentum = cm12.dot(sol)\n",
    "print(\"Carbon momentum:\", carbon_momentum)\n",
    "carbon_intensity = sci12.dot(sol)\n",
    "print(\"Carbon intensity:\", carbon_intensity)\n",
    "green_intensity = gii.dot(sol)\n",
    "print(\"Green intensity:\", green_intensity)\n",
    "reduction_rate = 1 - (ci * sol) / (ci)\n",
    "print(\"Reduction rate:\", reduction_rate)"
   ]
  }
 ],
 "metadata": {
  "kernelspec": {
   "display_name": ".venv",
   "language": "python",
   "name": "python3"
  },
  "language_info": {
   "codemirror_mode": {
    "name": "ipython",
    "version": 3
   },
   "file_extension": ".py",
   "mimetype": "text/x-python",
   "name": "python",
   "nbconvert_exporter": "python",
   "pygments_lexer": "ipython3",
   "version": "3.10.11"
  }
 },
 "nbformat": 4,
 "nbformat_minor": 2
}

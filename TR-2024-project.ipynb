{
 "cells": [
  {
   "cell_type": "markdown",
   "metadata": {},
   "source": [
    "# Asset Management & Sustainable Finance\n",
    "- Sarahnour Ghaith\n",
    "- Thomas Roiseux"
   ]
  },
  {
   "cell_type": "code",
   "execution_count": null,
   "metadata": {},
   "outputs": [],
   "source": [
    "import cvxpy as cp\n",
    "import numpy as np\n",
    "\n",
    "import matplotlib.pyplot as plt\n",
    "from scipy.stats import norm\n",
    "\n",
    "from typing import Dict, Callable\n",
    "\n",
    "import warnings\n",
    "\n",
    "warnings.filterwarnings(\"ignore\")"
   ]
  },
  {
   "cell_type": "markdown",
   "metadata": {},
   "source": [
    "## Exercise 1 - Portfolio optimization and risk budgeting"
   ]
  },
  {
   "cell_type": "code",
   "execution_count": null,
   "metadata": {},
   "outputs": [],
   "source": [
    "corr_mat = np.array(\n",
    "    [\n",
    "        [1, 0.5, 0.3, 0.6, 0.4],\n",
    "        [0.5, 1, 0.3, 0.6, 0.3],\n",
    "        [0.3, 0.3, 1, 0.6, 0.7],\n",
    "        [0.6, 0.6, 0.6, 1, 0.3],\n",
    "        [0.4, 0.3, 0.7, 0.3, 1],\n",
    "    ],\n",
    "    dtype=np.float64,\n",
    ")\n",
    "\n",
    "r = 0.02  # risk free rate\n",
    "\n",
    "mu = np.array([0.05, 0.05, 0.06, 0.04, 0.07], dtype=np.float64).T\n",
    "sigma = np.array([0.2, 0.22, 0.25, 0.18, 0.45], dtype=np.float64).T"
   ]
  },
  {
   "cell_type": "markdown",
   "metadata": {},
   "source": [
    "### Question 1.a"
   ]
  },
  {
   "cell_type": "code",
   "execution_count": null,
   "metadata": {},
   "outputs": [],
   "source": [
    "cov_mat = np.zeros_like(corr_mat)  # Covariance matrix\n",
    "\n",
    "for i in range(len(cov_mat)):\n",
    "    for j in range(i, len(cov_mat)):\n",
    "        cov_mat[i, j] = corr_mat[i, j] * sigma[i] * sigma[j]\n",
    "        cov_mat[j, i] = cov_mat[i, j]\n",
    "\n",
    "\n",
    "print(cov_mat)"
   ]
  },
  {
   "cell_type": "markdown",
   "metadata": {},
   "source": [
    "### Question 1.b"
   ]
  },
  {
   "cell_type": "code",
   "execution_count": null,
   "metadata": {},
   "outputs": [],
   "source": [
    "sr = (mu - r) / sigma  # Sharpe ratio\n",
    "\n",
    "for k in range(len(mu)):\n",
    "    print(\"Sharpe ratio for asset\", k + 1, \":\", sr[k])"
   ]
  },
  {
   "cell_type": "markdown",
   "metadata": {},
   "source": [
    "### Question 2.b"
   ]
  },
  {
   "cell_type": "code",
   "execution_count": null,
   "metadata": {},
   "outputs": [],
   "source": [
    "def solve_qp_problem(gamma: float) -> np.ndarray:\n",
    "    \"\"\"Solver for the quadratic programming problem\n",
    "\n",
    "    Args:\n",
    "        gamma (float): gamma parameter\n",
    "\n",
    "    Returns:\n",
    "        np.ndarray: optimal portfolio weights\n",
    "    \"\"\"\n",
    "    x = cp.Variable(len(mu), \"x\")  # Portfolio weights\n",
    "\n",
    "    objective = cp.Minimize(\n",
    "        0.5 * cp.quad_form(x, cov_mat) - gamma * cp.matmul(mu - r, x)\n",
    "    )\n",
    "    constraints = [cp.sum(x) == 1, -10 <= x, x <= 10]\n",
    "    problem = cp.Problem(objective, constraints)\n",
    "\n",
    "    problem.solve()\n",
    "\n",
    "    return x.value"
   ]
  },
  {
   "cell_type": "code",
   "execution_count": null,
   "metadata": {},
   "outputs": [],
   "source": [
    "optimal_x: Dict[float, np.ndarray] = {}\n",
    "gammas = [0, 0.1, 0.2, 0.5, 1]\n",
    "\n",
    "for gamma in gammas:\n",
    "    sol = solve_qp_problem(gamma)\n",
    "    print(\"Optimal portfolio for gamma =\", gamma, \":\", sol)\n",
    "    optimal_x[gamma] = sol"
   ]
  },
  {
   "cell_type": "code",
   "execution_count": null,
   "metadata": {},
   "outputs": [],
   "source": [
    "for gamma, sol in optimal_x.items():\n",
    "    print(\"Gamma:\", gamma)\n",
    "    expected_return = np.dot(sol.T, mu)\n",
    "    volatility = sol.T.dot(cov_mat).dot(sol)\n",
    "    sharpe_ratio = (expected_return - r) / volatility\n",
    "    print(\"  Expected return:\", expected_return)\n",
    "    print(\"  Volatility:\", volatility)\n",
    "    print(\"  Sharpe ratio:\", sharpe_ratio)"
   ]
  },
  {
   "cell_type": "markdown",
   "metadata": {},
   "source": [
    "### Question 2.c"
   ]
  },
  {
   "cell_type": "code",
   "execution_count": null,
   "metadata": {},
   "outputs": [],
   "source": [
    "precise_gammas = np.linspace(-10, 10, 500)\n",
    "\n",
    "solutions = [solve_qp_problem(gamma) for gamma in precise_gammas]\n",
    "returns = np.array([np.dot(sol.T, mu) * 100 for sol in solutions])\n",
    "volatilities = np.array([sol.T.dot(cov_mat).dot(sol) * 100 for sol in solutions])"
   ]
  },
  {
   "cell_type": "code",
   "execution_count": null,
   "metadata": {},
   "outputs": [],
   "source": [
    "plt.figure(figsize=(10, 6))\n",
    "plt.plot(\n",
    "    volatilities,\n",
    "    returns,\n",
    "    label=\"Efficient frontier\",\n",
    ")\n",
    "plt.legend()\n",
    "plt.grid(visible=True)\n",
    "plt.xlabel(\"Volatility (in %)\")\n",
    "plt.ylabel(\"Expected return (in %)\")\n",
    "plt.title(\"Efficient frontier\")\n",
    "plt.show()"
   ]
  },
  {
   "cell_type": "markdown",
   "metadata": {},
   "source": [
    "### Question 2.d"
   ]
  },
  {
   "cell_type": "code",
   "execution_count": null,
   "metadata": {},
   "outputs": [],
   "source": [
    "def bisection_algorithm(\n",
    "    f: Callable[[float], float],\n",
    "    a: float,\n",
    "    b: float,\n",
    "    target: float,\n",
    "    /,\n",
    "    tol: float = 10**-5,\n",
    "    *,\n",
    "    max_iter: int = 100,\n",
    ") -> float:\n",
    "    \"\"\"Bisection algorithm\n",
    "\n",
    "    Args:\n",
    "        f (function): function to find the root of\n",
    "        a (float): left bound\n",
    "        b (float): right bound\n",
    "        target (float): target value\n",
    "        tol (float, optional): tolerance. Defaults to 10**-5.\n",
    "        max_iter (int, optional): maximum number of iterations. Defaults to 100.\n",
    "\n",
    "    Returns:\n",
    "        float: root of the function\n",
    "    \"\"\"\n",
    "    if b - a < 0:\n",
    "        a, b = b, a\n",
    "\n",
    "    gamma_bar = (a + b) / 2\n",
    "\n",
    "    if b - a < tol or max_iter == 0:\n",
    "        return gamma_bar\n",
    "\n",
    "    f_bar = f(gamma_bar)\n",
    "\n",
    "    if f_bar < target:\n",
    "        a = gamma_bar\n",
    "    else:\n",
    "        b = gamma_bar\n",
    "\n",
    "    return bisection_algorithm(f, a, b, target, tol=tol, max_iter=max_iter - 1)"
   ]
  },
  {
   "cell_type": "code",
   "execution_count": null,
   "metadata": {},
   "outputs": [],
   "source": [
    "targets = (16, 20)\n",
    "\n",
    "\n",
    "def volatilities_function(gamma: float) -> float:\n",
    "    sol = solve_qp_problem(gamma)\n",
    "    return sol.T.dot(cov_mat).dot(sol) * 100\n",
    "\n",
    "\n",
    "for target in targets:\n",
    "    gamma = bisection_algorithm(\n",
    "        volatilities_function,\n",
    "        0,\n",
    "        100,\n",
    "        target,\n",
    "    )\n",
    "    print(\"Gamma for target volatility of\", target, \":\", gamma)\n",
    "    print(\"  Expected return:\", np.dot(solve_qp_problem(gamma).T, mu) * 100)\n",
    "    print(\"  Volatility:\", volatilities_function(gamma))\n",
    "    print(\n",
    "        \"  Sharpe ratio:\",\n",
    "        (np.dot(solve_qp_problem(gamma).T, mu) - r) / volatilities_function(gamma),\n",
    "    )"
   ]
  },
  {
   "cell_type": "markdown",
   "metadata": {},
   "source": [
    "### Question 2.e"
   ]
  },
  {
   "cell_type": "code",
   "execution_count": null,
   "metadata": {},
   "outputs": [],
   "source": [
    "sharpe_ratios = (returns - r * 100) / volatilities  # Converting r into %\n",
    "\n",
    "i = np.argmax(sharpe_ratios)\n",
    "tp = solve_qp_problem(precise_gammas[i])\n",
    "print(\"Optimal portfolio for maximum Sharpe ratio:\", tp)\n",
    "print(\"Maximum Sharpe ratio:\", sharpe_ratios[i])\n",
    "print(\"Expected return (in %):\", returns[i])\n",
    "print(\"Volatility (in %):\", volatilities[i])"
   ]
  },
  {
   "cell_type": "markdown",
   "metadata": {},
   "source": [
    "### Question 2.f\n",
    "The analytical solutoin can be found by maximizing the Sharpe Ratio. This is exactly what we did in the previous question so we will have the same answer.\n",
    "\n",
    "### Question 3.a"
   ]
  },
  {
   "cell_type": "code",
   "execution_count": null,
   "metadata": {},
   "outputs": [],
   "source": [
    "def solve_long_only_qp_problem(gamma: float) -> np.ndarray:\n",
    "    \"\"\"Solver for the quadratic programming problem\n",
    "\n",
    "    Args:\n",
    "        gamma (float): gamma parameter\n",
    "\n",
    "    Returns:\n",
    "        np.ndarray: optimal portfolio weights\n",
    "    \"\"\"\n",
    "    x = cp.Variable(len(mu), \"x\")  # Portfolio weights\n",
    "\n",
    "    objective = cp.Minimize(\n",
    "        0.5 * cp.quad_form(x, cov_mat) - gamma * cp.matmul(mu - r, x)\n",
    "    )\n",
    "    constraints = [cp.sum(x) == 1, 0 <= x, x <= 1]\n",
    "    problem = cp.Problem(objective, constraints)\n",
    "\n",
    "    problem.solve()\n",
    "\n",
    "    return x.value"
   ]
  },
  {
   "cell_type": "code",
   "execution_count": null,
   "metadata": {},
   "outputs": [],
   "source": [
    "for gamma in gammas:\n",
    "    sol = solve_long_only_qp_problem(gamma)\n",
    "    print(\"Optimal portfolio for gamma =\", gamma, \":\", sol)\n",
    "    print(\"Gamma:\", gamma)\n",
    "    expected_return = np.dot(sol.T, mu)\n",
    "    volatility = sol.T.dot(cov_mat).dot(sol)\n",
    "    sharpe_ratio = (expected_return - r) / volatility\n",
    "    print(\"  Expected return (in %):\", expected_return * 100)\n",
    "    print(\"  Volatility (in %):\", volatility * 100)\n",
    "    print(\"  Sharpe ratio:\", sharpe_ratio)"
   ]
  },
  {
   "cell_type": "markdown",
   "metadata": {},
   "source": [
    "### Question 3.b"
   ]
  },
  {
   "cell_type": "code",
   "execution_count": null,
   "metadata": {},
   "outputs": [],
   "source": [
    "long_solutions = [solve_long_only_qp_problem(gamma) for gamma in precise_gammas]\n",
    "long_returns = np.array([np.dot(sol.T, mu) * 100 for sol in long_solutions])\n",
    "long_volatilities = np.array(\n",
    "    [sol.T.dot(cov_mat).dot(sol) * 100 for sol in long_solutions]\n",
    ")"
   ]
  },
  {
   "cell_type": "code",
   "execution_count": null,
   "metadata": {},
   "outputs": [],
   "source": [
    "plt.figure(figsize=(10, 6))\n",
    "plt.plot(\n",
    "    volatilities,\n",
    "    returns,\n",
    "    label=\"Efficient frontier long long/short\",\n",
    ")\n",
    "plt.plot(\n",
    "    long_volatilities,\n",
    "    long_returns,\n",
    "    label=\"Efficient frontier long only\",\n",
    ")\n",
    "plt.legend()\n",
    "plt.grid(visible=True)\n",
    "plt.xlabel(\"Volatility (in %)\")\n",
    "plt.ylabel(\"Expected return (in %)\")\n",
    "plt.title(\"Efficient frontier\")\n",
    "plt.show()"
   ]
  },
  {
   "cell_type": "markdown",
   "metadata": {},
   "source": [
    "### Question 3.c"
   ]
  },
  {
   "cell_type": "code",
   "execution_count": null,
   "metadata": {},
   "outputs": [],
   "source": [
    "for target in targets:\n",
    "    gamma = bisection_algorithm(\n",
    "        volatilities_function,\n",
    "        0,\n",
    "        100,\n",
    "        target,\n",
    "    )\n",
    "    print(\"Gamma for target volatility of\", target, \":\", gamma)\n",
    "    print(\"  Expected return:\", np.dot(solve_long_only_qp_problem(gamma).T, mu) * 100)\n",
    "    print(\"  Volatility:\", volatilities_function(gamma))\n",
    "    print(\n",
    "        \"  Sharpe ratio:\",\n",
    "        (np.dot(solve_qp_problem(gamma).T, mu) - r) / volatilities_function(gamma),\n",
    "    )"
   ]
  },
  {
   "cell_type": "markdown",
   "metadata": {},
   "source": [
    "### Question 3.d"
   ]
  },
  {
   "cell_type": "code",
   "execution_count": null,
   "metadata": {},
   "outputs": [],
   "source": [
    "sharpe_ratios = (long_returns - r * 100) / long_volatilities  # Converting r into %\n",
    "\n",
    "i = np.argmax(sharpe_ratios)\n",
    "tp = solve_long_only_qp_problem(precise_gammas[i])\n",
    "print(\"Optimal portfolio for maximum Sharpe ratio:\", tp)\n",
    "print(\"Maximum Sharpe ratio:\", sharpe_ratios[i])\n",
    "print(\"Expected return (in %):\", returns[i])\n",
    "print(\"Volatility (in %):\", volatilities[i])"
   ]
  },
  {
   "cell_type": "markdown",
   "metadata": {},
   "source": [
    "### Question 3.e"
   ]
  },
  {
   "cell_type": "code",
   "execution_count": null,
   "metadata": {},
   "outputs": [],
   "source": [
    "beta = cov_mat.dot(tp) / tp.T.dot(cov_mat).dot(tp)\n",
    "\n",
    "for i, value in enumerate(beta):\n",
    "    print(\"Beta for asset\", i + 1, \":\", value)"
   ]
  },
  {
   "cell_type": "markdown",
   "metadata": {},
   "source": [
    "### Question 4.a-d\n",
    "Theoretical questions, no code needed.\n",
    "### Question 4.e"
   ]
  },
  {
   "cell_type": "code",
   "execution_count": null,
   "metadata": {},
   "outputs": [],
   "source": []
  },
  {
   "cell_type": "markdown",
   "metadata": {},
   "source": [
    "## Equity portfolio optimization with net zero objectives\n",
    "### Question 1.a"
   ]
  },
  {
   "cell_type": "code",
   "execution_count": null,
   "metadata": {},
   "outputs": [],
   "source": [
    "beta = np.array(\n",
    "    [0.95, 1.05, 0.45, 1.40, 1.15, 0.75, 1.00, 1.20, 1.10, 0.8, 0.7]\n",
    ").reshape(-1, 1)\n",
    "sigma_mat = (\n",
    "    np.diag(\n",
    "        [0.262, 0.329, 0.211, 0.338, 0.231, 0.259, 0.265, 0.271, 0.301, 0.274, 0.228]\n",
    "    )\n",
    "    ** 2\n",
    ")\n",
    "\n",
    "weights = np.array(\n",
    "    [0.82, 0.123, 0.069, 0.031, 0.132, 0.126, 0.102, 0.23, 0.045, 0.028, 0.032]\n",
    ")\n",
    "\n",
    "# Computing covariance matrix\n",
    "sigma_m = 0.2**2\n",
    "\n",
    "cov_mat: np.ndarray = sigma_m * (beta.dot(beta.T)) + sigma_mat\n",
    "cov_mat"
   ]
  },
  {
   "cell_type": "code",
   "execution_count": null,
   "metadata": {},
   "outputs": [],
   "source": [
    "# Computing correlation matrix\n",
    "corr_mat = np.zeros_like(cov_mat)\n",
    "\n",
    "for i in range(len(corr_mat)):\n",
    "    for j in range(i, len(corr_mat)):\n",
    "        corr_mat[i, j] = cov_mat[i, j] / (np.sqrt(sigma_mat[i, i] * sigma_mat[j, j]))\n",
    "        corr_mat[j, i] = corr_mat[i, j]\n",
    "\n",
    "corr_mat"
   ]
  },
  {
   "cell_type": "code",
   "execution_count": null,
   "metadata": {},
   "outputs": [],
   "source": [
    "sector_volatility = np.sqrt(np.diag(cov_mat))\n",
    "sector_volatility"
   ]
  },
  {
   "cell_type": "markdown",
   "metadata": {},
   "source": [
    "### Question 1.b"
   ]
  },
  {
   "cell_type": "markdown",
   "metadata": {},
   "source": [
    "The volatility of the benchmark can be computed as follows:\n",
    "$$ \\sigma_{\\text{benchmark}} = \\sqrt{b^{\\mathsf T} \\Sigma b}$$\n",
    "where $b$ is the vector of the benchmark weights."
   ]
  },
  {
   "cell_type": "code",
   "execution_count": null,
   "metadata": {},
   "outputs": [],
   "source": [
    "b = np.array(\n",
    "    [8.20, 12.30, 6.90, 3.10, 13.20, 12.60, 10.20, 23.00, 4.50, 2.80, 3.20]\n",
    ")  # vector of weights of the benchmark\n",
    "b = b / 100  # convert from percentage to decimal\n",
    "sigma_benchmark = np.sqrt((b.T).dot(cov_mat).dot(b))\n",
    "print(\"The volatility of the benchmark portfolio is: \", sigma_benchmark)"
   ]
  },
  {
   "cell_type": "markdown",
   "metadata": {},
   "source": [
    "### Question 1.c"
   ]
  },
  {
   "cell_type": "code",
   "execution_count": null,
   "metadata": {},
   "outputs": [],
   "source": [
    "weighted_average = np.sum(weights * beta)\n",
    "weighted_average"
   ]
  },
  {
   "cell_type": "markdown",
   "metadata": {},
   "source": [
    "Some assets have a huge ponderation where others have a smaller one.\n",
    "\n",
    "### Question 1.d"
   ]
  },
  {
   "cell_type": "code",
   "execution_count": null,
   "metadata": {},
   "outputs": [],
   "source": [
    "implied_risk_premia: np.ndarray = (\n",
    "    0.25 * cov_mat.dot(weights) / np.sqrt(weights.T.dot(cov_mat).dot(weights))\n",
    ")\n",
    "implied_risk_premia"
   ]
  },
  {
   "cell_type": "code",
   "execution_count": null,
   "metadata": {},
   "outputs": [],
   "source": [
    "r_m = 0.25 * 0.2 + 0.03\n",
    "\n",
    "expected_returns = 0.03 + beta.T * (r_m - 0.03)\n",
    "expected_returns"
   ]
  },
  {
   "cell_type": "markdown",
   "metadata": {},
   "source": [
    "### Question 1.e"
   ]
  },
  {
   "cell_type": "code",
   "execution_count": null,
   "metadata": {},
   "outputs": [],
   "source": [
    "sci12 = np.array([24, 54, 47, 434, 19, 21, 105, 23, 559, 89, 1655])\n",
    "\n",
    "ci = np.sum(weights * sci12)\n",
    "ci"
   ]
  },
  {
   "cell_type": "code",
   "execution_count": null,
   "metadata": {},
   "outputs": [],
   "source": [
    "cm12 = np.array([-2.8, -7.2, -1.8, -1.5, -8.3, -7.8, -8.5, -4.3, -7.1, -2.7, -9.9])\n",
    "\n",
    "cm = np.sum(weights * cm12)\n",
    "cm"
   ]
  },
  {
   "cell_type": "code",
   "execution_count": null,
   "metadata": {},
   "outputs": [],
   "source": [
    "gii = np.array([0, 1.5, 0, 0.7, 0, 0, 2.4, 0.2, 0.8, 1.4, 8.4])\n",
    "\n",
    "gi = np.sum(weights * gii)\n",
    "gi"
   ]
  },
  {
   "cell_type": "markdown",
   "metadata": {},
   "source": [
    "### Question 2.b"
   ]
  },
  {
   "cell_type": "code",
   "execution_count": null,
   "metadata": {},
   "outputs": [],
   "source": [
    "def solve_esg_qp_problem(t: float) -> np.ndarray:\n",
    "    \"\"\"Solver for the quadratic programming problem\n",
    "\n",
    "    Args:\n",
    "        t (float): t parameter\n",
    "\n",
    "    Returns:\n",
    "        np.ndarray: optimal portfolio weights\n",
    "    \"\"\"\n",
    "    w = cp.Variable(11, \"w\")  # Portfolio weights\n",
    "\n",
    "    objective = cp.Minimize(0.5 * cp.quad_form(w, cov_mat))\n",
    "    constraints = [\n",
    "        cp.sum(w) == 1,\n",
    "        0 <= w,\n",
    "        w <= 1,\n",
    "        cp.sum(sci12 * w) <= 0.7 * (0.93**t) * ci,\n",
    "    ]\n",
    "    problem = cp.Problem(objective, constraints)\n",
    "\n",
    "    problem.solve()\n",
    "\n",
    "    return w.value"
   ]
  },
  {
   "cell_type": "code",
   "execution_count": null,
   "metadata": {},
   "outputs": [],
   "source": [
    "optimal_pfs12 = {}\n",
    "\n",
    "for t in (0, 1, 2, 5, 10):\n",
    "\n",
    "    sol = solve_esg_qp_problem(t)\n",
    "\n",
    "    print(\"Optimal portfolio for t =\", t, \":\", sol)\n",
    "\n",
    "    tracking_eror_volatility = np.sqrt(\n",
    "        (sol - weights).T.dot(cov_mat).dot(sol - weights)\n",
    "    )\n",
    "\n",
    "    print(\"Tracking error volatility:\", tracking_eror_volatility)\n",
    "\n",
    "    carbon_intensity = sci12.dot(sol)\n",
    "\n",
    "    print(\"Carbon intensity:\", carbon_intensity)\n",
    "\n",
    "    carbon_momentum = cm12.dot(sol)\n",
    "\n",
    "    print(\"Carbon momentum:\", carbon_momentum)\n",
    "    green_intensity = gii.dot(sol)\n",
    "\n",
    "    print(\"Green intensity:\", green_intensity)\n",
    "\n",
    "    reduction_rate = 1 - (sci12.dot(sol)) / (ci)\n",
    "\n",
    "    print(\"Reduction rate:\", reduction_rate)\n",
    "    optimal_pfs12[t] = sol"
   ]
  },
  {
   "cell_type": "markdown",
   "metadata": {},
   "source": [
    "### Question 2.c"
   ]
  },
  {
   "cell_type": "code",
   "execution_count": null,
   "metadata": {},
   "outputs": [],
   "source": [
    "scii13 = np.array([78, 203, 392, 803, 55, 124, 283, 123, 892, 135, 1867])\n",
    "\n",
    "ci13 = np.sum(weights * scii13)\n",
    "ci13"
   ]
  },
  {
   "cell_type": "code",
   "execution_count": null,
   "metadata": {},
   "outputs": [],
   "source": [
    "cmi13 = np.array([-0.8, -1.6, -0.1, -0.2, -1.9, -2.0, -2.5, 2.1, -3.6, -0.8, -6.8])"
   ]
  },
  {
   "cell_type": "code",
   "execution_count": null,
   "metadata": {},
   "outputs": [],
   "source": [
    "def solve_esg_qp_problem13(t: float) -> np.ndarray:\n",
    "    \"\"\"Solver for the quadratic programming problem\n",
    "\n",
    "    Args:\n",
    "        t (float): t parameter\n",
    "\n",
    "    Returns:\n",
    "        np.ndarray: optimal portfolio weights\n",
    "    \"\"\"\n",
    "    w = cp.Variable(11, \"w\")  # Portfolio weights\n",
    "\n",
    "    objective = cp.Minimize(0.5 * cp.quad_form(w, cov_mat))\n",
    "    constraints = [\n",
    "        cp.sum(w) == 1,\n",
    "        0 <= w,\n",
    "        w <= 1,\n",
    "        cp.sum(scii13 * w) <= 0.7 * (0.93**t) * ci13,\n",
    "    ]\n",
    "    problem = cp.Problem(objective, constraints)\n",
    "\n",
    "    problem.solve()\n",
    "\n",
    "    return w.value"
   ]
  },
  {
   "cell_type": "code",
   "execution_count": null,
   "metadata": {},
   "outputs": [],
   "source": [
    "optimal_pfs13 = {}\n",
    "\n",
    "for t in (0, 1, 2, 5, 10):\n",
    "\n",
    "    sol = solve_esg_qp_problem13(t)\n",
    "\n",
    "    print(\"Optimal portfolio for t =\", t, \":\", sol)\n",
    "\n",
    "    tracking_eror_volatility = np.sqrt(\n",
    "        (sol - weights).T.dot(cov_mat).dot(sol - weights)\n",
    "    )\n",
    "\n",
    "    print(\"Tracking error volatility:\", tracking_eror_volatility)\n",
    "\n",
    "    carbon_intensity = scii13.dot(sol)\n",
    "\n",
    "    print(\"Carbon intensity:\", carbon_intensity)\n",
    "\n",
    "    carbon_momentum = cmi13.dot(sol)\n",
    "\n",
    "    print(\"Carbon momentum:\", carbon_momentum)\n",
    "    green_intensity = gii.dot(sol)\n",
    "\n",
    "    print(\"Green intensity:\", green_intensity)\n",
    "\n",
    "    reduction_rate = 1 - (scii13.dot(sol)) / (ci)\n",
    "\n",
    "    print(\"Reduction rate:\", reduction_rate)\n",
    "    optimal_pfs13[t] = sol"
   ]
  },
  {
   "cell_type": "markdown",
   "metadata": {},
   "source": [
    "### Question 2.d"
   ]
  },
  {
   "cell_type": "code",
   "execution_count": null,
   "metadata": {},
   "outputs": [],
   "source": [
    "for key12, key13 in zip(optimal_pfs12, optimal_pfs13):\n",
    "    implied_expected_return = expected_returns.dot(optimal_pfs12[key12])\n",
    "    print(\n",
    "        \"Implied expected return for t =\",\n",
    "        key12,\n",
    "        \":\",\n",
    "        np.sum(implied_expected_return - expected_returns),\n",
    "    )\n",
    "    implied_expected_return = expected_returns.dot(optimal_pfs13[key13])\n",
    "    print(\n",
    "        \"Implied expected return for t =\",\n",
    "        key13,\n",
    "        \":\",\n",
    "        np.sum(implied_expected_return - expected_returns),\n",
    "    )"
   ]
  },
  {
   "cell_type": "markdown",
   "metadata": {},
   "source": [
    "### Question 2.e\n",
    "We expect the carbon intensity to be the same as at $t=0$ before the rebalancing, as the weights of the assets are the same when no rebalancing occurs."
   ]
  },
  {
   "cell_type": "markdown",
   "metadata": {},
   "source": [
    "### Question 3.a"
   ]
  },
  {
   "cell_type": "markdown",
   "metadata": {},
   "source": [
    "In this question we have a constraint on weights where : \n",
    "$$ w_i \\geq \\frac{b_i}{2}$$\n",
    "\n",
    "So in this case the QP program corresponds to: \n",
    "\n",
    "$$ w^* = \\argmin \\frac{1}{2} w^\\mathsf{T} Qw - w^\\mathsf{T}R$$\n",
    "\n",
    "$$\\text{s.t.} \\left \\{ \\begin{array}{ccc} A x & = & B \\\\ C x & \\leq & D \\\\ x^- & \\leq & x & \\leq &  x^+ \\end{array} \\right.$$\n",
    "\n",
    "\n",
    "**where in our case** : \n",
    "- the equality constraint is the budget constraint $ \\left( \\sum_{i=1}^n w_i = 1  \\right) $ : $ A = 1_n^\\mathsf{T} $ and $ B = 1 $\n",
    "- the bounds correspond to the no short-selling restriction (long-only constraint) $ \\left( 0 \\leq w_i \\leq 1 \\right) $ : $ w^- = \\frac{1}{2}b_n $ and $ w^+ = 1_n $ (with $b_n$ the vector of weights of the benchmark).\n",
    "- minimmization of the tracking error volatility : $ Q = \\Sigma $ and $ R = 0_n $\n",
    "- the decarbonization constraint : $ C = \\mathcal{CI}^\\mathsf{T} $ and $ D = \\mathcal{CI}^⋆ $"
   ]
  },
  {
   "cell_type": "code",
   "execution_count": null,
   "metadata": {},
   "outputs": [],
   "source": [
    "def solve_esg_qp_3_problem(t: float) -> np.ndarray:\n",
    "    \"\"\"Solver for the quadratic programming problem\n",
    "\n",
    "    Args:\n",
    "        t (float): t parameter\n",
    "\n",
    "    Returns:\n",
    "        np.ndarray: optimal portfolio weights\n",
    "    \"\"\"\n",
    "    w = cp.Variable(11, \"w\")  # Portfolio weights\n",
    "\n",
    "    objective = cp.Minimize(0.5 * cp.quad_form(w, cov_mat))\n",
    "    constraints = [\n",
    "        cp.sum(w) == 1,\n",
    "        b <= w,\n",
    "        w <= 1,\n",
    "        cp.sum(sci12 * w) <= 0.7 * (0.93**t) * ci,\n",
    "    ]\n",
    "    problem = cp.Problem(objective, constraints)\n",
    "\n",
    "    problem.solve()\n",
    "\n",
    "    return w.value"
   ]
  },
  {
   "cell_type": "markdown",
   "metadata": {},
   "source": [
    "Here we just considere the time $t=0$:"
   ]
  },
  {
   "cell_type": "code",
   "execution_count": null,
   "metadata": {},
   "outputs": [],
   "source": [
    "t = 0\n",
    "sol = solve_esg_qp_3_problem(t)\n",
    "print(\"Optimal portfolio for t =\", t, \":\", sol)\n",
    "tracking_eror_volatility = np.sqrt((sol - weights).T.dot(cov_mat).dot(sol - weights))\n",
    "print(\"Tracking error volatility:\", tracking_eror_volatility)\n",
    "carbon_momentum = cm12.dot(sol)\n",
    "print(\"Carbon momentum:\", carbon_momentum)\n",
    "carbon_intensity = sci12.dot(sol)\n",
    "print(\"Carbon intensity:\", carbon_intensity)\n",
    "green_intensity = gii.dot(sol)\n",
    "print(\"Green intensity:\", green_intensity)\n",
    "reduction_rate = 1 - (ci * sol) / (ci)\n",
    "print(\"Reduction rate:\", reduction_rate)"
   ]
  }
 ],
 "metadata": {
  "kernelspec": {
   "display_name": ".venv",
   "language": "python",
   "name": "python3"
  },
  "language_info": {
   "codemirror_mode": {
    "name": "ipython",
    "version": 3
   },
   "file_extension": ".py",
   "mimetype": "text/x-python",
   "name": "python",
   "nbconvert_exporter": "python",
   "pygments_lexer": "ipython3",
   "version": "3.10.11"
  }
 },
 "nbformat": 4,
 "nbformat_minor": 2
}

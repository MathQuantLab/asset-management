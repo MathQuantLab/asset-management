{
 "cells": [
  {
   "cell_type": "markdown",
   "metadata": {},
   "source": [
    "# Asset Management & Sustainable Finance\n",
    "- Sarahnour Ghaith\n",
    "- Thomas Roiseux"
   ]
  },
  {
   "cell_type": "code",
   "execution_count": null,
   "metadata": {},
   "outputs": [],
   "source": [
    "import cvxpy as cp\n",
    "import numpy as np\n",
    "\n",
    "import matplotlib.pyplot as plt\n",
    "from scipy.stats import norm\n",
    "\n",
    "from typing import Dict, Callable\n",
    "\n",
    "import warnings\n",
    "\n",
    "warnings.filterwarnings(\"ignore\")"
   ]
  },
  {
   "cell_type": "markdown",
   "metadata": {},
   "source": [
    "## Exercise 1 - Portfolio optimization and risk budgeting"
   ]
  },
  {
   "cell_type": "code",
   "execution_count": null,
   "metadata": {},
   "outputs": [],
   "source": [
    "corr_mat = np.array(\n",
    "    [\n",
    "        [1, 0.5, 0.3, 0.6, 0.4],\n",
    "        [0.5, 1, 0.3, 0.6, 0.3],\n",
    "        [0.3, 0.3, 1, 0.6, 0.7],\n",
    "        [0.6, 0.6, 0.6, 1, 0.3],\n",
    "        [0.4, 0.3, 0.7, 0.3, 1],\n",
    "    ],\n",
    "    dtype=np.float64,\n",
    ")\n",
    "\n",
    "r = 0.02  # risk free rate\n",
    "\n",
    "mu = np.array([0.05, 0.05, 0.06, 0.04, 0.07], dtype=np.float64).T\n",
    "sigma = np.array([0.2, 0.22, 0.25, 0.18, 0.45], dtype=np.float64).T"
   ]
  },
  {
   "cell_type": "markdown",
   "metadata": {},
   "source": [
    "### Question 1.a"
   ]
  },
  {
   "cell_type": "code",
   "execution_count": null,
   "metadata": {},
   "outputs": [],
   "source": [
    "cov_mat = np.zeros_like(corr_mat)  # Covariance matrix\n",
    "\n",
    "for i in range(len(cov_mat)):\n",
    "    for j in range(i, len(cov_mat)):\n",
    "        cov_mat[i, j] = corr_mat[i, j] * sigma[i] * sigma[j]\n",
    "        cov_mat[j, i] = cov_mat[i, j]\n",
    "\n",
    "\n",
    "print(cov_mat)"
   ]
  },
  {
   "cell_type": "markdown",
   "metadata": {},
   "source": [
    "### Question 1.b"
   ]
  },
  {
   "cell_type": "code",
   "execution_count": null,
   "metadata": {},
   "outputs": [],
   "source": [
    "sr = (mu - r) / sigma  # Sharpe ratio\n",
    "\n",
    "for k in range(len(mu)):\n",
    "    print(\"Sharpe ratio for asset\", k + 1, \":\", sr[k])"
   ]
  },
  {
   "cell_type": "markdown",
   "metadata": {},
   "source": [
    "### Question 2.b"
   ]
  },
  {
   "cell_type": "code",
   "execution_count": null,
   "metadata": {},
   "outputs": [],
   "source": [
    "def solve_qp_problem(gamma: float) -> np.ndarray:\n",
    "    \"\"\"Solver for the quadratic programming problem\n",
    "\n",
    "    Args:\n",
    "        gamma (float): gamma parameter\n",
    "\n",
    "    Returns:\n",
    "        np.ndarray: optimal portfolio weights\n",
    "    \"\"\"\n",
    "    x = cp.Variable(len(mu), \"x\")  # Portfolio weights\n",
    "\n",
    "    objective = cp.Minimize(\n",
    "        0.5 * cp.quad_form(x, cov_mat) - gamma * cp.matmul(mu - r, x)\n",
    "    )\n",
    "    constraints = [cp.sum(x) == 1, -10 <= x, x <= 10]\n",
    "    problem = cp.Problem(objective, constraints)\n",
    "\n",
    "    problem.solve()\n",
    "\n",
    "    return x.value"
   ]
  },
  {
   "cell_type": "code",
   "execution_count": null,
   "metadata": {},
   "outputs": [],
   "source": [
    "optimal_x: Dict[float, np.ndarray] = {}\n",
    "gammas = [0, 0.1, 0.2, 0.5, 1]\n",
    "\n",
    "for gamma in gammas:\n",
    "    sol = solve_qp_problem(gamma)\n",
    "    print(\"Optimal portfolio for gamma =\", gamma, \":\", sol)\n",
    "    optimal_x[gamma] = sol"
   ]
  },
  {
   "cell_type": "code",
   "execution_count": null,
   "metadata": {},
   "outputs": [],
   "source": [
    "for gamma, sol in optimal_x.items():\n",
    "    print(\"Gamma:\", gamma)\n",
    "    expected_return = np.dot(sol.T, mu)\n",
    "    volatility = sol.T.dot(cov_mat).dot(sol)\n",
    "    sharpe_ratio = (expected_return - r) / volatility\n",
    "    print(\"  Expected return:\", expected_return)\n",
    "    print(\"  Volatility:\", volatility)\n",
    "    print(\"  Sharpe ratio:\", sharpe_ratio)"
   ]
  },
  {
   "cell_type": "markdown",
   "metadata": {},
   "source": [
    "### Question 2.c"
   ]
  },
  {
   "cell_type": "code",
   "execution_count": null,
   "metadata": {},
   "outputs": [],
   "source": [
    "precise_gammas = np.linspace(-10, 10, 500)\n",
    "\n",
    "solutions = [solve_qp_problem(gamma) for gamma in precise_gammas]\n",
    "returns = np.array([np.dot(sol.T, mu) * 100 for sol in solutions])\n",
    "volatilities = np.array([sol.T.dot(cov_mat).dot(sol) * 100 for sol in solutions])"
   ]
  },
  {
   "cell_type": "code",
   "execution_count": null,
   "metadata": {},
   "outputs": [],
   "source": [
    "plt.figure(figsize=(10, 6))\n",
    "plt.plot(\n",
    "    volatilities,\n",
    "    returns,\n",
    "    label=\"Efficient frontier\",\n",
    ")\n",
    "plt.legend()\n",
    "plt.grid(visible=True)\n",
    "plt.xlabel(\"Volatility (in %)\")\n",
    "plt.ylabel(\"Expected return (in %)\")\n",
    "plt.title(\"Efficient frontier\")\n",
    "plt.show()"
   ]
  },
  {
   "cell_type": "markdown",
   "metadata": {},
   "source": [
    "### Question 2.d"
   ]
  },
  {
   "cell_type": "code",
   "execution_count": null,
   "metadata": {},
   "outputs": [],
   "source": [
    "def bisection_algorithm(\n",
    "    f: Callable[[float], float],\n",
    "    a: float,\n",
    "    b: float,\n",
    "    target: float,\n",
    "    /,\n",
    "    tol: float = 10**-5,\n",
    "    *,\n",
    "    max_iter: int = 100,\n",
    ") -> float:\n",
    "    \"\"\"Bisection algorithm\n",
    "\n",
    "    Args:\n",
    "        f (function): function to find the root of\n",
    "        a (float): left bound\n",
    "        b (float): right bound\n",
    "        target (float): target value\n",
    "        tol (float, optional): tolerance. Defaults to 10**-5.\n",
    "        max_iter (int, optional): maximum number of iterations. Defaults to 100.\n",
    "\n",
    "    Returns:\n",
    "        float: root of the function\n",
    "    \"\"\"\n",
    "    if b - a < 0:\n",
    "        a, b = b, a\n",
    "\n",
    "    gamma_bar = (a + b) / 2\n",
    "\n",
    "    if b - a < tol or max_iter == 0:\n",
    "        return gamma_bar\n",
    "\n",
    "    f_bar = f(gamma_bar)\n",
    "\n",
    "    if f_bar < target:\n",
    "        a = gamma_bar\n",
    "    else:\n",
    "        b = gamma_bar\n",
    "\n",
    "    return bisection_algorithm(f, a, b, target, tol=tol, max_iter=max_iter - 1)"
   ]
  },
  {
   "cell_type": "code",
   "execution_count": null,
   "metadata": {},
   "outputs": [],
   "source": [
    "targets = (16, 20)\n",
    "\n",
    "\n",
    "def volatilities_function(gamma: float) -> float:\n",
    "    sol = solve_qp_problem(gamma)\n",
    "    return sol.T.dot(cov_mat).dot(sol) * 100\n",
    "\n",
    "\n",
    "for target in targets:\n",
    "    gamma = bisection_algorithm(\n",
    "        volatilities_function,\n",
    "        0,\n",
    "        100,\n",
    "        target,\n",
    "    )\n",
    "    print(\"Gamma for target volatility of\", target, \":\", gamma)\n",
    "    print(\"  Expected return:\", np.dot(solve_qp_problem(gamma).T, mu) * 100)\n",
    "    print(\"  Volatility:\", volatilities_function(gamma))\n",
    "    print(\n",
    "        \"  Sharpe ratio:\",\n",
    "        (np.dot(solve_qp_problem(gamma).T, mu) - r) / volatilities_function(gamma),\n",
    "    )"
   ]
  },
  {
   "cell_type": "markdown",
   "metadata": {},
   "source": [
    "### Question 2.e"
   ]
  },
  {
   "cell_type": "code",
   "execution_count": null,
   "metadata": {},
   "outputs": [],
   "source": [
    "sharpe_ratios = (returns - r * 100) / volatilities  # Converting r into %\n",
    "\n",
    "i = np.argmax(sharpe_ratios)\n",
    "tp = solve_qp_problem(precise_gammas[i])\n",
    "print(\"Optimal portfolio for maximum Sharpe ratio:\", tp)\n",
    "print(\"Maximum Sharpe ratio:\", sharpe_ratios[i])\n",
    "print(\"Expected return (in %):\", returns[i])\n",
    "print(\"Volatility (in %):\", volatilities[i])"
   ]
  },
  {
   "cell_type": "markdown",
   "metadata": {},
   "source": [
    "### Question 2.f\n",
    "The analytical solutoin can be found by maximizing the Sharpe Ratio. This is exactly what we did in the previous question so we will have the same answer.\n",
    "\n",
    "### Question 3.a"
   ]
  },
  {
   "cell_type": "code",
   "execution_count": null,
   "metadata": {},
   "outputs": [],
   "source": [
    "def solve_long_only_qp_problem(gamma: float) -> np.ndarray:\n",
    "    \"\"\"Solver for the quadratic programming problem\n",
    "\n",
    "    Args:\n",
    "        gamma (float): gamma parameter\n",
    "\n",
    "    Returns:\n",
    "        np.ndarray: optimal portfolio weights\n",
    "    \"\"\"\n",
    "    x = cp.Variable(len(mu), \"x\")  # Portfolio weights\n",
    "\n",
    "    objective = cp.Minimize(\n",
    "        0.5 * cp.quad_form(x, cov_mat) - gamma * cp.matmul(mu - r, x)\n",
    "    )\n",
    "    constraints = [cp.sum(x) == 1, 0 <= x, x <= 1]\n",
    "    problem = cp.Problem(objective, constraints)\n",
    "\n",
    "    problem.solve()\n",
    "\n",
    "    return x.value"
   ]
  },
  {
   "cell_type": "code",
   "execution_count": null,
   "metadata": {},
   "outputs": [],
   "source": [
    "for gamma in gammas:\n",
    "    sol = solve_long_only_qp_problem(gamma)\n",
    "    print(\"Optimal portfolio for gamma =\", gamma, \":\", sol)\n",
    "    print(\"Gamma:\", gamma)\n",
    "    expected_return = np.dot(sol.T, mu)\n",
    "    volatility = sol.T.dot(cov_mat).dot(sol)\n",
    "    sharpe_ratio = (expected_return - r) / volatility\n",
    "    print(\"  Expected return (in %):\", expected_return * 100)\n",
    "    print(\"  Volatility (in %):\", volatility * 100)\n",
    "    print(\"  Sharpe ratio:\", sharpe_ratio)"
   ]
  },
  {
   "cell_type": "markdown",
   "metadata": {},
   "source": [
    "### Question 3.b"
   ]
  },
  {
   "cell_type": "code",
   "execution_count": null,
   "metadata": {},
   "outputs": [],
   "source": [
    "long_solutions = [solve_long_only_qp_problem(gamma) for gamma in precise_gammas]\n",
    "long_returns = np.array([np.dot(sol.T, mu) * 100 for sol in long_solutions])\n",
    "long_volatilities = np.array(\n",
    "    [sol.T.dot(cov_mat).dot(sol) * 100 for sol in long_solutions]\n",
    ")"
   ]
  },
  {
   "cell_type": "code",
   "execution_count": null,
   "metadata": {},
   "outputs": [],
   "source": [
    "plt.figure(figsize=(10, 6))\n",
    "plt.plot(\n",
    "    volatilities,\n",
    "    returns,\n",
    "    label=\"Efficient frontier long long/short\",\n",
    ")\n",
    "plt.plot(\n",
    "    long_volatilities,\n",
    "    long_returns,\n",
    "    label=\"Efficient frontier long only\",\n",
    ")\n",
    "plt.legend()\n",
    "plt.grid(visible=True)\n",
    "plt.xlabel(\"Volatility (in %)\")\n",
    "plt.ylabel(\"Expected return (in %)\")\n",
    "plt.title(\"Efficient frontier\")\n",
    "plt.show()"
   ]
  },
  {
   "cell_type": "markdown",
   "metadata": {},
   "source": [
    "### Question 3.c"
   ]
  },
  {
   "cell_type": "code",
   "execution_count": null,
   "metadata": {},
   "outputs": [],
   "source": [
    "for target in targets:\n",
    "    gamma = bisection_algorithm(\n",
    "        volatilities_function,\n",
    "        0,\n",
    "        100,\n",
    "        target,\n",
    "    )\n",
    "    print(\"Gamma for target volatility of\", target, \":\", gamma)\n",
    "    print(\"  Expected return:\", np.dot(solve_long_only_qp_problem(gamma).T, mu) * 100)\n",
    "    print(\"  Volatility:\", volatilities_function(gamma))\n",
    "    print(\n",
    "        \"  Sharpe ratio:\",\n",
    "        (np.dot(solve_qp_problem(gamma).T, mu) - r) / volatilities_function(gamma),\n",
    "    )"
   ]
  },
  {
   "cell_type": "markdown",
   "metadata": {},
   "source": [
    "### Question 3.d"
   ]
  },
  {
   "cell_type": "code",
   "execution_count": null,
   "metadata": {},
   "outputs": [],
   "source": [
    "sharpe_ratios = (long_returns - r * 100) / long_volatilities  # Converting r into %\n",
    "\n",
    "i = np.argmax(sharpe_ratios)\n",
    "tp = solve_long_only_qp_problem(precise_gammas[i])\n",
    "print(\"Optimal portfolio for maximum Sharpe ratio:\", tp)\n",
    "print(\"Maximum Sharpe ratio:\", sharpe_ratios[i])\n",
    "print(\"Expected return (in %):\", returns[i])\n",
    "print(\"Volatility (in %):\", volatilities[i])"
   ]
  },
  {
   "cell_type": "markdown",
   "metadata": {},
   "source": [
    "### Question 3.e"
   ]
  },
  {
   "cell_type": "code",
   "execution_count": null,
   "metadata": {},
   "outputs": [],
   "source": [
    "beta = cov_mat.dot(tp) / tp.T.dot(cov_mat).dot(tp)\n",
    "\n",
    "for i, value in enumerate(beta):\n",
    "    print(\"Beta for asset\", i + 1, \":\", value)"
   ]
  },
  {
   "cell_type": "markdown",
   "metadata": {},
   "source": [
    "### Question 4.a-d\n",
    "Theoretical questions, no code needed.\n",
    "### Question 4.e"
   ]
  },
  {
   "cell_type": "code",
   "execution_count": null,
   "metadata": {},
   "outputs": [],
   "source": []
  },
  {
   "cell_type": "markdown",
   "metadata": {},
   "source": [
    "## Equity portfolio optimization with net zero objectives\n",
    "### Question 1.a"
   ]
  },
  {
   "cell_type": "code",
   "execution_count": 115,
   "metadata": {},
   "outputs": [
    {
     "data": {
      "text/plain": [
       "array([[0.104744, 0.0399  , 0.0171  , 0.0532  , 0.0437  , 0.0285  ,\n",
       "        0.038   , 0.0456  , 0.0418  , 0.0304  , 0.0266  ],\n",
       "       [0.0399  , 0.152341, 0.0189  , 0.0588  , 0.0483  , 0.0315  ,\n",
       "        0.042   , 0.0504  , 0.0462  , 0.0336  , 0.0294  ],\n",
       "       [0.0171  , 0.0189  , 0.052621, 0.0252  , 0.0207  , 0.0135  ,\n",
       "        0.018   , 0.0216  , 0.0198  , 0.0144  , 0.0126  ],\n",
       "       [0.0532  , 0.0588  , 0.0252  , 0.192644, 0.0644  , 0.042   ,\n",
       "        0.056   , 0.0672  , 0.0616  , 0.0448  , 0.0392  ],\n",
       "       [0.0437  , 0.0483  , 0.0207  , 0.0644  , 0.106261, 0.0345  ,\n",
       "        0.046   , 0.0552  , 0.0506  , 0.0368  , 0.0322  ],\n",
       "       [0.0285  , 0.0315  , 0.0135  , 0.042   , 0.0345  , 0.089581,\n",
       "        0.03    , 0.036   , 0.033   , 0.024   , 0.021   ],\n",
       "       [0.038   , 0.042   , 0.018   , 0.056   , 0.046   , 0.03    ,\n",
       "        0.110225, 0.048   , 0.044   , 0.032   , 0.028   ],\n",
       "       [0.0456  , 0.0504  , 0.0216  , 0.0672  , 0.0552  , 0.036   ,\n",
       "        0.048   , 0.131041, 0.0528  , 0.0384  , 0.0336  ],\n",
       "       [0.0418  , 0.0462  , 0.0198  , 0.0616  , 0.0506  , 0.033   ,\n",
       "        0.044   , 0.0528  , 0.139001, 0.0352  , 0.0308  ],\n",
       "       [0.0304  , 0.0336  , 0.0144  , 0.0448  , 0.0368  , 0.024   ,\n",
       "        0.032   , 0.0384  , 0.0352  , 0.100676, 0.0224  ],\n",
       "       [0.0266  , 0.0294  , 0.0126  , 0.0392  , 0.0322  , 0.021   ,\n",
       "        0.028   , 0.0336  , 0.0308  , 0.0224  , 0.071584]])"
      ]
     },
     "execution_count": 115,
     "metadata": {},
     "output_type": "execute_result"
    }
   ],
   "source": [
    "beta = np.array(\n",
    "    [0.95, 1.05, 0.45, 1.40, 1.15, 0.75, 1.00, 1.20, 1.10, 0.8, 0.7]\n",
    ").reshape(-1, 1)\n",
    "sigma_mat = (\n",
    "    np.diag(\n",
    "        [0.262, 0.329, 0.211, 0.338, 0.231, 0.259, 0.265, 0.271, 0.301, 0.274, 0.228]\n",
    "    )\n",
    "    ** 2\n",
    ")\n",
    "\n",
    "weights = np.array(\n",
    "    [8.20, 12.30, 6.90, 3.10, 13.20, 12.60, 10.20, 23.00, 4.50, 2.80, 3.20]\n",
    ") # vector of weights of the assets in the benchmark portfolio\n",
    "weights = weights / 100 # Converting from percentage to decimal\n",
    "\n",
    "# Computing covariance matrix\n",
    "sigma_m = 0.2**2\n",
    "\n",
    "cov_mat: np.ndarray = sigma_m * (beta.dot(beta.T)) + sigma_mat\n",
    "cov_mat "
   ]
  },
  {
   "cell_type": "code",
   "execution_count": 113,
   "metadata": {},
   "outputs": [
    {
     "data": {
      "text/plain": [
       "array([[1.52590175, 0.46288777, 0.30932311, 0.60074981, 0.72205149,\n",
       "        0.41999469, 0.54731384, 0.64223543, 0.53003982, 0.4234691 ,\n",
       "        0.44529262],\n",
       "       [0.46288777, 1.40742417, 0.27225976, 0.52876747, 0.63553468,\n",
       "        0.36967058, 0.48173424, 0.56528225, 0.46653001, 0.37272868,\n",
       "        0.39193729],\n",
       "       [0.30932311, 0.27225976, 1.18193661, 0.35334698, 0.42469379,\n",
       "        0.24703105, 0.3219172 , 0.37774785, 0.31175702, 0.24907462,\n",
       "        0.2619107 ],\n",
       "       [0.60074981, 0.52876747, 0.35334698, 1.68625048, 0.82481621,\n",
       "        0.47976971, 0.62520933, 0.73364047, 0.60547681, 0.48373861,\n",
       "        0.50866812],\n",
       "       [0.72205149, 0.63553468, 0.42469379, 0.82481621, 1.99136073,\n",
       "        0.57664343, 0.75144981, 0.88177505, 0.72773295, 0.58141372,\n",
       "        0.61137693],\n",
       "       [0.41999469, 0.36967058, 0.24703105, 0.47976971, 0.57664343,\n",
       "        1.33541539, 0.43709478, 0.51290088, 0.42329943, 0.33819012,\n",
       "        0.35561878],\n",
       "       [0.54731384, 0.48173424, 0.3219172 , 0.62520933, 0.75144981,\n",
       "        0.43709478, 1.56959772, 0.66838404, 0.55162038, 0.44071065,\n",
       "        0.46342271],\n",
       "       [0.64223543, 0.56528225, 0.37774785, 0.73364047, 0.88177505,\n",
       "        0.51290088, 0.66838404, 1.78430305, 0.64728886, 0.51714386,\n",
       "        0.54379491],\n",
       "       [0.53003982, 0.46653001, 0.31175702, 0.60547681, 0.72773295,\n",
       "        0.42329943, 0.55162038, 0.64728886, 1.53421044, 0.42680117,\n",
       "        0.44879641],\n",
       "       [0.4234691 , 0.37272868, 0.24907462, 0.48373861, 0.58141372,\n",
       "        0.33819012, 0.44071065, 0.51714386, 0.42680117, 1.3409878 ,\n",
       "        0.35856064],\n",
       "       [0.44529262, 0.39193729, 0.2619107 , 0.50866812, 0.61137693,\n",
       "        0.35561878, 0.46342271, 0.54379491, 0.44879641, 0.35856064,\n",
       "        1.37703909]])"
      ]
     },
     "execution_count": 113,
     "metadata": {},
     "output_type": "execute_result"
    }
   ],
   "source": [
    "# Computing correlation matrix\n",
    "corr_mat = np.zeros_like(cov_mat)\n",
    "\n",
    "for i in range(len(corr_mat)):\n",
    "    for j in range(i, len(corr_mat)):\n",
    "        corr_mat[i, j] = cov_mat[i, j] / (np.sqrt(sigma_mat[i, i] * sigma_mat[j, j]))\n",
    "        corr_mat[j, i] = corr_mat[i, j]\n",
    "\n",
    "corr_mat"
   ]
  },
  {
   "cell_type": "code",
   "execution_count": 114,
   "metadata": {},
   "outputs": [
    {
     "data": {
      "text/plain": [
       "array([0.32364178, 0.39030885, 0.22939268, 0.43891229, 0.32597699,\n",
       "       0.29930085, 0.33200151, 0.36199586, 0.37282838, 0.31729482,\n",
       "       0.26755186])"
      ]
     },
     "execution_count": 114,
     "metadata": {},
     "output_type": "execute_result"
    }
   ],
   "source": [
    "sector_volatility = np.sqrt(np.diag(cov_mat))\n",
    "sector_volatility"
   ]
  },
  {
   "cell_type": "markdown",
   "metadata": {},
   "source": [
    "### Question 1.b"
   ]
  },
  {
   "cell_type": "markdown",
   "metadata": {},
   "source": [
    "The volatility of the benchmark can be computed as follows:\n",
    "$$ \\sigma_{\\text{benchmark}} = \\sqrt{b^{\\mathsf T} \\Sigma b}$$\n",
    "where $b$ is the vector of the benchmark weights."
   ]
  },
  {
   "cell_type": "code",
   "execution_count": 119,
   "metadata": {},
   "outputs": [
    {
     "name": "stdout",
     "output_type": "stream",
     "text": [
      "The volatility of the benchmark portfolio is:  0.22211447894047792\n"
     ]
    }
   ],
   "source": [
    "sigma_benchmark = np.sqrt((weights.T).dot(cov_mat).dot(weights))\n",
    "print(\"The volatility of the benchmark portfolio is: \", sigma_benchmark)"
   ]
  },
  {
   "cell_type": "markdown",
   "metadata": {},
   "source": [
    "### Question 1.c"
   ]
  },
  {
   "cell_type": "code",
   "execution_count": 116,
   "metadata": {},
   "outputs": [
    {
     "data": {
      "text/plain": [
       "10.549999999999999"
      ]
     },
     "execution_count": 116,
     "metadata": {},
     "output_type": "execute_result"
    }
   ],
   "source": [
    "weighted_average = np.sum(weights * beta)\n",
    "weighted_average"
   ]
  },
  {
   "cell_type": "markdown",
   "metadata": {},
   "source": [
    "Some assets have a huge ponderation where others have a smaller one.\n",
    "\n",
    "### Question 1.d"
   ]
  },
  {
   "cell_type": "code",
   "execution_count": 120,
   "metadata": {},
   "outputs": [
    {
     "data": {
      "text/plain": [
       "array([0.04911049, 0.06226276, 0.02371947, 0.06702306, 0.05970823,\n",
       "       0.04328309, 0.05308856, 0.07304367, 0.05411786, 0.03838711,\n",
       "       0.03339076])"
      ]
     },
     "execution_count": 120,
     "metadata": {},
     "output_type": "execute_result"
    }
   ],
   "source": [
    "implied_risk_premia: np.ndarray = (\n",
    "    0.25 * cov_mat.dot(weights) / np.sqrt(weights.T.dot(cov_mat).dot(weights))\n",
    ")\n",
    "implied_risk_premia"
   ]
  },
  {
   "cell_type": "code",
   "execution_count": 121,
   "metadata": {},
   "outputs": [
    {
     "data": {
      "text/plain": [
       "array([[0.0775, 0.0825, 0.0525, 0.1   , 0.0875, 0.0675, 0.08  , 0.09  ,\n",
       "        0.085 , 0.07  , 0.065 ]])"
      ]
     },
     "execution_count": 121,
     "metadata": {},
     "output_type": "execute_result"
    }
   ],
   "source": [
    "r_m = 0.25 * 0.2 + 0.03\n",
    "\n",
    "expected_returns = 0.03 + beta.T * (r_m - 0.03)\n",
    "expected_returns"
   ]
  },
  {
   "cell_type": "markdown",
   "metadata": {},
   "source": [
    "### Question 1.e"
   ]
  },
  {
   "cell_type": "code",
   "execution_count": 122,
   "metadata": {},
   "outputs": [
    {
     "data": {
      "text/plain": [
       "127.06800000000001"
      ]
     },
     "execution_count": 122,
     "metadata": {},
     "output_type": "execute_result"
    }
   ],
   "source": [
    "sci12 = np.array([24, 54, 47, 434, 19, 21, 105, 23, 559, 89, 1655]) # vector of carbon intensity of the assets\n",
    "\n",
    "ci_b = np.sum(weights * sci12) # carbon intensity of the benchmark portfolio\n",
    "ci_b"
   ]
  },
  {
   "cell_type": "code",
   "execution_count": 123,
   "metadata": {},
   "outputs": [
    {
     "data": {
      "text/plain": [
       "-0.059322"
      ]
     },
     "execution_count": 123,
     "metadata": {},
     "output_type": "execute_result"
    }
   ],
   "source": [
    "cm12 = np.array([-2.8, -7.2, -1.8, -1.5, -8.3, -7.8, -8.5, -4.3, -7.1, -2.7, -9.9]) # vector of carbon momentum of the assets\n",
    "cm12 = cm12 / 100 # Converting from percentage to decimal\n",
    "\n",
    "cm_b = np.sum(weights * cm12) # carbon momentum of the benchmark portfolio\n",
    "cm_b"
   ]
  },
  {
   "cell_type": "code",
   "execution_count": 124,
   "metadata": {},
   "outputs": [
    {
     "data": {
      "text/plain": [
       "0.00841"
      ]
     },
     "execution_count": 124,
     "metadata": {},
     "output_type": "execute_result"
    }
   ],
   "source": [
    "gii = np.array([0, 1.5, 0, 0.7, 0, 0, 2.4, 0.2, 0.8, 1.4, 8.4]) # vector of green intensity of the assets\n",
    "gii = gii / 100 # Converting from percentage to decimal\n",
    "\n",
    "gi_b = np.sum(weights * gii) # green intensity of the benchmark portfolio\n",
    "gi_b "
   ]
  },
  {
   "cell_type": "markdown",
   "metadata": {},
   "source": [
    "### Question 2.b"
   ]
  },
  {
   "cell_type": "code",
   "execution_count": 125,
   "metadata": {},
   "outputs": [],
   "source": [
    "def solve_esg_qp_problem(t: float) -> np.ndarray:\n",
    "    \"\"\"Solver for the quadratic programming problem\n",
    "\n",
    "    Args:\n",
    "        t (float): t parameter\n",
    "\n",
    "    Returns:\n",
    "        np.ndarray: optimal portfolio weights\n",
    "    \"\"\"\n",
    "    w = cp.Variable(11, \"w\")  # Portfolio weights\n",
    "\n",
    "    objective = cp.Minimize(0.5 * cp.quad_form(w, cov_mat))\n",
    "    constraints = [\n",
    "        cp.sum(w) == 1,\n",
    "        0 <= w,\n",
    "        w <= 1,\n",
    "        cp.sum(sci12 * w) <= 0.7 * (0.93**t) * ci_b,\n",
    "    ]\n",
    "    problem = cp.Problem(objective, constraints)\n",
    "\n",
    "    problem.solve()\n",
    "\n",
    "    return w.value"
   ]
  },
  {
   "cell_type": "code",
   "execution_count": 126,
   "metadata": {},
   "outputs": [
    {
     "name": "stdout",
     "output_type": "stream",
     "text": [
      "Optimal portfolio for t = 0 : [ 9.52079102e-02  3.33688277e-02  4.46521686e-01 -7.42421262e-22\n",
      "  2.18675153e-02  1.78335631e-01  6.53289731e-02  3.57770471e-21\n",
      " -6.66484141e-22  1.34675829e-01  2.46936267e-02]\n",
      "Tracking error volatility: 0.13190031530001348\n",
      "Carbon intensity: 88.9476\n",
      "Carbon momentum: -0.04046482958791959\n",
      "Green intensity: 0.006028154022616099\n",
      "Reduction rate: 0.30000000000000016\n",
      "Optimal portfolio for t = 1 : [ 9.57588961e-02  3.36596358e-02  4.47503538e-01 -5.57242261e-22\n",
      "  2.25203947e-02  1.78961739e-01  6.56820507e-02  2.85476259e-21\n",
      " -5.07829487e-22  1.35087599e-01  2.08261463e-02]\n",
      "Tracking error volatility: 0.1319822728328824\n",
      "Carbon intensity: 82.72126800000001\n",
      "Carbon momentum: -0.04028014295556798\n",
      "Green intensity: 0.005721886439325951\n",
      "Reduction rate: 0.349\n",
      "Optimal portfolio for t = 2 : [ 9.62713129e-02  3.39300875e-02  4.48416659e-01 -3.85718648e-22\n",
      "  2.31275725e-02  1.79544020e-01  6.60104129e-02  2.18373323e-21\n",
      " -3.60783291e-22  1.35470546e-01  1.72293896e-02]\n",
      "Tracking error volatility: 0.1320647655127304\n",
      "Carbon intensity: 76.93077924\n",
      "Carbon momentum: -0.040108384387480954\n",
      "Green intensity: 0.005437057586866115\n",
      "Reduction rate: 0.39457\n",
      "Optimal portfolio for t = 5 : [9.76032158e-02 3.46330607e-02 4.50790097e-01 6.13926095e-23\n",
      " 2.47057838e-02 1.81057517e-01 6.68639105e-02 4.38151985e-22\n",
      " 2.24469088e-23 1.36465921e-01 7.88049454e-03]\n",
      "Tracking error volatility: 0.13230737568846845\n",
      "Carbon intensity: 61.87981079714871\n",
      "Carbon momentum: -0.03966193972707083\n",
      "Green intensity: 0.004696714198307919\n",
      "Reduction rate: 0.5130181414899999\n",
      "Optimal portfolio for t = 10 : [1.16165467e-01 3.07518617e-02 4.54057387e-01 5.47481545e-22\n",
      " 5.26776883e-02 2.03414141e-01 2.07911879e-02 1.61592994e-02\n",
      " 4.21277175e-22 1.05982967e-01 1.50711572e-22]\n",
      "Tracking error volatility: 0.13013082142302074\n",
      "Carbon intensity: 43.049064666060914\n",
      "Carbon momentum: -0.0392019921961011\n",
      "Green intensity: 0.002476346571532655\n",
      "Reduction rate: 0.6612123849744946\n"
     ]
    }
   ],
   "source": [
    "optimal_pfs12 = {}\n",
    "\n",
    "for t in (0, 1, 2, 5, 10):\n",
    "\n",
    "    sol = solve_esg_qp_problem(t)\n",
    "\n",
    "    print(\"Optimal portfolio for t =\", t, \":\", sol)\n",
    "\n",
    "    tracking_eror_volatility = np.sqrt(\n",
    "        (sol - weights).T.dot(cov_mat).dot(sol - weights)\n",
    "    )\n",
    "\n",
    "    print(\"Tracking error volatility:\", tracking_eror_volatility)\n",
    "\n",
    "    carbon_intensity = sci12.dot(sol)\n",
    "\n",
    "    print(\"Carbon intensity:\", carbon_intensity)\n",
    "\n",
    "    carbon_momentum = cm12.dot(sol)\n",
    "\n",
    "    print(\"Carbon momentum:\", carbon_momentum)\n",
    "    green_intensity = gii.dot(sol)\n",
    "\n",
    "    print(\"Green intensity:\", green_intensity)\n",
    "\n",
    "    reduction_rate = 1 - (sci12.dot(sol)) / (ci_b)\n",
    "\n",
    "    print(\"Reduction rate:\", reduction_rate)\n",
    "    optimal_pfs12[t] = sol"
   ]
  },
  {
   "cell_type": "markdown",
   "metadata": {},
   "source": [
    "### Question 2.c"
   ]
  },
  {
   "cell_type": "code",
   "execution_count": 130,
   "metadata": {},
   "outputs": [
    {
     "data": {
      "text/plain": [
       "267.01"
      ]
     },
     "execution_count": 130,
     "metadata": {},
     "output_type": "execute_result"
    }
   ],
   "source": [
    "scii13 = np.array([78, 203, 392, 803, 55, 124, 283, 123, 892, 135, 1867]) # vector of carbon intensity of the assets for scope 1, 2 and 3\n",
    "\n",
    "ci13_b = np.sum(weights * scii13) # carbon intensity of the benchmark portfolio for scope 1, 2 and 3\n",
    "ci13_b"
   ]
  },
  {
   "cell_type": "code",
   "execution_count": 128,
   "metadata": {},
   "outputs": [],
   "source": [
    "cmi13 = np.array([-0.8, -1.6, -0.1, -0.2, -1.9, -2.0, -2.5, 2.1, -3.6, -0.8, -6.8]) # vector of carbon momentum of the assets for scope 1, 2 and 3\n",
    "cmi13 = cmi13 / 100 # Converting from percentage to decimal"
   ]
  },
  {
   "cell_type": "code",
   "execution_count": 132,
   "metadata": {},
   "outputs": [],
   "source": [
    "def solve_esg_qp_problem13(t: float) -> np.ndarray:\n",
    "    \"\"\"Solver for the quadratic programming problem\n",
    "\n",
    "    Args:\n",
    "        t (float): t parameter\n",
    "\n",
    "    Returns:\n",
    "        np.ndarray: optimal portfolio weights\n",
    "    \"\"\"\n",
    "    w = cp.Variable(11, \"w\")  # Portfolio weights\n",
    "\n",
    "    objective = cp.Minimize(0.5 * cp.quad_form(w, cov_mat))\n",
    "    constraints = [\n",
    "        cp.sum(w) == 1,\n",
    "        0 <= w,\n",
    "        w <= 1,\n",
    "        cp.sum(scii13 * w) <= 0.7 * (0.93**t) * ci13_b,\n",
    "    ]\n",
    "    problem = cp.Problem(objective, constraints)\n",
    "\n",
    "    problem.solve()\n",
    "\n",
    "    return w.value"
   ]
  },
  {
   "cell_type": "code",
   "execution_count": 131,
   "metadata": {},
   "outputs": [
    {
     "name": "stdout",
     "output_type": "stream",
     "text": [
      "Optimal portfolio for t = 0 : [ 1.62643034e-01  2.21057457e-02  2.75714482e-01 -3.40804905e-20\n",
      "  1.13366613e-01  2.27076307e-01  4.14801068e-03  1.92414053e-02\n",
      " -3.33005779e-20  1.75704402e-01 -1.83996096e-20]\n",
      "Tracking error volatility: 0.11039174458544963\n",
      "Carbon intensity: 186.907\n",
      "Carbon momentum: -0.009731308447846278\n",
      "Green intensity: 0.0029294828793553274\n",
      "Reduction rate: 0.29999999999999993\n",
      "Optimal portfolio for t = 1 : [ 1.75093711e-01  1.82292354e-02  2.36804167e-01 -7.11109023e-21\n",
      "  1.30432079e-01  2.35711723e-01 -1.11513541e-20  2.22510070e-02\n",
      " -6.62418487e-21  1.81478079e-01 -3.50268986e-21]\n",
      "Tracking error volatility: 0.1077651657462122\n",
      "Carbon intensity: 173.82350999999997\n",
      "Carbon momentum: -0.010106219053197365\n",
      "Green intensity: 0.002858633647112127\n",
      "Reduction rate: 0.3490000000000001\n",
      "Optimal portfolio for t = 2 : [ 1.86581901e-01  1.41040979e-02  1.98440881e-01 -5.87580138e-21\n",
      "  1.46167633e-01  2.43539728e-01 -9.24641267e-21  2.45837332e-02\n",
      " -5.48169593e-21  1.86582026e-01 -2.90070783e-21]\n",
      "Tracking error volatility: 0.10589646925417286\n",
      "Carbon intensity: 161.6558643\n",
      "Carbon momentum: -0.010541139047645056\n",
      "Green intensity: 0.0028728773055625594\n",
      "Reduction rate: 0.39457\n",
      "Optimal portfolio for t = 5 : [ 2.16442660e-01  3.38180556e-03  9.87248422e-02 -2.65789913e-21\n",
      "  1.87068382e-01  2.63886724e-01 -4.28488132e-21  3.06470880e-02\n",
      " -2.50541291e-21  1.99848498e-01 -1.33261707e-21]\n",
      "Tracking error volatility: 0.10596018286737688\n",
      "Carbon intensity: 130.02902604075516\n",
      "Carbon momentum: -0.011671607887653179\n",
      "Green intensity: 0.00290990023449545\n",
      "Reduction rate: 0.5130181414899998\n",
      "Optimal portfolio for t = 10 : [2.82115945e-01 1.15477693e-22 1.07715081e-22 8.87299789e-23\n",
      " 3.22728015e-01 2.40133530e-01 1.32883189e-22 5.74984801e-23\n",
      " 7.84470912e-23 1.55022510e-01 4.00893222e-23]\n",
      "Tracking error volatility: 0.11711580174060608\n",
      "Carbon intensity: 90.45968108796019\n",
      "Carbon momentum: -0.014431610528686974\n",
      "Green intensity: 0.0021703151380909973\n",
      "Reduction rate: 0.6612123849744946\n"
     ]
    }
   ],
   "source": [
    "optimal_pfs13 = {}\n",
    "\n",
    "for t in (0, 1, 2, 5, 10):\n",
    "\n",
    "    sol = solve_esg_qp_problem13(t)\n",
    "\n",
    "    print(\"Optimal portfolio for t =\", t, \":\", sol)\n",
    "\n",
    "    tracking_eror_volatility = np.sqrt(\n",
    "        (sol - weights).T.dot(cov_mat).dot(sol - weights)\n",
    "    )\n",
    "\n",
    "    print(\"Tracking error volatility:\", tracking_eror_volatility)\n",
    "\n",
    "    carbon_intensity = scii13.dot(sol)\n",
    "\n",
    "    print(\"Carbon intensity:\", carbon_intensity)\n",
    "\n",
    "    carbon_momentum = cmi13.dot(sol)\n",
    "\n",
    "    print(\"Carbon momentum:\", carbon_momentum)\n",
    "    green_intensity = gii.dot(sol)\n",
    "\n",
    "    print(\"Green intensity:\", green_intensity)\n",
    "\n",
    "    reduction_rate = 1 - (scii13.dot(sol)) / (ci13_b)\n",
    "\n",
    "    print(\"Reduction rate:\", reduction_rate)\n",
    "    optimal_pfs13[t] = sol"
   ]
  },
  {
   "cell_type": "markdown",
   "metadata": {},
   "source": [
    "### Question 2.d"
   ]
  },
  {
   "cell_type": "code",
   "execution_count": 134,
   "metadata": {},
   "outputs": [
    {
     "name": "stdout",
     "output_type": "stream",
     "text": [
      "Implied expected, taking into consideration 1 and 2, return for t = 0 : -0.1558792538222018\n",
      "Implied expected, taking into consideration 1, 2 and 3, return for t = 0 : -0.10384958265614318\n",
      "Implied expected, taking into consideration 1 and 2, return for t = 1 : -0.15562280646335774\n",
      "Implied expected, taking into consideration 1, 2 and 3, return for t = 1 : -0.09261172673680355\n",
      "Implied expected, taking into consideration 1 and 2, return for t = 2 : -0.1553843104196329\n",
      "Implied expected, taking into consideration 1, 2 and 3, return for t = 2 : -0.08151920118153329\n",
      "Implied expected, taking into consideration 1 and 2, return for t = 5 : -0.15476439790850877\n",
      "Implied expected, taking into consideration 1, 2 and 3, return for t = 5 : -0.05268687648431916\n",
      "Implied expected, taking into consideration 1 and 2, return for t = 10 : -0.1507053723546123\n",
      "Implied expected, taking into consideration 1, 2 and 3, return for t = 10 : -0.008703963671839302\n"
     ]
    }
   ],
   "source": [
    "for key12, key13 in zip(optimal_pfs12, optimal_pfs13):\n",
    "    implied_expected_return = expected_returns.dot(optimal_pfs12[key12])\n",
    "    print(\n",
    "        \"Implied expected, taking into consideration 1 and 2, return for t =\",\n",
    "        key12,\n",
    "        \":\",\n",
    "        np.sum(implied_expected_return - expected_returns),\n",
    "    )\n",
    "    implied_expected_return = expected_returns.dot(optimal_pfs13[key13])\n",
    "    print(\n",
    "        \"Implied expected, taking into consideration 1, 2 and 3, return for t =\",\n",
    "        key13,\n",
    "        \":\",\n",
    "        np.sum(implied_expected_return - expected_returns),\n",
    "    )"
   ]
  },
  {
   "cell_type": "markdown",
   "metadata": {},
   "source": [
    "### Question 2.e\n",
    "We expect the carbon intensity to be the same as at $t=0$ before the rebalancing, as the weights of the assets are the same when no rebalancing occurs."
   ]
  },
  {
   "cell_type": "markdown",
   "metadata": {},
   "source": [
    "### Question 3.a"
   ]
  },
  {
   "cell_type": "markdown",
   "metadata": {},
   "source": [
    "In this question we have a constraint on weights where : \n",
    "$$ w_i \\geq \\frac{b_i}{2}$$\n",
    "\n",
    "So in this case the QP program corresponds to: \n",
    "\n",
    "$$ w^* = \\argmin \\frac{1}{2} w^\\mathsf{T} Qw - w^\\mathsf{T}R$$\n",
    "\n",
    "$$\\text{s.t.} \\left \\{ \\begin{array}{ccc} A x & = & B \\\\ C x & \\leq & D \\\\ x^- & \\leq & x & \\leq &  x^+ \\end{array} \\right.$$\n",
    "\n",
    "\n",
    "**where in our case** : \n",
    "- the equality constraint is the budget constraint $ \\left( \\sum_{i=1}^n w_i = 1  \\right) $ : $ A = 1_n^\\mathsf{T} $ and $ B = 1 $\n",
    "- the bounds correspond to the no short-selling restriction (long-only constraint) $ \\left( 0 \\leq w_i \\leq 1 \\right) $ : $ w^- = \\frac{1}{2}b_n $ and $ w^+ = 1_n $ (with $b_n$ the vector of weights of the benchmark).\n",
    "- minimmization of the tracking error volatility : $ Q = \\Sigma $ and $ R = 0_n $\n",
    "- the decarbonization constraint : $ C = \\mathcal{CI}^\\mathsf{T} $ and $ D = \\mathcal{CI}^⋆ $"
   ]
  },
  {
   "cell_type": "code",
   "execution_count": 136,
   "metadata": {},
   "outputs": [],
   "source": [
    "def solve_esg_qp_3_problem(t: float) -> np.ndarray:\n",
    "    \"\"\"Solver for the quadratic programming problem\n",
    "\n",
    "    Args:\n",
    "        t (float): t parameter\n",
    "\n",
    "    Returns:\n",
    "        np.ndarray: optimal portfolio weights\n",
    "    \"\"\"\n",
    "    w = cp.Variable(11, \"w\")  # Portfolio weights\n",
    "\n",
    "    objective = cp.Minimize(0.5 * cp.quad_form(w, cov_mat))\n",
    "    constraints = [\n",
    "        cp.sum(w) == 1,\n",
    "        weights/2 <= w,\n",
    "        w <= 1,\n",
    "        cp.sum(sci12 * w) <= 0.7 * (0.93**t) * ci_b,\n",
    "    ]\n",
    "    problem = cp.Problem(objective, constraints)\n",
    "\n",
    "    problem.solve()\n",
    "\n",
    "    return w.value"
   ]
  },
  {
   "cell_type": "markdown",
   "metadata": {},
   "source": [
    "Here we just considere the time $t=0$:"
   ]
  },
  {
   "cell_type": "code",
   "execution_count": 137,
   "metadata": {},
   "outputs": [
    {
     "name": "stdout",
     "output_type": "stream",
     "text": [
      "Optimal portfolio for t = 0 : [0.041      0.0615     0.39598212 0.0155     0.066      0.12720186\n",
      " 0.051      0.115      0.0225     0.08802126 0.01629475]\n",
      "Tracking error volatility: 0.09560531390610101\n",
      "Carbon momentum: -0.04320317787171007\n",
      "Carbon intensity: 88.9476\n",
      "Green intensity: 0.0052660565549487275\n",
      "Reduction rate: [0.99225611 0.97386439 0.85353386 0.94705984 0.99013127 0.97897788\n",
      " 0.95785721 0.97918437 0.90101757 0.93834882 0.78776869]\n"
     ]
    }
   ],
   "source": [
    "t = 0\n",
    "sol = solve_esg_qp_3_problem(t)\n",
    "print(\"Optimal portfolio for t =\", t, \":\", sol)\n",
    "tracking_eror_volatility = np.sqrt((sol - weights).T.dot(cov_mat).dot(sol - weights))\n",
    "print(\"Tracking error volatility:\", tracking_eror_volatility)\n",
    "carbon_momentum = cm12.dot(sol)\n",
    "print(\"Carbon momentum:\", carbon_momentum)\n",
    "carbon_intensity = sci12.dot(sol)\n",
    "print(\"Carbon intensity:\", carbon_intensity)\n",
    "green_intensity = gii.dot(sol)\n",
    "print(\"Green intensity:\", green_intensity)\n",
    "reduction_rate = 1 - (sci12 * sol) / (ci_b)\n",
    "print(\"Reduction rate:\", reduction_rate)"
   ]
  },
  {
   "cell_type": "markdown",
   "metadata": {},
   "source": [
    "### Question 3.b"
   ]
  },
  {
   "cell_type": "markdown",
   "metadata": {},
   "source": [
    "In this case we have another constraint to add : \n",
    "$$\\mathcal{CM}(t,w):= \\sum_{i=1}^{n} w_i \\mathcal{CM}_i \\leq \\mathcal{CM}^*$$\n",
    "with $\\mathcal{CM}^* \\in \\{ −5\\%, −6\\%, −7\\%, −8\\% \\}$"
   ]
  },
  {
   "cell_type": "markdown",
   "metadata": {},
   "source": [
    "So the general formulation of the QP problem is:\n",
    "\n",
    "$$ w^* = \\argmin \\frac{1}{2} w^\\mathsf{T} Qw - w^\\mathsf{T}R$$\n",
    "\n",
    "$$\\text{s.t.} \\left \\{ \\begin{array}{ccc} A x & = & B \\\\ C x & \\leq & D \\\\ x^- & \\leq & x & \\leq &  x^+ \\end{array} \\right.$$\n",
    "\n",
    "\n",
    "**where in our case** : \n",
    "- the equality constraint is the budget constraint $ \\left( \\sum_{i=1}^n w_i = 1  \\right) $ : $ A = 1_n^\\mathsf{T} $ and $ B = 1 $\n",
    "- the bounds correspond to the no short-selling restriction (long-only constraint) $ \\left( 0 \\leq w_i \\leq 1 \\right) $ : $ w^- = 0 $ and $ w^+ = 1_n $.\n",
    "- minimmization of the tracking error volatility : $ Q = \\Sigma $ and $ R = 0_n $\n",
    "- the decarbonization constraint and carbon momentum: C = $ \\begin{pmatrix} \\mathcal{CI}^\\mathsf{T} \\\\ \\mathcal{CM}^\\mathsf{T} \\end{pmatrix}$ and D = $ \\begin{pmatrix} \\mathcal{CI}^⋆ \\\\ \\mathcal{CM}^⋆ \\end{pmatrix}$.\n"
   ]
  },
  {
   "cell_type": "code",
   "execution_count": 98,
   "metadata": {},
   "outputs": [],
   "source": [
    "cm_star_list = np.array([-5, -6, -7, -8])\n",
    "cm_star_list = cm_star_list / 100 # convert from percentage to decimal"
   ]
  },
  {
   "cell_type": "code",
   "execution_count": 138,
   "metadata": {},
   "outputs": [],
   "source": [
    "def solve_esg_qp_3_b_problem(t: float, i : int) -> np.ndarray:\n",
    "    \"\"\"Solver for the quadratic programming problem\n",
    "\n",
    "    Args:\n",
    "        t (float): t parameter\n",
    "\n",
    "    Returns:\n",
    "        np.ndarray: optimal portfolio weights\n",
    "    \"\"\"\n",
    "    w = cp.Variable(11, \"w\")  # Portfolio weights\n",
    "\n",
    "    objective = cp.Minimize(0.5 * cp.quad_form(w, cov_mat))\n",
    "    constraints = [\n",
    "        cp.sum(w) == 1,\n",
    "        0 <= w,\n",
    "        w <= 1,\n",
    "        cp.sum(sci12 * w) <= 0.7 * (0.93**t) * ci_b,\n",
    "        cp.sum(cm12 * w) <= cm_star_list[i],\n",
    "    ]\n",
    "    problem = cp.Problem(objective, constraints)\n",
    "\n",
    "    problem.solve()\n",
    "\n",
    "    return w.value"
   ]
  },
  {
   "cell_type": "code",
   "execution_count": 151,
   "metadata": {},
   "outputs": [
    {
     "name": "stdout",
     "output_type": "stream",
     "text": [
      "For CM* =  -0.06\n",
      "Optimal portfolio for t = 0 : [ 1.54577839e-03  6.62608788e-02  2.90188979e-01 -4.79718914e-22\n",
      "  1.35337318e-01  2.74804856e-01  1.58397760e-01  1.94184481e-21\n",
      " -4.28020623e-22  4.78059857e-02  2.56584431e-02]\n",
      "Tracking error volatility: 0.10422924645523664\n",
      "Carbon momentum: -0.06\n",
      "Carbon intensity: 88.9476\n",
      "Green intensity: 0.007620052445919704\n",
      "Reduction rate: [0.99970804 0.97184116 0.8926647  1.         0.97976352 0.95458414\n",
      " 0.8691113  1.         1.         0.9665161  0.66581104]\n",
      "For CM* =  0.0\n",
      "Optimal portfolio for t = 0 : [ 9.52079102e-02  3.33688277e-02  4.46521686e-01 -7.42421262e-22\n",
      "  2.18675153e-02  1.78335631e-01  6.53289731e-02  3.57770471e-21\n",
      " -6.66484141e-22  1.34675829e-01  2.46936267e-02]\n",
      "Tracking error volatility: 0.13190031530001348\n",
      "Carbon momentum: -0.04046482958791959\n",
      "Carbon intensity: 88.9476\n",
      "Green intensity: 0.006028154022616099\n",
      "Reduction rate: [0.98201758 0.98581927 0.83484025 1.         0.99673023 0.97052721\n",
      " 0.94601676 1.         1.         0.90567138 0.67837731]\n",
      "For CM* =  -0.07\n",
      "Optimal portfolio for t = 0 : [-6.29454724e-23  7.91177751e-02  1.74657897e-01  3.24158677e-23\n",
      "  1.90258831e-01  3.23589227e-01  2.05501096e-01 -9.23791890e-23\n",
      "  1.91522654e-23  1.36826657e-23  2.68751736e-02]\n",
      "Tracking error volatility: 0.09944676353791691\n",
      "Carbon momentum: -0.07\n",
      "Carbon intensity: 88.94760000000002\n",
      "Green intensity: 0.008376307519446211\n",
      "Reduction rate: [1.         0.96637737 0.93539742 1.         0.97155131 0.94652175\n",
      " 0.83018844 1.         1.         1.         0.6499637 ]\n",
      "For CM* =  -0.07\n",
      "Optimal portfolio for t = 0 : [-6.29454724e-23  7.91177751e-02  1.74657897e-01  3.24158677e-23\n",
      "  1.90258831e-01  3.23589227e-01  2.05501096e-01 -9.23791890e-23\n",
      "  1.91522654e-23  1.36826657e-23  2.68751736e-02]\n",
      "Tracking error volatility: 0.09944676353791691\n",
      "Carbon momentum: -0.07\n",
      "Carbon intensity: 88.94760000000002\n",
      "Green intensity: 0.008376307519446211\n",
      "Reduction rate: [1.         0.96637737 0.93539742 1.         0.97155131 0.94652175\n",
      " 0.83018844 1.         1.         1.         0.6499637 ]\n"
     ]
    }
   ],
   "source": [
    "for i in range(len(cm_star_list)):\n",
    "    print(\"For CM* = \", cm_star_list[i])\n",
    "    t = 0\n",
    "    sol = solve_esg_qp_3_b_problem(t, i)\n",
    "    print(\"Optimal portfolio for t =\", t, \":\", sol)\n",
    "    tracking_eror_volatility = np.sqrt((sol - weights).T.dot(cov_mat).dot(sol - weights))\n",
    "    print(\"Tracking error volatility:\", tracking_eror_volatility)\n",
    "    carbon_momentum = cm12.dot(sol)\n",
    "    print(\"Carbon momentum:\", carbon_momentum)\n",
    "    carbon_intensity = sci12.dot(sol)\n",
    "    print(\"Carbon intensity:\", carbon_intensity)\n",
    "    green_intensity = gii.dot(sol)\n",
    "    print(\"Green intensity:\", green_intensity)\n",
    "    reduction_rate = 1 - (sci12 * sol) / (ci_b)\n",
    "    print(\"Reduction rate:\", reduction_rate)"
   ]
  },
  {
   "cell_type": "markdown",
   "metadata": {},
   "source": [
    "### Question 3.c"
   ]
  },
  {
   "cell_type": "markdown",
   "metadata": {},
   "source": [
    "In this case we have another constraint to add : \n",
    "$$\\mathcal{GI}(t,w):= \\sum_{i=1}^{n} w_i \\mathcal{GI}_i \\geq (1+\\mathcal{G})\\mathcal{GI}(b)$$\n",
    "with $\\mathcal{G} \\geq 1$."
   ]
  },
  {
   "cell_type": "markdown",
   "metadata": {},
   "source": [
    "So the general formulation of the QP problem is:\n",
    "\n",
    "$$ w^* = \\argmin \\frac{1}{2} w^\\mathsf{T} Qw - w^\\mathsf{T}R$$\n",
    "\n",
    "$$\\text{s.t.} \\left \\{ \\begin{array}{ccc} A x & = & B \\\\ C x & \\leq & D \\\\ x^- & \\leq & x & \\leq &  x^+ \\end{array} \\right.$$\n",
    "\n",
    "\n",
    "**where in our case** : \n",
    "- the equality constraint is the budget constraint $ \\left( \\sum_{i=1}^n w_i = 1  \\right) $ : $ A = 1_n^\\mathsf{T} $ and $ B = 1 $\n",
    "- the bounds correspond to the no short-selling restriction (long-only constraint) $ \\left( 0 \\leq w_i \\leq 1 \\right) $ : $ w^- = 0 $ and $ w^+ = 1_n $.\n",
    "- minimmization of the tracking error volatility : $ Q = \\Sigma $ and $ R = 0_n $\n",
    "- the decarbonization constraint and carbon momentum: C = $ \\begin{pmatrix} \\mathcal{CI}^\\mathsf{T} \\\\ \\mathcal{GI}^\\mathsf{T} \\end{pmatrix}$ and D = $ \\begin{pmatrix} \\mathcal{CI}^⋆ \\\\ -(1+\\mathcal{G})\\mathcal{GI}(b) \\end{pmatrix}$.\n"
   ]
  },
  {
   "cell_type": "code",
   "execution_count": 101,
   "metadata": {},
   "outputs": [],
   "source": [
    "G_list = np.array([0, 0.5, 1, 2])"
   ]
  },
  {
   "cell_type": "code",
   "execution_count": 147,
   "metadata": {},
   "outputs": [],
   "source": [
    "def solve_esg_qp_3_c_problem(t: float, i : int) -> np.ndarray:\n",
    "    \"\"\"Solver for the quadratic programming problem\n",
    "\n",
    "    Args:\n",
    "        t (float): t parameter\n",
    "\n",
    "    Returns:\n",
    "        np.ndarray: optimal portfolio weights\n",
    "    \"\"\"\n",
    "    w = cp.Variable(11, \"w\")  # Portfolio weights\n",
    "\n",
    "    objective = cp.Minimize(0.5 * cp.quad_form(w, cov_mat))\n",
    "    constraints = [\n",
    "        cp.sum(w) == 1,\n",
    "        0 <= w,\n",
    "        w <= 1,\n",
    "        cp.sum(sci12 * w) <= 0.7 * (0.93**t) * ci_b, \n",
    "        cp.sum(gii * w) <= (1+ G_list[i] )*gi_b\n",
    "    ]\n",
    "    problem = cp.Problem(objective, constraints)\n",
    "\n",
    "    problem.solve()\n",
    "\n",
    "    return w.value"
   ]
  },
  {
   "cell_type": "code",
   "execution_count": 150,
   "metadata": {},
   "outputs": [
    {
     "name": "stdout",
     "output_type": "stream",
     "text": [
      "For G =  0.25\n",
      "Optimal portfolio for t = 0 : [ 9.52079102e-02  3.33688277e-02  4.46521686e-01 -7.42421262e-22\n",
      "  2.18675153e-02  1.78335631e-01  6.53289731e-02  3.57770471e-21\n",
      " -6.66484141e-22  1.34675829e-01  2.46936267e-02]\n",
      "Tracking error volatility: 0.13190031530001348\n",
      "Carbon momentum: -0.04046482958791959\n",
      "Carbon intensity: 88.9476\n",
      "Green intensity: 0.006028154022616099\n",
      "Reduction rate: [0.98201758 0.98581927 0.83484025 1.         0.99673023 0.97052721\n",
      " 0.94601676 1.         1.         0.90567138 0.67837731]\n",
      "For G =  0.5\n",
      "Optimal portfolio for t = 0 : [ 9.52079102e-02  3.33688277e-02  4.46521686e-01 -7.42421262e-22\n",
      "  2.18675153e-02  1.78335631e-01  6.53289731e-02  3.57770471e-21\n",
      " -6.66484141e-22  1.34675829e-01  2.46936267e-02]\n",
      "Tracking error volatility: 0.13190031530001348\n",
      "Carbon momentum: -0.04046482958791959\n",
      "Carbon intensity: 88.9476\n",
      "Green intensity: 0.006028154022616099\n",
      "Reduction rate: [0.98201758 0.98581927 0.83484025 1.         0.99673023 0.97052721\n",
      " 0.94601676 1.         1.         0.90567138 0.67837731]\n",
      "For G =  0.0\n",
      "Optimal portfolio for t = 0 : [ 9.52079102e-02  3.33688277e-02  4.46521686e-01 -7.42421262e-22\n",
      "  2.18675153e-02  1.78335631e-01  6.53289731e-02  3.57770471e-21\n",
      " -6.66484141e-22  1.34675829e-01  2.46936267e-02]\n",
      "Tracking error volatility: 0.13190031530001348\n",
      "Carbon momentum: -0.04046482958791959\n",
      "Carbon intensity: 88.9476\n",
      "Green intensity: 0.006028154022616099\n",
      "Reduction rate: [0.98201758 0.98581927 0.83484025 1.         0.99673023 0.97052721\n",
      " 0.94601676 1.         1.         0.90567138 0.67837731]\n",
      "For G =  25.0\n",
      "Optimal portfolio for t = 0 : [ 9.52079102e-02  3.33688277e-02  4.46521686e-01 -7.42421262e-22\n",
      "  2.18675153e-02  1.78335631e-01  6.53289731e-02  3.57770471e-21\n",
      " -6.66484141e-22  1.34675829e-01  2.46936267e-02]\n",
      "Tracking error volatility: 0.13190031530001348\n",
      "Carbon momentum: -0.04046482958791959\n",
      "Carbon intensity: 88.9476\n",
      "Green intensity: 0.006028154022616099\n",
      "Reduction rate: [0.98201758 0.98581927 0.83484025 1.         0.99673023 0.97052721\n",
      " 0.94601676 1.         1.         0.90567138 0.67837731]\n"
     ]
    }
   ],
   "source": [
    "for i in range(len(G_list)):\n",
    "    print(\"For G = \", G_list[i])\n",
    "    t = 0\n",
    "    sol = solve_esg_qp_3_c_problem(t, i)\n",
    "    print(\"Optimal portfolio for t =\", t, \":\", sol)\n",
    "    tracking_eror_volatility = np.sqrt((sol - weights).T.dot(cov_mat).dot(sol - weights))\n",
    "    print(\"Tracking error volatility:\", tracking_eror_volatility)\n",
    "    carbon_momentum = cm12.dot(sol)\n",
    "    print(\"Carbon momentum:\", carbon_momentum)\n",
    "    carbon_intensity = sci12.dot(sol)\n",
    "    print(\"Carbon intensity:\", carbon_intensity)\n",
    "    green_intensity = gii.dot(sol)\n",
    "    print(\"Green intensity:\", green_intensity)\n",
    "    reduction_rate = 1 - (sci12 * sol) / (ci_b)\n",
    "    print(\"Reduction rate:\", reduction_rate)"
   ]
  },
  {
   "cell_type": "markdown",
   "metadata": {},
   "source": [
    "### Question 3.c"
   ]
  },
  {
   "cell_type": "markdown",
   "metadata": {},
   "source": [
    "In this case we have all the constraints to take into account.\n",
    "\n",
    "So the general formulation of the QP problem is:\n",
    "\n",
    "$$ w^* = \\argmin \\frac{1}{2} w^\\mathsf{T} Qw - w^\\mathsf{T}R$$\n",
    "\n",
    "$$\\text{s.t.} \\left \\{ \\begin{array}{ccc} A x & = & B \\\\ C x & \\leq & D \\\\ x^- & \\leq & x & \\leq &  x^+ \\end{array} \\right.$$\n",
    "\n",
    "\n",
    "**where in our case** : \n",
    "- the equality constraint is the budget constraint $ \\left( \\sum_{i=1}^n w_i = 1  \\right) $ : $ A = 1_n^\\mathsf{T} $ and $ B = 1 $\n",
    "- the bounds correspond to the no short-selling restriction (long-only constraint) $ \\left( 0 \\leq w_i \\leq 1 \\right) $ : $ w^- = \\frac{1}{2} b_n $ and $ w^+ = 1_n $.\n",
    "- minimmization of the tracking error volatility : $ Q = \\Sigma $ and $ R = 0_n $\n",
    "- the decarbonization constraint and carbon momentum: C = $ \\begin{pmatrix} \\mathcal{CI}^\\mathsf{T} \\\\ \\mathcal{GI}^\\mathsf{T} \\end{pmatrix}$ and D = $ \\begin{pmatrix} \\mathcal{CI}^⋆ \\\\ -(1+\\mathcal{G})\\mathcal{GI}(b) \\end{pmatrix}$."
   ]
  },
  {
   "cell_type": "code",
   "execution_count": 149,
   "metadata": {},
   "outputs": [],
   "source": [
    "cm_star_list = np.array([-6, 0, -7, -7])\n",
    "cm_star_list = cm_star_list / 100 # convert from percentage to decimal\n",
    "\n",
    "G_list = np.array([0.25, 0.5, 0, 25])\n",
    "\n",
    "def solve_esg_qp_3_d_problem(t: float, i : int , j: int) -> np.ndarray:\n",
    "    \"\"\"Solver for the quadratic programming problem\n",
    "\n",
    "    Args:\n",
    "        t (float): t parameter\n",
    "\n",
    "    Returns:\n",
    "        np.ndarray: optimal portfolio weights\n",
    "    \"\"\"\n",
    "    w = cp.Variable(11, \"w\")  # Portfolio weights\n",
    "\n",
    "    objective = cp.Minimize(0.5 * cp.quad_form(w, cov_mat))\n",
    "    constraints = [\n",
    "        cp.sum(w) == 1,\n",
    "        0 <= w,\n",
    "        w <= 1,\n",
    "        cp.sum(sci12 * w) <= 0.7 * (0.93**t) * ci_b, \n",
    "        cp.sum(cm12 * w) <= cm_star_list[i],\n",
    "        cp.sum(gii * w) <= (1+ G_list[j] )*gi_b\n",
    "    ]\n",
    "    problem = cp.Problem(objective, constraints)\n",
    "\n",
    "    problem.solve()\n",
    "\n",
    "    return w.value"
   ]
  },
  {
   "cell_type": "code",
   "execution_count": 152,
   "metadata": {},
   "outputs": [
    {
     "name": "stdout",
     "output_type": "stream",
     "text": [
      "For CM* =  -0.06  and G =  0.25\n",
      "Optimal portfolio for t = 0 : [ 1.54577839e-03  6.62608788e-02  2.90188979e-01 -4.79718914e-22\n",
      "  1.35337318e-01  2.74804856e-01  1.58397760e-01  1.94184481e-21\n",
      " -4.28020623e-22  4.78059857e-02  2.56584431e-02]\n",
      "Tracking error volatility: 0.10422924645523664\n",
      "Carbon momentum: -0.06\n",
      "Carbon intensity: 88.9476\n",
      "Green intensity: 0.007620052445919704\n",
      "Reduction rate: [0.99970804 0.97184116 0.8926647  1.         0.97976352 0.95458414\n",
      " 0.8691113  1.         1.         0.9665161  0.66581104]\n",
      "For CM* =  0.0  and G =  0.5\n",
      "Optimal portfolio for t = 0 : [ 9.52079102e-02  3.33688277e-02  4.46521686e-01 -7.42421262e-22\n",
      "  2.18675153e-02  1.78335631e-01  6.53289731e-02  3.57770471e-21\n",
      " -6.66484141e-22  1.34675829e-01  2.46936267e-02]\n",
      "Tracking error volatility: 0.13190031530001348\n",
      "Carbon momentum: -0.04046482958791959\n",
      "Carbon intensity: 88.9476\n",
      "Green intensity: 0.006028154022616099\n",
      "Reduction rate: [0.98201758 0.98581927 0.83484025 1.         0.99673023 0.97052721\n",
      " 0.94601676 1.         1.         0.90567138 0.67837731]\n",
      "For CM* =  -0.07  and G =  0.0\n",
      "Optimal portfolio for t = 0 : [-6.29454724e-23  7.91177751e-02  1.74657897e-01  3.24158677e-23\n",
      "  1.90258831e-01  3.23589227e-01  2.05501096e-01 -9.23791890e-23\n",
      "  1.91522654e-23  1.36826657e-23  2.68751736e-02]\n",
      "Tracking error volatility: 0.09944676353791691\n",
      "Carbon momentum: -0.07\n",
      "Carbon intensity: 88.94760000000002\n",
      "Green intensity: 0.008376307519446211\n",
      "Reduction rate: [1.         0.96637737 0.93539742 1.         0.97155131 0.94652175\n",
      " 0.83018844 1.         1.         1.         0.6499637 ]\n",
      "For CM* =  -0.07  and G =  25.0\n",
      "Optimal portfolio for t = 0 : [-6.29454724e-23  7.91177751e-02  1.74657897e-01  3.24158677e-23\n",
      "  1.90258831e-01  3.23589227e-01  2.05501096e-01 -9.23791890e-23\n",
      "  1.91522654e-23  1.36826657e-23  2.68751736e-02]\n",
      "Tracking error volatility: 0.09944676353791691\n",
      "Carbon momentum: -0.07\n",
      "Carbon intensity: 88.94760000000002\n",
      "Green intensity: 0.008376307519446211\n",
      "Reduction rate: [1.         0.96637737 0.93539742 1.         0.97155131 0.94652175\n",
      " 0.83018844 1.         1.         1.         0.6499637 ]\n"
     ]
    }
   ],
   "source": [
    "for i in range(len(G_list)):\n",
    "    print(\"For CM* = \", cm_star_list[i], \" and G = \", G_list[i])\n",
    "    t = 0\n",
    "    sol = solve_esg_qp_3_d_problem(t, i,i)\n",
    "    print(\"Optimal portfolio for t =\", t, \":\", sol)\n",
    "    tracking_eror_volatility = np.sqrt((sol - weights).T.dot(cov_mat).dot(sol - weights))\n",
    "    print(\"Tracking error volatility:\", tracking_eror_volatility)\n",
    "    carbon_momentum = cm12.dot(sol)\n",
    "    print(\"Carbon momentum:\", carbon_momentum)\n",
    "    carbon_intensity = sci12.dot(sol)\n",
    "    print(\"Carbon intensity:\", carbon_intensity)\n",
    "    green_intensity = gii.dot(sol)\n",
    "    print(\"Green intensity:\", green_intensity)\n",
    "    reduction_rate = 1 - (sci12 * sol) / (ci_b)\n",
    "    print(\"Reduction rate:\", reduction_rate)"
   ]
  }
 ],
 "metadata": {
  "kernelspec": {
   "display_name": ".venv",
   "language": "python",
   "name": "python3"
  },
  "language_info": {
   "codemirror_mode": {
    "name": "ipython",
    "version": 3
   },
   "file_extension": ".py",
   "mimetype": "text/x-python",
   "name": "python",
   "nbconvert_exporter": "python",
   "pygments_lexer": "ipython3",
   "version": "3.10.11"
  }
 },
 "nbformat": 4,
 "nbformat_minor": 2
}

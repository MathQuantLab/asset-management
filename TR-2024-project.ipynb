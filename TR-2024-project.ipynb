{
 "cells": [
  {
   "cell_type": "markdown",
   "metadata": {},
   "source": [
    "# Asset Management & Sustainable Finance\n",
    "- Sarahnour Ghaith\n",
    "- Thomas Roiseux"
   ]
  },
  {
   "cell_type": "code",
   "execution_count": null,
   "metadata": {},
   "outputs": [],
   "source": [
    "import cvxpy as cp\n",
    "import numpy as np\n",
    "\n",
    "import matplotlib.pyplot as plt\n",
    "from scipy.stats import norm\n",
    "\n",
    "from typing import Dict, Callable"
   ]
  },
  {
   "cell_type": "markdown",
   "metadata": {},
   "source": [
    "## Exercise 1 - Portfolio optimization and risk budgeting"
   ]
  },
  {
   "cell_type": "code",
   "execution_count": null,
   "metadata": {},
   "outputs": [],
   "source": [
    "corr_mat = np.array(\n",
    "    [\n",
    "        [1, 0.5, 0.3, 0.6, 0.4],\n",
    "        [0.5, 1, 0.3, 0.6, 0.3],\n",
    "        [0.3, 0.3, 1, 0.6, 0.7],\n",
    "        [0.6, 0.6, 0.6, 1, 0.3],\n",
    "        [0.4, 0.3, 0.7, 0.3, 1],\n",
    "    ],\n",
    "    dtype=np.float64,\n",
    ")\n",
    "\n",
    "r = 0.02  # risk free rate\n",
    "\n",
    "mu = np.array([0.05, 0.05, 0.06, 0.04, 0.07], dtype=np.float64).T\n",
    "sigma = np.array([0.2, 0.22, 0.25, 0.18, 0.45], dtype=np.float64).T"
   ]
  },
  {
   "cell_type": "markdown",
   "metadata": {},
   "source": [
    "### Question 1.a"
   ]
  },
  {
   "cell_type": "code",
   "execution_count": null,
   "metadata": {},
   "outputs": [],
   "source": [
    "cov_mat = np.zeros_like(corr_mat)  # Covariance matrix\n",
    "\n",
    "for i in range(len(cov_mat)):\n",
    "    for j in range(i, len(cov_mat)):\n",
    "        cov_mat[i, j] = corr_mat[i, j] * sigma[i] * sigma[j]\n",
    "        cov_mat[j, i] = cov_mat[i, j]\n",
    "\n",
    "\n",
    "print(cov_mat)"
   ]
  },
  {
   "cell_type": "markdown",
   "metadata": {},
   "source": [
    "### Question 1.b"
   ]
  },
  {
   "cell_type": "code",
   "execution_count": null,
   "metadata": {},
   "outputs": [],
   "source": [
    "sr = (mu - r) / sigma  # Sharpe ratio\n",
    "\n",
    "for k in range(len(mu)):\n",
    "    print(\"Sharpe ratio for asset\", k + 1, \":\", sr[k])"
   ]
  },
  {
   "cell_type": "markdown",
   "metadata": {},
   "source": [
    "### Question 2.b"
   ]
  },
  {
   "cell_type": "code",
   "execution_count": null,
   "metadata": {},
   "outputs": [],
   "source": [
    "def solve_qp_problem(gamma: float) -> np.ndarray:\n",
    "    \"\"\"Solver for the quadratic programming problem\n",
    "\n",
    "    Args:\n",
    "        gamma (float): gamma parameter\n",
    "\n",
    "    Returns:\n",
    "        np.ndarray: optimal portfolio weights\n",
    "    \"\"\"\n",
    "    x = cp.Variable(len(mu), \"x\")  # Portfolio weights\n",
    "\n",
    "    objective = cp.Minimize(\n",
    "        0.5 * cp.quad_form(x, cov_mat) - gamma * cp.matmul(mu - r, x)\n",
    "    )\n",
    "    constraints = [cp.sum(x) == 1, -10 <= x, x <= 10]\n",
    "    problem = cp.Problem(objective, constraints)\n",
    "\n",
    "    problem.solve()\n",
    "\n",
    "    return x.value"
   ]
  },
  {
   "cell_type": "code",
   "execution_count": null,
   "metadata": {},
   "outputs": [],
   "source": [
    "optimal_x: Dict[float, np.ndarray] = {}\n",
    "gammas = [0, 0.1, 0.2, 0.5, 1]\n",
    "\n",
    "for gamma in gammas:\n",
    "    sol = solve_qp_problem(gamma)\n",
    "    print(\"Optimal portfolio for gamma =\", gamma, \":\", sol)\n",
    "    optimal_x[gamma] = sol"
   ]
  },
  {
   "cell_type": "code",
   "execution_count": null,
   "metadata": {},
   "outputs": [],
   "source": [
    "for gamma, sol in optimal_x.items():\n",
    "    print(\"Gamma:\", gamma)\n",
    "    expected_return = np.dot(sol.T, mu)\n",
    "    volatility = sol.T.dot(cov_mat).dot(sol)\n",
    "    sharpe_ratio = (expected_return - r) / volatility\n",
    "    print(\"  Expected return:\", expected_return)\n",
    "    print(\"  Volatility:\", volatility)\n",
    "    print(\"  Sharpe ratio:\", sharpe_ratio)"
   ]
  },
  {
   "cell_type": "markdown",
   "metadata": {},
   "source": [
    "### Question 2.c"
   ]
  },
  {
   "cell_type": "code",
   "execution_count": null,
   "metadata": {},
   "outputs": [],
   "source": [
    "precise_gammas = np.linspace(-10, 10, 500)\n",
    "\n",
    "solutions = [solve_qp_problem(gamma) for gamma in precise_gammas]\n",
    "returns = np.array([np.dot(sol.T, mu) * 100 for sol in solutions])\n",
    "volatilities = np.array([sol.T.dot(cov_mat).dot(sol) * 100 for sol in solutions])"
   ]
  },
  {
   "cell_type": "code",
   "execution_count": null,
   "metadata": {},
   "outputs": [],
   "source": [
    "plt.figure(figsize=(10, 6))\n",
    "plt.plot(\n",
    "    volatilities,\n",
    "    returns,\n",
    "    label=\"Efficient frontier\",\n",
    ")\n",
    "plt.legend()\n",
    "plt.grid(visible=True)\n",
    "plt.xlabel(\"Volatility (in %)\")\n",
    "plt.ylabel(\"Expected return (in %)\")\n",
    "plt.title(\"Efficient frontier\")\n",
    "plt.show()"
   ]
  },
  {
   "cell_type": "markdown",
   "metadata": {},
   "source": [
    "### Question 2.d"
   ]
  },
  {
   "cell_type": "code",
   "execution_count": null,
   "metadata": {},
   "outputs": [],
   "source": [
    "def bisection_algorithm(\n",
    "    f: Callable[[float], float],\n",
    "    a: float,\n",
    "    b: float,\n",
    "    target: float,\n",
    "    /,\n",
    "    tol: float = 10**-5,\n",
    "    *,\n",
    "    max_iter: int = 100,\n",
    ") -> float:\n",
    "    \"\"\"Bisection algorithm\n",
    "\n",
    "    Args:\n",
    "        f (function): function to find the root of\n",
    "        a (float): left bound\n",
    "        b (float): right bound\n",
    "        target (float): target value\n",
    "        tol (float, optional): tolerance. Defaults to 10**-5.\n",
    "        max_iter (int, optional): maximum number of iterations. Defaults to 100.\n",
    "\n",
    "    Returns:\n",
    "        float: root of the function\n",
    "    \"\"\"\n",
    "    if b - a < 0:\n",
    "        a, b = b, a\n",
    "\n",
    "    gamma_bar = (a + b) / 2\n",
    "\n",
    "    if b - a < tol or max_iter == 0:\n",
    "        return gamma_bar\n",
    "\n",
    "    f_bar = f(gamma_bar)\n",
    "\n",
    "    if f_bar < target:\n",
    "        a = gamma_bar\n",
    "    else:\n",
    "        b = gamma_bar\n",
    "\n",
    "    return bisection_algorithm(f, a, b, target, tol=tol, max_iter=max_iter - 1)"
   ]
  },
  {
   "cell_type": "code",
   "execution_count": null,
   "metadata": {},
   "outputs": [],
   "source": [
    "targets = (16, 20)\n",
    "\n",
    "\n",
    "def volatilities_function(gamma: float) -> float:\n",
    "    sol = solve_qp_problem(gamma)\n",
    "    return sol.T.dot(cov_mat).dot(sol) * 100\n",
    "\n",
    "\n",
    "for target in targets:\n",
    "    gamma = bisection_algorithm(\n",
    "        volatilities_function,\n",
    "        0,\n",
    "        100,\n",
    "        target,\n",
    "    )\n",
    "    print(\"Gamma for target volatility of\", target, \":\", gamma)\n",
    "    print(\"  Expected return:\", np.dot(solve_qp_problem(gamma).T, mu) * 100)\n",
    "    print(\"  Volatility:\", volatilities_function(gamma))\n",
    "    print(\n",
    "        \"  Sharpe ratio:\",\n",
    "        (np.dot(solve_qp_problem(gamma).T, mu) - r) / volatilities_function(gamma),\n",
    "    )"
   ]
  },
  {
   "cell_type": "markdown",
   "metadata": {},
   "source": [
    "### Question 2.e"
   ]
  },
  {
   "cell_type": "code",
   "execution_count": null,
   "metadata": {},
   "outputs": [],
   "source": [
    "sharpe_ratios = (returns - r * 100) / volatilities  # Converting r into %\n",
    "\n",
    "i = np.argmax(sharpe_ratios)\n",
    "tp = solve_qp_problem(precise_gammas[i])\n",
    "print(\"Optimal portfolio for maximum Sharpe ratio:\", tp)\n",
    "print(\"Maximum Sharpe ratio:\", sharpe_ratios[i])\n",
    "print(\"Expected return (in %):\", returns[i])\n",
    "print(\"Volatility (in %):\", volatilities[i])"
   ]
  },
  {
   "cell_type": "markdown",
   "metadata": {},
   "source": [
    "### Question 2.f\n",
    "The analytical solutoin can be found by maximizing the Sharpe Ratio. This is exactly what we did in the previous question so we will have the same answer.\n",
    "\n",
    "### Question 3.a"
   ]
  },
  {
   "cell_type": "code",
   "execution_count": null,
   "metadata": {},
   "outputs": [],
   "source": [
    "def solve_long_only_qp_problem(gamma: float) -> np.ndarray:\n",
    "    \"\"\"Solver for the quadratic programming problem\n",
    "\n",
    "    Args:\n",
    "        gamma (float): gamma parameter\n",
    "\n",
    "    Returns:\n",
    "        np.ndarray: optimal portfolio weights\n",
    "    \"\"\"\n",
    "    x = cp.Variable(len(mu), \"x\")  # Portfolio weights\n",
    "\n",
    "    objective = cp.Minimize(\n",
    "        0.5 * cp.quad_form(x, cov_mat) - gamma * cp.matmul(mu - r, x)\n",
    "    )\n",
    "    constraints = [cp.sum(x) == 1, 0 <= x, x <= 1]\n",
    "    problem = cp.Problem(objective, constraints)\n",
    "\n",
    "    problem.solve()\n",
    "\n",
    "    return x.value"
   ]
  },
  {
   "cell_type": "code",
   "execution_count": null,
   "metadata": {},
   "outputs": [],
   "source": [
    "for gamma in gammas:\n",
    "    sol = solve_long_only_qp_problem(gamma)\n",
    "    print(\"Optimal portfolio for gamma =\", gamma, \":\", sol)\n",
    "    print(\"Gamma:\", gamma)\n",
    "    expected_return = np.dot(sol.T, mu)\n",
    "    volatility = sol.T.dot(cov_mat).dot(sol)\n",
    "    sharpe_ratio = (expected_return - r) / volatility\n",
    "    print(\"  Expected return (in %):\", expected_return * 100)\n",
    "    print(\"  Volatility (in %):\", volatility * 100)\n",
    "    print(\"  Sharpe ratio:\", sharpe_ratio)"
   ]
  },
  {
   "cell_type": "markdown",
   "metadata": {},
   "source": [
    "### Question 3.b"
   ]
  },
  {
   "cell_type": "code",
   "execution_count": null,
   "metadata": {},
   "outputs": [],
   "source": [
    "long_solutions = [solve_long_only_qp_problem(gamma) for gamma in precise_gammas]\n",
    "long_returns = np.array([np.dot(sol.T, mu) * 100 for sol in long_solutions])\n",
    "long_volatilities = np.array(\n",
    "    [sol.T.dot(cov_mat).dot(sol) * 100 for sol in long_solutions]\n",
    ")"
   ]
  },
  {
   "cell_type": "code",
   "execution_count": null,
   "metadata": {},
   "outputs": [],
   "source": [
    "plt.figure(figsize=(10, 6))\n",
    "plt.plot(\n",
    "    volatilities,\n",
    "    returns,\n",
    "    label=\"Efficient frontier long long/short\",\n",
    ")\n",
    "plt.plot(\n",
    "    long_volatilities,\n",
    "    long_returns,\n",
    "    label=\"Efficient frontier long only\",\n",
    ")\n",
    "plt.legend()\n",
    "plt.grid(visible=True)\n",
    "plt.xlabel(\"Volatility (in %)\")\n",
    "plt.ylabel(\"Expected return (in %)\")\n",
    "plt.title(\"Efficient frontier\")\n",
    "plt.show()"
   ]
  },
  {
   "cell_type": "markdown",
   "metadata": {},
   "source": [
    "### Question 3.c"
   ]
  },
  {
   "cell_type": "code",
   "execution_count": null,
   "metadata": {},
   "outputs": [],
   "source": [
    "for target in targets:\n",
    "    gamma = bisection_algorithm(\n",
    "        volatilities_function,\n",
    "        0,\n",
    "        100,\n",
    "        target,\n",
    "    )\n",
    "    print(\"Gamma for target volatility of\", target, \":\", gamma)\n",
    "    print(\"  Expected return:\", np.dot(solve_long_only_qp_problem(gamma).T, mu) * 100)\n",
    "    print(\"  Volatility:\", volatilities_function(gamma))\n",
    "    print(\n",
    "        \"  Sharpe ratio:\",\n",
    "        (np.dot(solve_qp_problem(gamma).T, mu) - r) / volatilities_function(gamma),\n",
    "    )"
   ]
  },
  {
   "cell_type": "markdown",
   "metadata": {},
   "source": [
    "### Question 3.d"
   ]
  },
  {
   "cell_type": "code",
   "execution_count": null,
   "metadata": {},
   "outputs": [],
   "source": [
    "sharpe_ratios = (long_returns - r * 100) / long_volatilities  # Converting r into %\n",
    "\n",
    "i = np.argmax(sharpe_ratios)\n",
    "tp = solve_long_only_qp_problem(precise_gammas[i])\n",
    "print(\"Optimal portfolio for maximum Sharpe ratio:\", tp)\n",
    "print(\"Maximum Sharpe ratio:\", sharpe_ratios[i])\n",
    "print(\"Expected return (in %):\", returns[i])\n",
    "print(\"Volatility (in %):\", volatilities[i])"
   ]
  },
  {
   "cell_type": "markdown",
   "metadata": {},
   "source": [
    "### Question 3.e"
   ]
  },
  {
   "cell_type": "code",
   "execution_count": null,
   "metadata": {},
   "outputs": [],
   "source": [
    "beta = cov_mat.dot(tp) / tp.T.dot(cov_mat).dot(tp)\n",
    "\n",
    "for i, value in enumerate(beta):\n",
    "    print(\"Beta for asset\", i + 1, \":\", value)"
   ]
  },
  {
   "cell_type": "markdown",
   "metadata": {},
   "source": [
    "### Question 4.a"
   ]
  },
  {
   "cell_type": "code",
   "execution_count": null,
   "metadata": {},
   "outputs": [],
   "source": [
    "vol = tp * cov_mat.dot(tp) / np.sqrt(tp.T.dot(cov_mat).dot(tp))\n",
    "var = tp * (-mu * norm.ppf(0.01) * sigma.dot(tp) / np.sqrt(tp.T.dot(cov_mat).dot(tp)))\n",
    "expected_shortfall = tp * (\n",
    "    -mu\n",
    "    + cov_mat.dot(tp)\n",
    "    / (0.99 * np.sqrt(tp.T.dot(cov_mat).dot(tp)))\n",
    "    * norm.cdf(norm.ppf(0.01))\n",
    ")\n",
    "\n",
    "for i in range(len(tp)):\n",
    "    print(\"Volatility contribution for asset\", i + 1, \":\", vol[i] * 100)\n",
    "    print(\"Value at risk contribution for asset\", i + 1, \":\", var[i] * 100)\n",
    "    print(\n",
    "        \"Expected shortfall contribution for asset\",\n",
    "        i + 1,\n",
    "        \":\",\n",
    "        expected_shortfall[i] * 100,\n",
    "    )"
   ]
  }
 ],
 "metadata": {
  "kernelspec": {
   "display_name": ".venv",
   "language": "python",
   "name": "python3"
  },
  "language_info": {
   "codemirror_mode": {
    "name": "ipython",
    "version": 3
   },
   "file_extension": ".py",
   "mimetype": "text/x-python",
   "name": "python",
   "nbconvert_exporter": "python",
   "pygments_lexer": "ipython3",
   "version": "3.10.11"
  }
 },
 "nbformat": 4,
 "nbformat_minor": 2
}

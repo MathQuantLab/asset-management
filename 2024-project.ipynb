{
 "cells": [
  {
   "cell_type": "markdown",
   "metadata": {},
   "source": [
    "# Asset Management & Sustainable Finance\n",
    "- Sarahnour Ghaith\n",
    "- Thomas Roiseux"
   ]
  },
  {
   "cell_type": "code",
   "execution_count": null,
   "metadata": {},
   "outputs": [],
   "source": [
    "import numpy as np"
   ]
  },
  {
   "cell_type": "markdown",
   "metadata": {},
   "source": [
    "## Exercise 1 - Portfolio optimization and risk budgeting"
   ]
  },
  {
   "cell_type": "code",
   "execution_count": null,
   "metadata": {},
   "outputs": [],
   "source": [
    "C = np.array(\n",
    "    [\n",
    "        [1, 0.5, 0.3, 0.6, 0.4],\n",
    "        [0.5, 1, 0.3, 0.6, 0.3],\n",
    "        [0.3, 0.6, 1, 0.6, 0.7],\n",
    "        [0.6, 0.6, 0.6, 1, 0.3],\n",
    "        [0.4, 0.3, 0.7, 0.3, 1],\n",
    "    ]\n",
    ")\n",
    "\n",
    "r = 0.02  # risk free rate\n",
    "\n",
    "print(C)"
   ]
  }
 ],
 "metadata": {
  "kernelspec": {
   "display_name": ".venv",
   "language": "python",
   "name": "python3"
  },
  "language_info": {
   "codemirror_mode": {
    "name": "ipython",
    "version": 3
   },
   "file_extension": ".py",
   "mimetype": "text/x-python",
   "name": "python",
   "nbconvert_exporter": "python",
   "pygments_lexer": "ipython3",
   "version": "3.10.11"
  }
 },
 "nbformat": 4,
 "nbformat_minor": 2
}

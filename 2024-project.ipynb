{
 "cells": [
  {
   "cell_type": "markdown",
   "metadata": {},
   "source": [
    "# Asset Management & Sustainable Finance\n",
    "- Sarahnour Ghaith\n",
    "- Thomas Roiseux"
   ]
  },
  {
   "cell_type": "code",
   "execution_count": null,
   "metadata": {},
   "outputs": [],
   "source": [
    "import cvxpy as cp\n",
    "import numpy as np\n",
    "\n",
    "from typing import Dict, List"
   ]
  },
  {
   "cell_type": "markdown",
   "metadata": {},
   "source": [
    "## Exercise 1 - Portfolio optimization and risk budgeting"
   ]
  },
  {
   "cell_type": "code",
   "execution_count": null,
   "metadata": {},
   "outputs": [],
   "source": [
    "C = np.array(\n",
    "    [\n",
    "        [1, 0.5, 0.3, 0.6, 0.4],\n",
    "        [0.5, 1, 0.3, 0.6, 0.3],\n",
    "        [0.3, 0.3, 1, 0.6, 0.7],\n",
    "        [0.6, 0.6, 0.6, 1, 0.3],\n",
    "        [0.4, 0.3, 0.7, 0.3, 1],\n",
    "    ],\n",
    "    dtype=np.float64,\n",
    ")\n",
    "\n",
    "r = 0.02  # risk free rate\n",
    "\n",
    "mu = np.array([0.05, 0.05, 0.06, 0.04, 0.07], dtype=np.float64).T\n",
    "sigma = np.array([0.2, 0.22, 0.25, 0.18, 0.45], dtype=np.float64).T"
   ]
  },
  {
   "cell_type": "markdown",
   "metadata": {},
   "source": [
    "### Question 1.a"
   ]
  },
  {
   "cell_type": "code",
   "execution_count": null,
   "metadata": {},
   "outputs": [],
   "source": [
    "cov_mat = np.zeros_like(C)  # Covariance matrix\n",
    "\n",
    "for i in range(len(C)):\n",
    "    for j in range(i, len(C)):\n",
    "        cov_mat[i, j] = C[i, j] * sigma[i] * sigma[j]\n",
    "        cov_mat[j, i] = cov_mat[i, j]\n",
    "\n",
    "\n",
    "print(cov_mat)"
   ]
  },
  {
   "cell_type": "markdown",
   "metadata": {},
   "source": [
    "## Question 1.b"
   ]
  },
  {
   "cell_type": "code",
   "execution_count": null,
   "metadata": {},
   "outputs": [],
   "source": [
    "sr = (mu - r) / sigma  # Sharpe ratio\n",
    "\n",
    "for k in range(len(mu)):\n",
    "    print(\"Sharpe ratio for asset\", k + 1, \":\", sr[k])"
   ]
  },
  {
   "cell_type": "markdown",
   "metadata": {},
   "source": [
    "### Question 2.a"
   ]
  },
  {
   "cell_type": "code",
   "execution_count": null,
   "metadata": {},
   "outputs": [],
   "source": [
    "optimal_x: Dict[float, np.ndarray] = {}\n",
    "\n",
    "for gamma in [0, 0.1, 0.2, 0.5, 1]:\n",
    "\n",
    "    x = cp.Variable(len(mu), \"x\")  # Portfolio weights\n",
    "\n",
    "    objective = cp.Minimize(\n",
    "        0.5 * cp.quad_form(x, cov_mat) - gamma * cp.matmul(mu - r, x)\n",
    "    )\n",
    "    constraints = [cp.sum(x) == 1, -10 <= x, x <= 10]\n",
    "    problem = cp.Problem(objective, constraints)\n",
    "\n",
    "    problem.solve()\n",
    "\n",
    "    print(\"Optimal portfolio for gamma =\", gamma, \":\", x.value)\n",
    "\n",
    "    optimal_x[gamma] = x.value"
   ]
  }
 ],
 "metadata": {
  "kernelspec": {
   "display_name": ".venv",
   "language": "python",
   "name": "python3"
  },
  "language_info": {
   "codemirror_mode": {
    "name": "ipython",
    "version": 3
   },
   "file_extension": ".py",
   "mimetype": "text/x-python",
   "name": "python",
   "nbconvert_exporter": "python",
   "pygments_lexer": "ipython3",
   "version": "3.10.11"
  }
 },
 "nbformat": 4,
 "nbformat_minor": 2
}

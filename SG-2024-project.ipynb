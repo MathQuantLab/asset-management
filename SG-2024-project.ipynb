{
 "cells": [
  {
   "cell_type": "markdown",
   "metadata": {},
   "source": [
    "<font color=\"red\" >\n",
    "\n",
    "# Asset Management & Sustainable Finance - Final Examination\n",
    "</font>"
   ]
  },
  {
   "cell_type": "markdown",
   "metadata": {},
   "source": [
    "**Importing necessary libraries**"
   ]
  },
  {
   "cell_type": "code",
   "execution_count": 2,
   "metadata": {},
   "outputs": [],
   "source": [
    "import pandas as pd\n",
    "import numpy as np\n",
    "\n",
    "import cvxopt as opt # library for convex optimization"
   ]
  },
  {
   "cell_type": "markdown",
   "metadata": {},
   "source": [
    "<font color=\"red\">\n",
    "\n",
    "## 1. Portfolio optimization and risk budgeting\n",
    "</font>"
   ]
  },
  {
   "cell_type": "markdown",
   "metadata": {},
   "source": [
    "The vector of the expected returns is : \n",
    "$$ \\mu = \\left( 0.05, 0.05, 0.06, 0.04, 0.07\\right)$$\n",
    "\n",
    "The vector of the standard deviations is :\n",
    "$$ \\sigma = \\left( 0.20, 0.22, 0.25, 0.18, 0.45\\right)$$\n",
    "\n",
    "The correlation matrix of the asset returns is :\n",
    "$$ \\mathbb{C} = \\left( \\rho_{i,j} \\right) = \\begin{pmatrix} 1 & & & & \\\\ 0.5 & 1 & & & \\\\ 0.3 & 0.3 & 1 & & \\\\ 0.6 & 0.6 & 0.6 & 1 & \\\\ 0.4 & 0.3 & 0.7 & 0.3 & 1 \\end{pmatrix} = \\frac{cov(\\mu_i, \\mu_j)}{\\sigma_i \\sigma_j}$$\n",
    "\n",
    "And the covariance matrix of the asset returns is :\n",
    "$$ \\Sigma = \\mathbb{E} \\left[ \\left( R - \\mu \\right) \\left( R - \\mu \\right)^T \\right] = cov\\left(\\mu_i, \\mu_j \\right) = \\sigma \\mathbb{C} \\sigma^T $$"
   ]
  },
  {
   "cell_type": "code",
   "execution_count": 19,
   "metadata": {},
   "outputs": [],
   "source": [
    "mu = np.array([0.05, 0.05, 0.06, 0.04, 0.07]) # expected returns\n",
    "correlation = np.array([[1, 0.5, 0.3, 0.6, 0.4],\n",
    "                [0.5, 1, 0.3, 0.6, 0.3],\n",
    "                [0.3, 0.3, 1, 0.6, 0.7],\n",
    "                [0.6, 0.6, 0.6, 1, 0.3],\n",
    "                [0.4, 0.3, 0.7, 0.3, 1]],\n",
    "                dtype=np.float64,)       # correlation matrix\n",
    "sigma = np.array([0.2, 0.22, 0.25, 0.18, 0.45]) # standard deviations\n",
    "\n",
    "r_f = 0.02 # risk-free rate"
   ]
  },
  {
   "cell_type": "markdown",
   "metadata": {},
   "source": [
    "<font color=\"green\">\n",
    "\n",
    "#### 1.(a) Covariance matrix\n",
    "</font>"
   ]
  },
  {
   "cell_type": "code",
   "execution_count": 20,
   "metadata": {},
   "outputs": [
    {
     "name": "stdout",
     "output_type": "stream",
     "text": [
      "[[0.04    0.022   0.015   0.0216  0.036  ]\n",
      " [0.022   0.0484  0.0165  0.02376 0.0297 ]\n",
      " [0.015   0.0165  0.0625  0.027   0.07875]\n",
      " [0.0216  0.02376 0.027   0.0324  0.0243 ]\n",
      " [0.036   0.0297  0.07875 0.0243  0.2025 ]]\n"
     ]
    }
   ],
   "source": [
    "# calculate the covariance matrix\n",
    "covariance = np.zeros_like(correlation)\n",
    "for i in range(len(correlation)):\n",
    "    for j in range(len(correlation)):\n",
    "        covariance[i][j] = correlation[i][j] * sigma[i] * sigma[j]\n",
    "print(covariance)"
   ]
  },
  {
   "cell_type": "markdown",
   "metadata": {},
   "source": [
    "<font color=\"green\">\n",
    "\n",
    "#### 1.(b) Sharpe ratio\n",
    "</font>"
   ]
  },
  {
   "cell_type": "markdown",
   "metadata": {},
   "source": [
    "The Sharpe ratio of an asset is a performance metric of an investment that adjustss the returns of an investment for the risk-free rate of return. \n",
    "\n",
    "The Sharpe ratio is defined as :\n",
    "$$ S_i = \\frac{\\mu_i - r_f}{\\sigma_i}$$"
   ]
  },
  {
   "cell_type": "markdown",
   "metadata": {},
   "source": [
    "We compute the Sharpe ratio for each asset:"
   ]
  },
  {
   "cell_type": "code",
   "execution_count": 23,
   "metadata": {},
   "outputs": [
    {
     "name": "stdout",
     "output_type": "stream",
     "text": [
      "The Sharpe ratios vector:\n",
      "[0.15       0.13636364 0.16       0.11111111 0.11111111]\n"
     ]
    }
   ],
   "source": [
    "S = (mu - r_f) / sigma\n",
    "print(\"The Sharpe ratios vector:\")\n",
    "print(S)"
   ]
  },
  {
   "cell_type": "markdown",
   "metadata": {},
   "source": [
    "<font color=\"green\">\n",
    "\n",
    "#### 2. Long/Short MVO portfolios\n",
    "</font>"
   ]
  },
  {
   "cell_type": "markdown",
   "metadata": {},
   "source": [
    "2.(a) \n",
    "The general formulation of a QP problem is:\n",
    "\n",
    "$$ x^* = \\argmin_x \\left( \\frac{1}{2} x^{\\mathsf T} Q x - x^{\\mathsf T} R \\right)$$\n",
    "\n",
    "$$\\text{u.c.} \\quad Sx \\leq T $$\n",
    "\n",
    "Which corresponds to : \n",
    "\n",
    "$$ x^* = \\argmin_x \\left( \\frac{1}{2} x^{\\mathsf T} Q x - x^{\\mathsf T} R \\right)$$\n",
    "\n",
    "$$\\text{u.c.} \\left \\{ \\begin{array}{ccc} A x & = & B \\\\ C x & \\leq & D \\\\ x^- & \\leq & x & \\leq &  x^+ \\end{array} \\right.$$\n",
    "\n",
    "with $$ Sx \\leq T \\iff \\begin{bmatrix} - A \\\\ A \\\\ C \\\\ - I_n \\\\ I_n \\end{bmatrix} x \\leq \\begin{bmatrix} - B \\\\ B \\\\ D \\\\ - x^- \\\\ x^+ \\end{bmatrix}$$\n"
   ]
  },
  {
   "cell_type": "markdown",
   "metadata": {},
   "source": [
    "We consider the following problem  of the mean-variance optimization problem with a long/short constraint on the weights of the assets: \n",
    "\n",
    "$$ x^* = \\argmin_x \\left( \\frac{1}{2} x^{\\mathsf T} \\Sigma x - \\gamma x^{\\mathsf T} (\\mu - r1_5) \\right)$$\n",
    "\n",
    "$$\\text{s.t.} \\left \\{ \\begin{array}{ccc} \\sum_{i=1}^{n} x_i = & 1 \\\\ -10 & \\leq & x & \\leq &  10 \\end{array} \\right.$$"
   ]
  },
  {
   "cell_type": "code",
   "execution_count": 25,
   "metadata": {},
   "outputs": [],
   "source": [
    "def solve_qp(Q, R, A=None, b=None, C=None, D=None, x_min=None, x_max=None):\n",
    "    \"\"\"\n",
    "    Solve a quadratic programming problem:\n",
    "        minimize    (1/2)x^T Q x - x^T R\n",
    "        subject to  Ax = b\n",
    "                    Cx <= D\n",
    "                    x^- <= x <= x^+\n",
    "    Parameters:\n",
    "        Q: numpy array (n x n)\n",
    "            Symmetric positive semi-definite matrix defining the quadratic term.\n",
    "        R: numpy array (n x 1)\n",
    "            Linear term in the objective function.\n",
    "        A: numpy array (p x n), optional\n",
    "            Matrix defining the equality constraints.\n",
    "        b: numpy array (p x 1), optional\n",
    "            Vector defining the equality constraints.\n",
    "        C: numpy array (m x n), optional\n",
    "            Matrix defining the inequality constraints.\n",
    "        D: numpy array (m x 1), optional\n",
    "            Vector defining the inequality constraints.\n",
    "        x_min: numpy array (n x 1), optional\n",
    "            Vector defining the lower bounds for each variable.\n",
    "        x_max: numpy array (n x 1), optional\n",
    "            Vector defining the upper bounds for each variable.\n",
    "    Returns:\n",
    "        sol: dict\n",
    "            Dictionary containing the solution:\n",
    "                - 'x': optimal solution vector\n",
    "                - 'optimal_value': optimal value of the objective function\n",
    "    \"\"\"\n",
    "    n = Q.shape[0]\n",
    "    \n",
    "    # Constructing the quadratic objective term\n",
    "    P = opt.matrix(0.5 * (Q + Q.T))\n",
    "    q = opt.matrix(-R)\n",
    "    \n",
    "    # Constructing the inequality constraints\n",
    "    if C is not None and D is not None:\n",
    "        G = opt.matrix(C)\n",
    "        h = opt.matrix(D)\n",
    "    else:\n",
    "        G = opt.matrix(0.0, (0, n))\n",
    "        h = opt.matrix(0.0, (0, 1))\n",
    "    \n",
    "    # Constructing the equality constraints\n",
    "    if A is not None and b is not None:\n",
    "        A_eq = opt.matrix(A)\n",
    "        b_eq = opt.matrix(b)\n",
    "    else:\n",
    "        A_eq = opt.matrix(0.0, (0, n))\n",
    "        b_eq = opt.matrix(0.0, (0, 1))\n",
    "    \n",
    "    # Constructing the bounds\n",
    "    if x_min is not None and x_max is not None:\n",
    "        G_bounds = opt.matrix(-1.0 * np.eye(n))\n",
    "        h_min = opt.matrix(-1.0 * x_min)\n",
    "        G_bounds = opt.matrix(np.eye(n))\n",
    "        h_max = opt.matrix(x_max)\n",
    "        G = opt.matrix([G, G_bounds])\n",
    "        h = opt.matrix([h, h_max])\n",
    "    \n",
    "    sol = opt.solvers.qp(P, q, G, h, A_eq, b_eq)\n",
    "    \n",
    "    return {\n",
    "        'x': np.array(sol['x']),\n",
    "        'optimal_value': sol['primal objective']\n",
    "    }"
   ]
  },
  {
   "cell_type": "markdown",
   "metadata": {},
   "source": [
    "<font color=\"red\">\n",
    "\n",
    "## 2. Equity portfolio optimization with net zero objectives\n",
    "</font>"
   ]
  },
  {
   "cell_type": "code",
   "execution_count": 35,
   "metadata": {},
   "outputs": [],
   "source": [
    "beta = np.array([0.95, 1.05, 0.45, 1.40, 1.15, 0.75, 1.00, 1.20, 1.10, 0.8, 0.7]).reshape(-1, 1)\n",
    "sigma_mat = np.array([0.262, 0.329, 0.211, 0.338, 0.231, 0.259, 0.265, 0.271, 0.301, 0.274, 0.228])\n",
    "sigma_mat = D**2 # to the power of 2\n",
    "\n",
    "sigma_m = 0.2\n",
    "\n",
    "cov_mat = (sigma_m**2) * beta.dot(beta.T) \n",
    "for i in range(len(cov_mat)):\n",
    "    cov_mat[i][i] += D[i]"
   ]
  },
  {
   "cell_type": "code",
   "execution_count": 36,
   "metadata": {},
   "outputs": [
    {
     "ename": "IndexError",
     "evalue": "too many indices for array: array is 1-dimensional, but 2 were indexed",
     "output_type": "error",
     "traceback": [
      "\u001b[0;31m---------------------------------------------------------------------------\u001b[0m",
      "\u001b[0;31mIndexError\u001b[0m                                Traceback (most recent call last)",
      "Cell \u001b[0;32mIn[36], line 5\u001b[0m\n\u001b[1;32m      3\u001b[0m \u001b[38;5;28;01mfor\u001b[39;00m i \u001b[38;5;129;01min\u001b[39;00m \u001b[38;5;28mrange\u001b[39m(\u001b[38;5;28mlen\u001b[39m(corr_mat)):\n\u001b[1;32m      4\u001b[0m     \u001b[38;5;28;01mfor\u001b[39;00m j \u001b[38;5;129;01min\u001b[39;00m \u001b[38;5;28mrange\u001b[39m(i, \u001b[38;5;28mlen\u001b[39m(corr_mat)):\n\u001b[0;32m----> 5\u001b[0m         corr_mat[i, j] \u001b[38;5;241m=\u001b[39m cov_mat[i, j] \u001b[38;5;241m/\u001b[39m (\u001b[43msigma_mat\u001b[49m\u001b[43m[\u001b[49m\u001b[43mi\u001b[49m\u001b[43m,\u001b[49m\u001b[43m \u001b[49m\u001b[43mi\u001b[49m\u001b[43m]\u001b[49m \u001b[38;5;241m*\u001b[39m sigma_mat[j, j])\n\u001b[1;32m      6\u001b[0m         corr_mat[j, i] \u001b[38;5;241m=\u001b[39m corr_mat[i, j]\n",
      "\u001b[0;31mIndexError\u001b[0m: too many indices for array: array is 1-dimensional, but 2 were indexed"
     ]
    }
   ],
   "source": [
    "corr_mat = np.zeros_like(cov_mat)\n",
    "\n",
    "for i in range(len(corr_mat)):\n",
    "    for j in range(i, len(corr_mat)):\n",
    "        corr_mat[i, j] = cov_mat[i, j] / (sigma_mat[i, i] * sigma_mat[j, j])\n",
    "        corr_mat[j, i] = corr_mat[i, j]"
   ]
  },
  {
   "cell_type": "code",
   "execution_count": 37,
   "metadata": {},
   "outputs": [
    {
     "data": {
      "text/plain": [
       "array([0.32364178, 0.39030885, 0.22939268, 0.43891229, 0.32597699,\n",
       "       0.29930085, 0.33200151, 0.36199586, 0.37282838, 0.31729482,\n",
       "       0.26755186])"
      ]
     },
     "execution_count": 37,
     "metadata": {},
     "output_type": "execute_result"
    }
   ],
   "source": [
    "sector_volatility = np.sqrt(np.diag(cov_mat))\n",
    "sector_volatility"
   ]
  },
  {
   "cell_type": "markdown",
   "metadata": {},
   "source": [
    "### Question 1.b"
   ]
  },
  {
   "cell_type": "markdown",
   "metadata": {},
   "source": [
    "The volatility of the benchmark can be computed as follows:\n",
    "$$ \\sigma_{\\text{benchmark}} = \\sqrt{b^{\\mathsf T} \\Sigma b}$$\n",
    "where $b$ is the vector of the benchmark weights."
   ]
  },
  {
   "cell_type": "code",
   "execution_count": 38,
   "metadata": {},
   "outputs": [
    {
     "name": "stdout",
     "output_type": "stream",
     "text": [
      "The volatility of the benchmark portfolio is:  0.22211447894047792\n"
     ]
    }
   ],
   "source": [
    "# 1.(b)\n",
    "b = np.array([8.20, 12.30, 6.90, 3.10, 13.20, 12.60, 10.20, 23.00, 4.50, 2.80, 3.20])\n",
    "b = b / 100 # convert from percentage to decimal\n",
    "sigma_benchmark = np.sqrt((b.T).dot(cov_mat).dot(b))\n",
    "print(\"The volatility of the benchmark portfolio is: \", sigma_benchmark)"
   ]
  },
  {
   "cell_type": "markdown",
   "metadata": {},
   "source": [
    "The benchmark volatility arises from its specific asset composition, determined by pre-defined weights across various sectors or assets, and is calculated using the covariance matrix of returns and these weights. It captures the integrated risk of its constituent assets. \n",
    "\n",
    "Conversely, market volatility $\\sigma_m$ represents a more comprehensive risk measure, often reflected by a market index or broad market proxy, providing a macro-level perspective on overall market risk, as opposed to the specific risk profile of any individual portfolio composition."
   ]
  },
  {
   "cell_type": "markdown",
   "metadata": {},
   "source": [
    "## Question 2.a"
   ]
  },
  {
   "cell_type": "markdown",
   "metadata": {},
   "source": [
    "The investor's objective is to is to minimize the volatility of the tracking error relative to the benchmark and to meet the decarbonization constraint based on Scope 1 and 2 emissions.\n",
    "\n",
    "The investor’s decarbonization pathway follows the CTB trajectory, meaning that the carbon in- tensity of the investor’s portfolio at time t must be less than a threshold $\\mathcal{CI}^⋆ (t)$. \n",
    "\n",
    "- **Decarbonization constraint** based on Scope 1 and 2 emissions:\n",
    "$$ \\mathcal{CI}(t,w) \\leq \\mathcal{CI}^⋆ (t) := (1-30\\%)(1-7\\%)^t \\mathcal{CI}(b)$$"
   ]
  },
  {
   "cell_type": "markdown",
   "metadata": {},
   "source": [
    "**General definition of the QP Problem**: \n",
    "\n",
    "$$ w^* = \\argmin \\frac{1}{2} w^\\mathsf{T} Qw - w^\\mathsf{T}R$$\n",
    "\n",
    "$$\\text{s.t.} \\left \\{ \\begin{array}{ccc} A x & = & B \\\\ C x & \\leq & D \\\\ x^- & \\leq & x & \\leq &  x^+ \\end{array} \\right.$$\n",
    "\n",
    "\n",
    "**where in our case** : \n",
    "- the equality constraint is the budget constraint $ \\left( \\sum_{i=1}^n w_i = 1  \\right) $ : $ A = 1_n^\\mathsf{T} $ and $ B = 1 $\n",
    "- the bounds correspond to the no short-selling restriction (long-only constraint) $ \\left( 0 \\leq w_i \\leq 1 \\right) $ : $ w^- = 0_n $ and $ w^+ = 1_n $\n",
    "- minimmization of the tracking error volatility : $ Q = \\Sigma $ and $ R = 0_n $\n",
    "- the decarbonization constraint : $ C = \\mathcal{CI}^\\mathsf{T} $ and $ D = \\mathcal{CI}^⋆ $"
   ]
  }
 ],
 "metadata": {
  "kernelspec": {
   "display_name": "Python 3",
   "language": "python",
   "name": "python3"
  },
  "language_info": {
   "codemirror_mode": {
    "name": "ipython",
    "version": 3
   },
   "file_extension": ".py",
   "mimetype": "text/x-python",
   "name": "python",
   "nbconvert_exporter": "python",
   "pygments_lexer": "ipython3",
   "version": "3.10.8"
  }
 },
 "nbformat": 4,
 "nbformat_minor": 2
}

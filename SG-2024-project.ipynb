{
 "cells": [
  {
   "cell_type": "markdown",
   "metadata": {},
   "source": [
    "<font color=\"red\" >\n",
    "\n",
    "# Asset Management & Sustainable Finance - Final Examination\n",
    "</font>"
   ]
  },
  {
   "cell_type": "markdown",
   "metadata": {},
   "source": [
    "<font color=\"red\">\n",
    "\n",
    "## 1. Portfolio optimization and risk budgeting\n",
    "</font>"
   ]
  },
  {
   "cell_type": "markdown",
   "metadata": {},
   "source": [
    "The vector of the expected returns is : \n",
    "$$ \\mu = \\left( 0.05, 0.05, 0.06, 0.04, 0.07\\right)$$\n",
    "\n",
    "The vector of the standard deviations is :\n",
    "$$ \\sigma = \\left( 0.20, 0.22, 0.25, 0.18, 0.45\\right)$$\n",
    "\n",
    "The correlation matrix of the asset returns is :\n",
    "$$ \\mathbb{C} = \\left( \\rho_{i,j} \\right) = \\begin{pmatrix} 1 & & & & \\\\ 0.5 & 1 & & & \\\\ 0.3 & 0.3 & 1 & & \\\\ 0.6 & 0.6 & 0.6 & 1 & \\\\ 0.4 & 0.3 & 0.7 & 0.3 & 1 \\end{pmatrix} = \\frac{cov(\\mu_i, \\mu_j)}{\\sigma_i \\sigma_j}$$\n",
    "\n",
    "And the covariance matrix of the asset returns is :\n",
    "$$ \\Sigma = \\mathbb{E} \\left[ \\left( R - \\mu \\right) \\left( R - \\mu \\right)^T \\right] = cov\\left(\\mu_i, \\mu_j \\right) = \\sigma \\mathbb{C} \\sigma^T $$"
   ]
  },
  {
   "cell_type": "code",
   "execution_count": 3,
   "metadata": {},
   "outputs": [
    {
     "data": {
      "text/plain": [
       "[[0.04000000000000001,\n",
       "  0.022000000000000002,\n",
       "  0.015,\n",
       "  0.021599999999999998,\n",
       "  0.03600000000000001],\n",
       " [0.022000000000000002, 0.0484, 0.0165, 0.02376, 0.0297],\n",
       " [0.015, 0.0165, 0.0625, 0.027, 0.07875],\n",
       " [0.0216, 0.02376, 0.027, 0.0324, 0.0243],\n",
       " [0.036000000000000004, 0.0297, 0.07875, 0.024300000000000002, 0.2025]]"
      ]
     },
     "execution_count": 3,
     "metadata": {},
     "output_type": "execute_result"
    }
   ],
   "source": [
    "mu = [0.05, 0.05, 0.06, 0.04, 0.07] # expected returns\n",
    "correlation = [[1, 0.5, 0.3, 0.6, 0.4],\n",
    "                [0.5, 1, 0.3, 0.6, 0.3],\n",
    "                [0.3, 0.3, 1, 0.6, 0.7],\n",
    "                [0.6, 0.6, 0.6, 1, 0.3],\n",
    "                [0.4, 0.3, 0.7, 0.3, 1]] # correlation matrix\n",
    "sigma = [0.2, 0.22, 0.25, 0.18, 0.45] # standard deviations\n",
    "\n",
    "# calculate the covariance matrix\n",
    "covariance = []\n",
    "for i in range(len(correlation)):\n",
    "    covariance.append([correlation[i][j] * sigma[i] * sigma[j] for j in range(len(correlation))])\n",
    "covariance"
   ]
  },
  {
   "cell_type": "code",
   "execution_count": null,
   "metadata": {},
   "outputs": [],
   "source": []
  }
 ],
 "metadata": {
  "kernelspec": {
   "display_name": "Python 3",
   "language": "python",
   "name": "python3"
  },
  "language_info": {
   "codemirror_mode": {
    "name": "ipython",
    "version": 3
   },
   "file_extension": ".py",
   "mimetype": "text/x-python",
   "name": "python",
   "nbconvert_exporter": "python",
   "pygments_lexer": "ipython3",
   "version": "3.10.8"
  }
 },
 "nbformat": 4,
 "nbformat_minor": 2
}

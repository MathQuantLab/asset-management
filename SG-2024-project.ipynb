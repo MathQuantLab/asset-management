{
 "cells": [
  {
   "cell_type": "markdown",
   "metadata": {},
   "source": [
    "<font color=\"red\" >\n",
    "\n",
    "# Asset Management & Sustainable Finance - Final Examination\n",
    "</font>"
   ]
  },
  {
   "cell_type": "markdown",
   "metadata": {},
   "source": [
    "**Importing necessary libraries**"
   ]
  },
  {
   "cell_type": "code",
   "execution_count": 24,
   "metadata": {},
   "outputs": [],
   "source": [
    "import pandas as pd\n",
    "import numpy as np\n",
    "\n",
    "import cvxopt as opt # library for convex optimization"
   ]
  },
  {
   "cell_type": "markdown",
   "metadata": {},
   "source": [
    "<font color=\"red\">\n",
    "\n",
    "## 1. Portfolio optimization and risk budgeting\n",
    "</font>"
   ]
  },
  {
   "cell_type": "markdown",
   "metadata": {},
   "source": [
    "The vector of the expected returns is : \n",
    "$$ \\mu = \\left( 0.05, 0.05, 0.06, 0.04, 0.07\\right)$$\n",
    "\n",
    "The vector of the standard deviations is :\n",
    "$$ \\sigma = \\left( 0.20, 0.22, 0.25, 0.18, 0.45\\right)$$\n",
    "\n",
    "The correlation matrix of the asset returns is :\n",
    "$$ \\mathbb{C} = \\left( \\rho_{i,j} \\right) = \\begin{pmatrix} 1 & & & & \\\\ 0.5 & 1 & & & \\\\ 0.3 & 0.3 & 1 & & \\\\ 0.6 & 0.6 & 0.6 & 1 & \\\\ 0.4 & 0.3 & 0.7 & 0.3 & 1 \\end{pmatrix} = \\frac{cov(\\mu_i, \\mu_j)}{\\sigma_i \\sigma_j}$$\n",
    "\n",
    "And the covariance matrix of the asset returns is :\n",
    "$$ \\Sigma = \\mathbb{E} \\left[ \\left( R - \\mu \\right) \\left( R - \\mu \\right)^T \\right] = cov\\left(\\mu_i, \\mu_j \\right) = \\sigma \\mathbb{C} \\sigma^T $$"
   ]
  },
  {
   "cell_type": "code",
   "execution_count": 19,
   "metadata": {},
   "outputs": [],
   "source": [
    "mu = np.array([0.05, 0.05, 0.06, 0.04, 0.07]) # expected returns\n",
    "correlation = np.array([[1, 0.5, 0.3, 0.6, 0.4],\n",
    "                [0.5, 1, 0.3, 0.6, 0.3],\n",
    "                [0.3, 0.3, 1, 0.6, 0.7],\n",
    "                [0.6, 0.6, 0.6, 1, 0.3],\n",
    "                [0.4, 0.3, 0.7, 0.3, 1]],\n",
    "                dtype=np.float64,)       # correlation matrix\n",
    "sigma = np.array([0.2, 0.22, 0.25, 0.18, 0.45]) # standard deviations\n",
    "\n",
    "r_f = 0.02 # risk-free rate"
   ]
  },
  {
   "cell_type": "markdown",
   "metadata": {},
   "source": [
    "<font color=\"green\">\n",
    "\n",
    "#### 1.(a) Covariance matrix\n",
    "</font>"
   ]
  },
  {
   "cell_type": "code",
   "execution_count": 20,
   "metadata": {},
   "outputs": [
    {
     "name": "stdout",
     "output_type": "stream",
     "text": [
      "[[0.04    0.022   0.015   0.0216  0.036  ]\n",
      " [0.022   0.0484  0.0165  0.02376 0.0297 ]\n",
      " [0.015   0.0165  0.0625  0.027   0.07875]\n",
      " [0.0216  0.02376 0.027   0.0324  0.0243 ]\n",
      " [0.036   0.0297  0.07875 0.0243  0.2025 ]]\n"
     ]
    }
   ],
   "source": [
    "# calculate the covariance matrix\n",
    "covariance = np.zeros_like(correlation)\n",
    "for i in range(len(correlation)):\n",
    "    for j in range(len(correlation)):\n",
    "        covariance[i][j] = correlation[i][j] * sigma[i] * sigma[j]\n",
    "print(covariance)"
   ]
  },
  {
   "cell_type": "markdown",
   "metadata": {},
   "source": [
    "<font color=\"green\">\n",
    "\n",
    "#### 1.(b) Sharpe ratio\n",
    "</font>"
   ]
  },
  {
   "cell_type": "markdown",
   "metadata": {},
   "source": [
    "The Sharpe ratio of an asset is a performance metric of an investment that adjustss the returns of an investment for the risk-free rate of return. \n",
    "\n",
    "The Sharpe ratio is defined as :\n",
    "$$ S_i = \\frac{\\mu_i - r_f}{\\sigma_i}$$"
   ]
  },
  {
   "cell_type": "markdown",
   "metadata": {},
   "source": [
    "We compute the Sharpe ratio for each asset:"
   ]
  },
  {
   "cell_type": "code",
   "execution_count": 23,
   "metadata": {},
   "outputs": [
    {
     "name": "stdout",
     "output_type": "stream",
     "text": [
      "The Sharpe ratios vector:\n",
      "[0.15       0.13636364 0.16       0.11111111 0.11111111]\n"
     ]
    }
   ],
   "source": [
    "S = (mu - r_f) / sigma\n",
    "print(\"The Sharpe ratios vector:\")\n",
    "print(S)"
   ]
  },
  {
   "cell_type": "markdown",
   "metadata": {},
   "source": [
    "<font color=\"green\">\n",
    "\n",
    "#### 2. Long/Short MVO portfolios\n",
    "</font>"
   ]
  },
  {
   "cell_type": "markdown",
   "metadata": {},
   "source": [
    "2.(a) \n",
    "The general formulation of a QP problem is:\n",
    "\n",
    "$$ x^* = \\argmin_x \\left( \\frac{1}{2} x^{\\mathsf T} Q x - x^{\\mathsf T} R \\right)$$\n",
    "\n",
    "$$\\text{u.c.} \\quad Sx \\leq T $$\n",
    "\n",
    "Which corresponds to : \n",
    "\n",
    "$$ x^* = \\argmin_x \\left( \\frac{1}{2} x^{\\mathsf T} Q x - x^{\\mathsf T} R \\right)$$\n",
    "\n",
    "$$\\text{u.c.} \\left \\{ \\begin{array}{ccc} A x & = & B \\\\ C x & \\leq & D \\\\ x^- & \\leq & x & \\leq &  x^+ \\end{array} \\right.$$\n",
    "\n",
    "with $$ Sx \\leq T \\iff \\begin{bmatrix} - A \\\\ A \\\\ C \\\\ - I_n \\\\ I_n \\end{bmatrix} x \\leq \\begin{bmatrix} - B \\\\ B \\\\ D \\\\ - x^- \\\\ x^+ \\end{bmatrix}$$\n"
   ]
  },
  {
   "cell_type": "markdown",
   "metadata": {},
   "source": [
    "We consider the following problem  of the mean-variance optimization problem with a long/short constraint on the weights of the assets: \n",
    "\n",
    "$$ x^* = \\argmin_x \\left( \\frac{1}{2} x^{\\mathsf T} \\Sigma x - \\gamma x^{\\mathsf T} (\\mu - r1_5) \\right)$$\n",
    "\n",
    "$$\\text{s.t.} \\left \\{ \\begin{array}{ccc} \\sum_{i=1}^{n} x_i = & 1 \\\\ -10 & \\leq & x & \\leq &  10 \\end{array} \\right.$$"
   ]
  },
  {
   "cell_type": "code",
   "execution_count": 25,
   "metadata": {},
   "outputs": [],
   "source": [
    "def solve_qp(Q, R, A=None, b=None, C=None, D=None, x_min=None, x_max=None):\n",
    "    \"\"\"\n",
    "    Solve a quadratic programming problem:\n",
    "        minimize    (1/2)x^T Q x - x^T R\n",
    "        subject to  Ax = b\n",
    "                    Cx <= D\n",
    "                    x^- <= x <= x^+\n",
    "    Parameters:\n",
    "        Q: numpy array (n x n)\n",
    "            Symmetric positive semi-definite matrix defining the quadratic term.\n",
    "        R: numpy array (n x 1)\n",
    "            Linear term in the objective function.\n",
    "        A: numpy array (p x n), optional\n",
    "            Matrix defining the equality constraints.\n",
    "        b: numpy array (p x 1), optional\n",
    "            Vector defining the equality constraints.\n",
    "        C: numpy array (m x n), optional\n",
    "            Matrix defining the inequality constraints.\n",
    "        D: numpy array (m x 1), optional\n",
    "            Vector defining the inequality constraints.\n",
    "        x_min: numpy array (n x 1), optional\n",
    "            Vector defining the lower bounds for each variable.\n",
    "        x_max: numpy array (n x 1), optional\n",
    "            Vector defining the upper bounds for each variable.\n",
    "    Returns:\n",
    "        sol: dict\n",
    "            Dictionary containing the solution:\n",
    "                - 'x': optimal solution vector\n",
    "                - 'optimal_value': optimal value of the objective function\n",
    "    \"\"\"\n",
    "    n = Q.shape[0]\n",
    "    \n",
    "    # Constructing the quadratic objective term\n",
    "    P = opt.matrix(0.5 * (Q + Q.T))\n",
    "    q = opt.matrix(-R)\n",
    "    \n",
    "    # Constructing the inequality constraints\n",
    "    if C is not None and D is not None:\n",
    "        G = opt.matrix(C)\n",
    "        h = opt.matrix(D)\n",
    "    else:\n",
    "        G = opt.matrix(0.0, (0, n))\n",
    "        h = opt.matrix(0.0, (0, 1))\n",
    "    \n",
    "    # Constructing the equality constraints\n",
    "    if A is not None and b is not None:\n",
    "        A_eq = opt.matrix(A)\n",
    "        b_eq = opt.matrix(b)\n",
    "    else:\n",
    "        A_eq = opt.matrix(0.0, (0, n))\n",
    "        b_eq = opt.matrix(0.0, (0, 1))\n",
    "    \n",
    "    # Constructing the bounds\n",
    "    if x_min is not None and x_max is not None:\n",
    "        G_bounds = opt.matrix(-1.0 * np.eye(n))\n",
    "        h_min = opt.matrix(-1.0 * x_min)\n",
    "        G_bounds = opt.matrix(np.eye(n))\n",
    "        h_max = opt.matrix(x_max)\n",
    "        G = opt.matrix([G, G_bounds])\n",
    "        h = opt.matrix([h, h_max])\n",
    "    \n",
    "    sol = opt.solvers.qp(P, q, G, h, A_eq, b_eq)\n",
    "    \n",
    "    return {\n",
    "        'x': np.array(sol['x']),\n",
    "        'optimal_value': sol['primal objective']\n",
    "    }"
   ]
  }
 ],
 "metadata": {
  "kernelspec": {
   "display_name": "Python 3",
   "language": "python",
   "name": "python3"
  },
  "language_info": {
   "codemirror_mode": {
    "name": "ipython",
    "version": 3
   },
   "file_extension": ".py",
   "mimetype": "text/x-python",
   "name": "python",
   "nbconvert_exporter": "python",
   "pygments_lexer": "ipython3",
   "version": "3.10.8"
  }
 },
 "nbformat": 4,
 "nbformat_minor": 2
}

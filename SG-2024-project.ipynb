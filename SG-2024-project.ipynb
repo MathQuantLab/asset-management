{
 "cells": [
  {
   "cell_type": "markdown",
   "metadata": {},
   "source": [
    "<font color=\"red\" >\n",
    "\n",
    "# Asset Management & Sustainable Finance - Final Examination\n",
    "</font>"
   ]
  },
  {
   "cell_type": "markdown",
   "metadata": {},
   "source": [
    "<font color=\"red\">\n",
    "\n",
    "## 1. Portfolio optimization and risk budgeting\n",
    "</font>"
   ]
  },
  {
   "cell_type": "markdown",
   "metadata": {},
   "source": [
    "The vector of expected returns is : \n",
    "$$ \\mu = \\left( 0.05, 0.05, 0.06, 0.04, 0.07\\right)$$\n",
    "\n",
    "And the covariance matrix of the asset returns is :\n",
    "$$ \\Sigma = \\mathbb{E} \\left[ \\left( R - \\mu \\right) \\left( R - \\mu \\right)^T \\right]$$"
   ]
  },
  {
   "cell_type": "code",
   "execution_count": null,
   "metadata": {},
   "outputs": [],
   "source": [
    "#calculate"
   ]
  }
 ],
 "metadata": {
  "language_info": {
   "name": "python"
  }
 },
 "nbformat": 4,
 "nbformat_minor": 2
}

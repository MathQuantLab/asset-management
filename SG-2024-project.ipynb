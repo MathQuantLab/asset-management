{
 "cells": [
  {
   "cell_type": "markdown",
   "metadata": {},
   "source": [
    "<font color=\"red\" >\n",
    "\n",
    "# Asset Management & Sustainable Finance - Final Examination\n",
    "</font>"
   ]
  },
  {
   "cell_type": "markdown",
   "metadata": {},
   "source": [
    "**Importing necessary libraries**"
   ]
  },
  {
   "cell_type": "code",
   "execution_count": 5,
   "metadata": {},
   "outputs": [],
   "source": [
    "import pandas as pd\n",
    "import numpy as np"
   ]
  },
  {
   "cell_type": "markdown",
   "metadata": {},
   "source": [
    "<font color=\"red\">\n",
    "\n",
    "## 1. Portfolio optimization and risk budgeting\n",
    "</font>"
   ]
  },
  {
   "cell_type": "markdown",
   "metadata": {},
   "source": [
    "The vector of the expected returns is : \n",
    "$$ \\mu = \\left( 0.05, 0.05, 0.06, 0.04, 0.07\\right)$$\n",
    "\n",
    "The vector of the standard deviations is :\n",
    "$$ \\sigma = \\left( 0.20, 0.22, 0.25, 0.18, 0.45\\right)$$\n",
    "\n",
    "The correlation matrix of the asset returns is :\n",
    "$$ \\mathbb{C} = \\left( \\rho_{i,j} \\right) = \\begin{pmatrix} 1 & & & & \\\\ 0.5 & 1 & & & \\\\ 0.3 & 0.3 & 1 & & \\\\ 0.6 & 0.6 & 0.6 & 1 & \\\\ 0.4 & 0.3 & 0.7 & 0.3 & 1 \\end{pmatrix} = \\frac{cov(\\mu_i, \\mu_j)}{\\sigma_i \\sigma_j}$$\n",
    "\n",
    "And the covariance matrix of the asset returns is :\n",
    "$$ \\Sigma = \\mathbb{E} \\left[ \\left( R - \\mu \\right) \\left( R - \\mu \\right)^T \\right] = cov\\left(\\mu_i, \\mu_j \\right) = \\sigma \\mathbb{C} \\sigma^T $$"
   ]
  },
  {
   "cell_type": "code",
   "execution_count": 19,
   "metadata": {},
   "outputs": [],
   "source": [
    "mu = np.array([0.05, 0.05, 0.06, 0.04, 0.07]) # expected returns\n",
    "correlation = np.array([[1, 0.5, 0.3, 0.6, 0.4],\n",
    "                [0.5, 1, 0.3, 0.6, 0.3],\n",
    "                [0.3, 0.3, 1, 0.6, 0.7],\n",
    "                [0.6, 0.6, 0.6, 1, 0.3],\n",
    "                [0.4, 0.3, 0.7, 0.3, 1]],\n",
    "                dtype=np.float64,)       # correlation matrix\n",
    "sigma = np.array([0.2, 0.22, 0.25, 0.18, 0.45]) # standard deviations\n",
    "\n",
    "r_f = 0.02 # risk-free rate"
   ]
  },
  {
   "cell_type": "markdown",
   "metadata": {},
   "source": [
    "<font color=\"green\">\n",
    "\n",
    "#### 1.(a) Covariance matrix\n",
    "</font>"
   ]
  },
  {
   "cell_type": "code",
   "execution_count": 20,
   "metadata": {},
   "outputs": [
    {
     "name": "stdout",
     "output_type": "stream",
     "text": [
      "[[0.04    0.022   0.015   0.0216  0.036  ]\n",
      " [0.022   0.0484  0.0165  0.02376 0.0297 ]\n",
      " [0.015   0.0165  0.0625  0.027   0.07875]\n",
      " [0.0216  0.02376 0.027   0.0324  0.0243 ]\n",
      " [0.036   0.0297  0.07875 0.0243  0.2025 ]]\n"
     ]
    }
   ],
   "source": [
    "# calculate the covariance matrix\n",
    "covariance = np.zeros_like(correlation)\n",
    "for i in range(len(correlation)):\n",
    "    for j in range(len(correlation)):\n",
    "        covariance[i][j] = correlation[i][j] * sigma[i] * sigma[j]\n",
    "print(covariance)"
   ]
  },
  {
   "cell_type": "markdown",
   "metadata": {},
   "source": [
    "<font color=\"green\">\n",
    "\n",
    "#### 1.(b) Sharpe ratio\n",
    "</font>"
   ]
  },
  {
   "cell_type": "markdown",
   "metadata": {},
   "source": [
    "The Sharpe ratio of an asset is a performance metric of an investment that adjustss the returns of an investment for the risk-free rate of return. \n",
    "\n",
    "The Sharpe ratio is defined as :\n",
    "$$ S_i = \\frac{\\mu_i - r_f}{\\sigma_i}$$"
   ]
  },
  {
   "cell_type": "markdown",
   "metadata": {},
   "source": [
    "We compute the Sharpe ratio for each asset:"
   ]
  },
  {
   "cell_type": "code",
   "execution_count": 23,
   "metadata": {},
   "outputs": [
    {
     "name": "stdout",
     "output_type": "stream",
     "text": [
      "The Sharpe ratios vector:\n",
      "[0.15       0.13636364 0.16       0.11111111 0.11111111]\n"
     ]
    }
   ],
   "source": [
    "S = (mu - r_f) / sigma\n",
    "print(\"The Sharpe ratios vector:\")\n",
    "print(S)"
   ]
  }
 ],
 "metadata": {
  "kernelspec": {
   "display_name": "Python 3",
   "language": "python",
   "name": "python3"
  },
  "language_info": {
   "codemirror_mode": {
    "name": "ipython",
    "version": 3
   },
   "file_extension": ".py",
   "mimetype": "text/x-python",
   "name": "python",
   "nbconvert_exporter": "python",
   "pygments_lexer": "ipython3",
   "version": "3.10.8"
  }
 },
 "nbformat": 4,
 "nbformat_minor": 2
}
